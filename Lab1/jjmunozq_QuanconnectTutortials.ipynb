{
  "nbformat": 4,
  "nbformat_minor": 0,
  "metadata": {
    "colab": {
      "name": "jjmunozq_QuanconnectTutortials.ipynb",
      "provenance": [],
      "collapsed_sections": []
    },
    "kernelspec": {
      "display_name": "Python 3",
      "language": "python",
      "name": "python3"
    },
    "language_info": {
      "codemirror_mode": {
        "name": "ipython",
        "version": 3
      },
      "file_extension": ".py",
      "mimetype": "text/x-python",
      "name": "python",
      "nbconvert_exporter": "python",
      "pygments_lexer": "ipython3",
      "version": "3.6.4"
    }
  },
  "cells": [
    {
      "cell_type": "markdown",
      "metadata": {
        "id": "eQzBbvyKQymx"
      },
      "source": [
        "<div align=\"center\">\n",
        "<img style=\"display: block; margin: auto;\" alt=\"photo\" src=\"https://cdn.quantconnect.com/web/i/icon.png\">\n",
        "\n",
        "Quantconnect\n",
        "\n",
        "Introduction to Financial Python\n",
        "</div>\n",
        "\n",
        "# 01 Data Types and Data Structures\n",
        "\n",
        "# Introduction\n",
        "\n",
        "This tutorial provides a basic introduction to the Python programming language. If you are new to Python, you should run the code snippets while reading this tutorial. If you are an advanced Python user, please feel free to skip this chapter.\n",
        "\n",
        "# Basic Variable Types\n",
        "The basic types of variables in Python are: strings, integers, floating point numbers and booleans.\n",
        "\n",
        "Strings in python are identified as a contiguous set of characters represented in either single quotes (' ') or double quotes (\" \").\n"
      ]
    },
    {
      "cell_type": "code",
      "metadata": {
        "colab": {
          "base_uri": "https://localhost:8080/"
        },
        "id": "N5t-UrcfOqid",
        "outputId": "8aa352f4-95e0-4f21-990a-fb85fd54d274"
      },
      "source": [
        "my_string1 = 'Welcome to'\n",
        "my_string2 = \"QuantConnect\"\n",
        "print(my_string1 + ' ' + my_string2)"
      ],
      "execution_count": null,
      "outputs": [
        {
          "output_type": "stream",
          "name": "stdout",
          "text": [
            "Welcome to QuantConnect\n"
          ]
        }
      ]
    },
    {
      "cell_type": "markdown",
      "metadata": {
        "id": "2bt-tvC1y2Gh"
      },
      "source": [
        "#Ejemplo"
      ]
    },
    {
      "cell_type": "code",
      "metadata": {
        "colab": {
          "base_uri": "https://localhost:8080/"
        },
        "id": "sAK5m8pFygLm",
        "outputId": "f420f400-d8b9-4285-ce77-ab3c92e41379"
      },
      "source": [
        "my_string1 = 'hola'\n",
        "my_string2 = \"prueba\"\n",
        "print(my_string1 + ' ' + my_string2)"
      ],
      "execution_count": null,
      "outputs": [
        {
          "output_type": "stream",
          "name": "stdout",
          "text": [
            "hola prueba\n"
          ]
        }
      ]
    },
    {
      "cell_type": "markdown",
      "metadata": {
        "id": "bXHnxZyHSd1M"
      },
      "source": [
        "An integer is a round number with no values after the decimal point."
      ]
    },
    {
      "cell_type": "code",
      "metadata": {
        "colab": {
          "base_uri": "https://localhost:8080/"
        },
        "id": "pNjuz3toOqif",
        "outputId": "d543c41e-0f15-487d-93f2-c0f4beab09bb"
      },
      "source": [
        "my_int = 10\n",
        "print(my_int)\n",
        "print(type(my_int))"
      ],
      "execution_count": null,
      "outputs": [
        {
          "output_type": "stream",
          "name": "stdout",
          "text": [
            "10\n",
            "<class 'int'>\n"
          ]
        }
      ]
    },
    {
      "cell_type": "markdown",
      "metadata": {
        "id": "-gBIq1mhya8t"
      },
      "source": [
        "#Ejemplo"
      ]
    },
    {
      "cell_type": "code",
      "metadata": {
        "colab": {
          "base_uri": "https://localhost:8080/"
        },
        "id": "SkDVz9X0y8OQ",
        "outputId": "7f141a04-3d75-43f6-e6e3-b707ae288e0c"
      },
      "source": [
        "my_int = 2332\n",
        "print(my_int)\n",
        "print(type(my_int))"
      ],
      "execution_count": null,
      "outputs": [
        {
          "output_type": "stream",
          "name": "stdout",
          "text": [
            "2332\n",
            "<class 'int'>\n"
          ]
        }
      ]
    },
    {
      "cell_type": "markdown",
      "metadata": {
        "id": "_1ZanWrYSnzF"
      },
      "source": [
        "The built-in function int() can convert a string into an integer."
      ]
    },
    {
      "cell_type": "code",
      "metadata": {
        "colab": {
          "base_uri": "https://localhost:8080/"
        },
        "id": "zPwGb20FOqif",
        "outputId": "578dce75-668e-4668-c593-f72214175888"
      },
      "source": [
        "my_string = \"100\"\n",
        "print(type(my_string))\n",
        "my_int = int(my_string)\n",
        "print(type(my_int))"
      ],
      "execution_count": null,
      "outputs": [
        {
          "output_type": "stream",
          "name": "stdout",
          "text": [
            "<class 'str'>\n",
            "<class 'int'>\n"
          ]
        }
      ]
    },
    {
      "cell_type": "markdown",
      "metadata": {
        "id": "rt0hT_HZzJAf"
      },
      "source": [
        "#Ejemplo"
      ]
    },
    {
      "cell_type": "code",
      "metadata": {
        "colab": {
          "base_uri": "https://localhost:8080/"
        },
        "id": "94X93rUOzM_U",
        "outputId": "09f4d76e-3ee7-4976-92e4-a4047fdb9d3e"
      },
      "source": [
        "my_string = \"123\"\n",
        "print(type(my_string))\n",
        "my_int = int(my_string)\n",
        "print(type(my_int))"
      ],
      "execution_count": null,
      "outputs": [
        {
          "output_type": "stream",
          "name": "stdout",
          "text": [
            "<class 'str'>\n",
            "<class 'int'>\n"
          ]
        }
      ]
    },
    {
      "cell_type": "markdown",
      "metadata": {
        "id": "WqMDPDTHSrE9"
      },
      "source": [
        "A floating point number, or a float, is a real number in mathematics. In Python we need to include a value after a decimal point to define it as a float"
      ]
    },
    {
      "cell_type": "code",
      "metadata": {
        "colab": {
          "base_uri": "https://localhost:8080/"
        },
        "id": "otCzKKW9Oqig",
        "outputId": "3756b993-3e03-479a-97d9-340b60f1777b"
      },
      "source": [
        "my_string = \"100\"\n",
        "my_float = float(my_string)\n",
        "print(type(my_float))"
      ],
      "execution_count": null,
      "outputs": [
        {
          "output_type": "stream",
          "name": "stdout",
          "text": [
            "<class 'float'>\n"
          ]
        }
      ]
    },
    {
      "cell_type": "markdown",
      "metadata": {
        "id": "RYn7QZeLzX0i"
      },
      "source": [
        "#Ejemplo"
      ]
    },
    {
      "cell_type": "code",
      "metadata": {
        "colab": {
          "base_uri": "https://localhost:8080/"
        },
        "id": "O8jHwgaIzYrL",
        "outputId": "c3cfd99e-159d-41fc-937e-3637c2729922"
      },
      "source": [
        "my_string = \"1999\"\n",
        "my_float = float(my_string)\n",
        "print(type(my_float))"
      ],
      "execution_count": null,
      "outputs": [
        {
          "output_type": "stream",
          "name": "stdout",
          "text": [
            "<class 'float'>\n"
          ]
        }
      ]
    },
    {
      "cell_type": "markdown",
      "metadata": {
        "id": "2iuyv8Q7StTJ"
      },
      "source": [
        "As you can see above, if we don't include a decimal value, the variable would be defined as an integer. The built-in function float() can convert a string or an integer into a float."
      ]
    },
    {
      "cell_type": "code",
      "metadata": {
        "colab": {
          "base_uri": "https://localhost:8080/"
        },
        "id": "wwLw5VthOqig",
        "outputId": "d9da1137-5370-4cdb-bced-c27acb8ccf68"
      },
      "source": [
        "my_bool = False\n",
        "print(my_bool)\n",
        "print(type(my_bool))"
      ],
      "execution_count": null,
      "outputs": [
        {
          "output_type": "stream",
          "name": "stdout",
          "text": [
            "False\n",
            "<class 'bool'>\n"
          ]
        }
      ]
    },
    {
      "cell_type": "markdown",
      "metadata": {
        "id": "Jx_kCJIXzhdX"
      },
      "source": [
        "#Ejemplo"
      ]
    },
    {
      "cell_type": "code",
      "metadata": {
        "colab": {
          "base_uri": "https://localhost:8080/"
        },
        "id": "rmLFgv2GzwcR",
        "outputId": "5282ce17-cd6e-4ccf-d424-6c0be43a4cd8"
      },
      "source": [
        "my_bool = True\n",
        "print(my_bool)\n",
        "print(type(my_bool))"
      ],
      "execution_count": null,
      "outputs": [
        {
          "output_type": "stream",
          "name": "stdout",
          "text": [
            "True\n",
            "<class 'bool'>\n"
          ]
        }
      ]
    },
    {
      "cell_type": "markdown",
      "metadata": {
        "id": "bnGMwH21Szr_"
      },
      "source": [
        "A boolean, or bool, is a binary variable. Its value can only be True or False. It is useful when we do some logic operations, which would be covered in our next chapter."
      ]
    },
    {
      "cell_type": "code",
      "metadata": {
        "colab": {
          "base_uri": "https://localhost:8080/"
        },
        "id": "DMa6pDl5Oqig",
        "outputId": "c95fb06b-10d2-4860-ee5c-70c3e768ae75"
      },
      "source": [
        "print(\"Addition \", 1+1)\n",
        "print(\"Subtraction \", 5-2)\n",
        "print(\"Multiplication \", 2*3)\n",
        "print(\"Division \", 10/2)\n",
        "print('exponent', 2**3)"
      ],
      "execution_count": null,
      "outputs": [
        {
          "output_type": "stream",
          "name": "stdout",
          "text": [
            "Addition  2\n",
            "Subtraction  3\n",
            "Multiplication  6\n",
            "Division  5.0\n",
            "exponent 8\n"
          ]
        }
      ]
    },
    {
      "cell_type": "markdown",
      "metadata": {
        "id": "t4_PQxXTz4q1"
      },
      "source": [
        "#Ejemplo"
      ]
    },
    {
      "cell_type": "code",
      "metadata": {
        "colab": {
          "base_uri": "https://localhost:8080/"
        },
        "id": "DjOvPl-yz6NA",
        "outputId": "a9eb8fc2-3e57-4499-a7c7-917d0302be15"
      },
      "source": [
        "print(\"Addition \", 3+1)\n",
        "print(\"Subtraction \", 8-4)\n",
        "print(\"Multiplication \", 4*7)\n",
        "print(\"Division \", 10/5)\n",
        "print('exponent', 2**4)"
      ],
      "execution_count": null,
      "outputs": [
        {
          "output_type": "stream",
          "name": "stdout",
          "text": [
            "Addition  4\n",
            "Subtraction  4\n",
            "Multiplication  28\n",
            "Division  2.0\n",
            "exponent 16\n"
          ]
        }
      ]
    },
    {
      "cell_type": "markdown",
      "metadata": {
        "id": "1Xc9G9_sS2ju"
      },
      "source": [
        "# Basic Math Operations\n",
        "\n",
        "The basic math operators in python are demonstrated below:"
      ]
    },
    {
      "cell_type": "code",
      "metadata": {
        "colab": {
          "base_uri": "https://localhost:8080/"
        },
        "id": "KE9gUryAOqig",
        "outputId": "82343653-3452-4cc1-a0d6-510cbc54d7cb"
      },
      "source": [
        "print(1/3)\n",
        "print(1.0/3)"
      ],
      "execution_count": null,
      "outputs": [
        {
          "output_type": "stream",
          "name": "stdout",
          "text": [
            "0.3333333333333333\n",
            "0.3333333333333333\n"
          ]
        }
      ]
    },
    {
      "cell_type": "markdown",
      "metadata": {
        "id": "3S7wdmol0HQL"
      },
      "source": [
        "#Ejemplo"
      ]
    },
    {
      "cell_type": "code",
      "metadata": {
        "colab": {
          "base_uri": "https://localhost:8080/"
        },
        "id": "EAjHxQpB0H0a",
        "outputId": "7d7b0d21-0b47-490d-cca6-e52564ef98a2"
      },
      "source": [
        "print(1/9)\n",
        "print(1.0/9)"
      ],
      "execution_count": null,
      "outputs": [
        {
          "output_type": "stream",
          "name": "stdout",
          "text": [
            "0.1111111111111111\n",
            "0.1111111111111111\n"
          ]
        }
      ]
    },
    {
      "cell_type": "markdown",
      "metadata": {
        "id": "AN5Oa3DoS_Nf"
      },
      "source": [
        "# Data Collections\n",
        "\n",
        "## List\n",
        "A list is an ordered collection of values. A list is mutable, which means you can change a list's value without changing the list itself. Creating a list is simply putting different comma-separated values between square brackets."
      ]
    },
    {
      "cell_type": "code",
      "metadata": {
        "colab": {
          "base_uri": "https://localhost:8080/"
        },
        "id": "-tQdNqCvOqig",
        "outputId": "946aa60d-c7d5-4e4c-860a-1b2fa00c3ceb"
      },
      "source": [
        "my_list = ['Quant', 'Connect', 1,2,3]\n",
        "print(my_list)"
      ],
      "execution_count": null,
      "outputs": [
        {
          "output_type": "stream",
          "name": "stdout",
          "text": [
            "['Quant', 'Connect', 1, 2, 3]\n"
          ]
        }
      ]
    },
    {
      "cell_type": "markdown",
      "metadata": {
        "id": "lIR9JQ_D0uEK"
      },
      "source": [
        "#Ejemplo"
      ]
    },
    {
      "cell_type": "code",
      "metadata": {
        "colab": {
          "base_uri": "https://localhost:8080/"
        },
        "id": "tIXAAnx20uvu",
        "outputId": "e969e99d-e3e7-48a9-bc1e-d318febb14ea"
      },
      "source": [
        "my_list = ['uno', 'dos', 1,2]\n",
        "print(my_list)"
      ],
      "execution_count": null,
      "outputs": [
        {
          "output_type": "stream",
          "name": "stdout",
          "text": [
            "['uno', 'dos', 1, 2]\n"
          ]
        }
      ]
    },
    {
      "cell_type": "markdown",
      "metadata": {
        "id": "1O0TsgZCTHrM"
      },
      "source": [
        "The values in a list are called \"elements\". We can access list elements by indexing. Python index starts from 0. So if you have a list of length n, the index of the first element will be 0, and that of the last element will be n − 1. By the way, the length of a list can be obtained by the built-in function len()."
      ]
    },
    {
      "cell_type": "code",
      "metadata": {
        "colab": {
          "base_uri": "https://localhost:8080/"
        },
        "id": "QhuVhRR5Oqih",
        "outputId": "e8fa26aa-353f-4697-9701-6e8111a46ce4"
      },
      "source": [
        "my_list = ['Quant', 'Connect', 1,2,3]\n",
        "print(len(my_list))\n",
        "print(my_list[0])\n",
        "print(my_list[len(my_list) -1])"
      ],
      "execution_count": null,
      "outputs": [
        {
          "output_type": "stream",
          "name": "stdout",
          "text": [
            "5\n",
            "Quant\n",
            "3\n"
          ]
        }
      ]
    },
    {
      "cell_type": "markdown",
      "metadata": {
        "id": "uJTdRaUg1RZZ"
      },
      "source": [
        "#Ejemplo"
      ]
    },
    {
      "cell_type": "code",
      "metadata": {
        "colab": {
          "base_uri": "https://localhost:8080/"
        },
        "id": "dgr-Pk0i1SgI",
        "outputId": "85a2647a-6f54-4220-ade3-5a239b44c195"
      },
      "source": [
        "my_list = ['uno', 'dos', 1,2]\n",
        "print(len(my_list))\n",
        "print(my_list[0])\n",
        "print(my_list[len(my_list) -1])"
      ],
      "execution_count": null,
      "outputs": [
        {
          "output_type": "stream",
          "name": "stdout",
          "text": [
            "4\n",
            "uno\n",
            "2\n"
          ]
        }
      ]
    },
    {
      "cell_type": "markdown",
      "metadata": {
        "id": "jgSZy1VGTKSc"
      },
      "source": [
        "You can also change the elements in the list by accessing an index and assigning a new value."
      ]
    },
    {
      "cell_type": "code",
      "metadata": {
        "colab": {
          "base_uri": "https://localhost:8080/"
        },
        "id": "NQBNLjAvOqih",
        "outputId": "476b8e55-d299-41aa-9215-9c0098bbf43c"
      },
      "source": [
        "my_list = ['Quant','Connect',1,2,3]\n",
        "my_list[2] = 'go'\n",
        "print(my_list)"
      ],
      "execution_count": null,
      "outputs": [
        {
          "output_type": "stream",
          "name": "stdout",
          "text": [
            "['Quant', 'Connect', 'go', 2, 3]\n"
          ]
        }
      ]
    },
    {
      "cell_type": "markdown",
      "metadata": {
        "id": "7GdjmbYq1gHV"
      },
      "source": [
        "#Ejemplo"
      ]
    },
    {
      "cell_type": "code",
      "metadata": {
        "colab": {
          "base_uri": "https://localhost:8080/"
        },
        "id": "XKjWmVc31goX",
        "outputId": "b403cd1f-1b83-4642-9610-c638b6a0af20"
      },
      "source": [
        "my_list = ['uno','dos',1,2]\n",
        "my_list[2] = 'tres'\n",
        "print(my_list)"
      ],
      "execution_count": null,
      "outputs": [
        {
          "output_type": "stream",
          "name": "stdout",
          "text": [
            "['uno', 'dos', 'tres', 2]\n"
          ]
        }
      ]
    },
    {
      "cell_type": "markdown",
      "metadata": {
        "id": "EQPs5ojoTVrk"
      },
      "source": [
        "A list can also be sliced with a colon:"
      ]
    },
    {
      "cell_type": "code",
      "metadata": {
        "colab": {
          "base_uri": "https://localhost:8080/"
        },
        "id": "keNX2RbtOqii",
        "outputId": "01219718-8be6-4b02-b241-f1747bea9ab5"
      },
      "source": [
        "my_list = ['Quant','Connect',1,2,3]\n",
        "print(my_list[1:3])"
      ],
      "execution_count": null,
      "outputs": [
        {
          "output_type": "stream",
          "name": "stdout",
          "text": [
            "['Connect', 1]\n"
          ]
        }
      ]
    },
    {
      "cell_type": "markdown",
      "metadata": {
        "id": "MU5j8BhZ1rWU"
      },
      "source": [
        "#Ejemplo"
      ]
    },
    {
      "cell_type": "code",
      "metadata": {
        "colab": {
          "base_uri": "https://localhost:8080/"
        },
        "id": "ZJYdg5iI1sGC",
        "outputId": "2fb3d0bf-4442-463b-a946-cabccc1cdf5e"
      },
      "source": [
        "my_list1 = ['uno','dos',1,2]\n",
        "print(my_list1[1:3])"
      ],
      "execution_count": null,
      "outputs": [
        {
          "output_type": "stream",
          "name": "stdout",
          "text": [
            "['dos', 1]\n"
          ]
        }
      ]
    },
    {
      "cell_type": "markdown",
      "metadata": {
        "id": "AZqQd0K8TYul"
      },
      "source": [
        "The slice starts from the first element indicated, but excludes the last element indicated. Here we select all elements starting from index 1, which refers to the second element:"
      ]
    },
    {
      "cell_type": "code",
      "metadata": {
        "colab": {
          "base_uri": "https://localhost:8080/"
        },
        "id": "0-76sLfkOqii",
        "outputId": "e0507043-0cd4-491b-bb9f-26100bf5ffd1"
      },
      "source": [
        "print(my_list[1:])"
      ],
      "execution_count": null,
      "outputs": [
        {
          "output_type": "stream",
          "name": "stdout",
          "text": [
            "['Connect', 1, 2, 3]\n"
          ]
        }
      ]
    },
    {
      "cell_type": "markdown",
      "metadata": {
        "id": "EuNdHF7u2ILL"
      },
      "source": [
        "#Ejemplo"
      ]
    },
    {
      "cell_type": "code",
      "metadata": {
        "colab": {
          "base_uri": "https://localhost:8080/"
        },
        "id": "DDXBr-2l2I08",
        "outputId": "5a91f144-09ef-42eb-e911-0834c6d02c64"
      },
      "source": [
        "print(my_list1[1:])"
      ],
      "execution_count": null,
      "outputs": [
        {
          "output_type": "stream",
          "name": "stdout",
          "text": [
            "['dos', 1, 2]\n"
          ]
        }
      ]
    },
    {
      "cell_type": "markdown",
      "metadata": {
        "id": "XBqvhUdZVKWs"
      },
      "source": [
        "And all elements up to but excluding index 3:"
      ]
    },
    {
      "cell_type": "code",
      "metadata": {
        "colab": {
          "base_uri": "https://localhost:8080/"
        },
        "id": "5NWr75L9Oqii",
        "outputId": "7e49cfce-db14-4562-c916-7a963fd4fc1d"
      },
      "source": [
        "print(my_list[:3])"
      ],
      "execution_count": null,
      "outputs": [
        {
          "output_type": "stream",
          "name": "stdout",
          "text": [
            "['uno', 'dos', 1]\n"
          ]
        }
      ]
    },
    {
      "cell_type": "markdown",
      "metadata": {
        "id": "g4rm_Pbp2TWf"
      },
      "source": [
        "#Ejemplo"
      ]
    },
    {
      "cell_type": "code",
      "metadata": {
        "colab": {
          "base_uri": "https://localhost:8080/"
        },
        "id": "f4FCPwrE2UFC",
        "outputId": "7d48fe00-f813-446f-932c-29d9509f1d4b"
      },
      "source": [
        "print(my_list1[:3])"
      ],
      "execution_count": null,
      "outputs": [
        {
          "output_type": "stream",
          "name": "stdout",
          "text": [
            "['uno', 'dos', 1]\n"
          ]
        }
      ]
    },
    {
      "cell_type": "markdown",
      "metadata": {
        "id": "eAFmM6bkTZz9"
      },
      "source": [
        "If you wish to add or remove an element from a list, you can use the append() and remove() methods for lists as follows:"
      ]
    },
    {
      "cell_type": "code",
      "metadata": {
        "colab": {
          "base_uri": "https://localhost:8080/"
        },
        "id": "pHmgTPElTo19",
        "outputId": "62ddcb71-223c-4b8a-b3fa-e6a25a80e7a5"
      },
      "source": [
        "my_list = ['Hello', 'Quant']\n",
        "my_list.append('Hello')\n",
        "print(my_list)\n",
        "\n"
      ],
      "execution_count": null,
      "outputs": [
        {
          "output_type": "stream",
          "name": "stdout",
          "text": [
            "['Hello', 'Quant', 'Hello']\n"
          ]
        }
      ]
    },
    {
      "cell_type": "markdown",
      "metadata": {
        "id": "0CGnDHkP2aAg"
      },
      "source": [
        "#Ejemplo"
      ]
    },
    {
      "cell_type": "code",
      "metadata": {
        "colab": {
          "base_uri": "https://localhost:8080/"
        },
        "id": "XBXt7oK_2fEr",
        "outputId": "27b2dc65-410a-41b2-a738-32adf912b0e5"
      },
      "source": [
        "my_list1 = ['Hola', 'Juan']\n",
        "my_list1.append('Bien')\n",
        "print(my_list1)"
      ],
      "execution_count": null,
      "outputs": [
        {
          "output_type": "stream",
          "name": "stdout",
          "text": [
            "['Hola', 'Juan', 'Bien']\n"
          ]
        }
      ]
    },
    {
      "cell_type": "code",
      "metadata": {
        "colab": {
          "base_uri": "https://localhost:8080/"
        },
        "id": "4C4U1Yf0Tr8l",
        "outputId": "8bfdb15f-37c4-4bd3-8b2d-c966b98de4eb"
      },
      "source": [
        "my_list.remove('Hello')\n",
        "print(my_list)"
      ],
      "execution_count": null,
      "outputs": [
        {
          "output_type": "stream",
          "name": "stdout",
          "text": [
            "['Quant', 'Hello']\n"
          ]
        }
      ]
    },
    {
      "cell_type": "markdown",
      "metadata": {
        "id": "JWk7agjG3CLX"
      },
      "source": [
        "#Ejemplo"
      ]
    },
    {
      "cell_type": "code",
      "metadata": {
        "colab": {
          "base_uri": "https://localhost:8080/"
        },
        "id": "_dTToaZB3C-r",
        "outputId": "d6ab6aed-9a88-4f77-c35b-aff039a5e248"
      },
      "source": [
        "my_list1.remove('Bien')\n",
        "print(my_list1)"
      ],
      "execution_count": null,
      "outputs": [
        {
          "output_type": "stream",
          "name": "stdout",
          "text": [
            "['Hola', 'Juan']\n"
          ]
        }
      ]
    },
    {
      "cell_type": "markdown",
      "metadata": {
        "id": "11W1gG-cVmOU"
      },
      "source": [
        "When there are repeated instances of \"Hello\", the first one is removed.\n",
        "\n",
        "## Tuple\n",
        "A tuple is a data structure type similar to a list. The difference is that a tuple is immutable, which means you can't change the elements in it once it's defined. We create a tuple by putting comma-separated values between parentheses."
      ]
    },
    {
      "cell_type": "code",
      "metadata": {
        "collapsed": true,
        "id": "vPmn6BAaOqii"
      },
      "source": [
        "my_tuple = ('Welcome','to','QuantConnect')"
      ],
      "execution_count": null,
      "outputs": []
    },
    {
      "cell_type": "code",
      "metadata": {
        "id": "h10t8uiR3YxO"
      },
      "source": [
        "my_tuple1 = ('Carro','Color','Rojo')"
      ],
      "execution_count": null,
      "outputs": []
    },
    {
      "cell_type": "markdown",
      "metadata": {
        "id": "zMIme4dDV0Wz"
      },
      "source": [
        "Just like a list, a tuple can be sliced by using index."
      ]
    },
    {
      "cell_type": "code",
      "metadata": {
        "colab": {
          "base_uri": "https://localhost:8080/"
        },
        "id": "8P-ddO0sOqii",
        "outputId": "59410ade-8f39-420d-e0cc-cae6c015e1cf"
      },
      "source": [
        "my_tuple = ('Welcome','to','QuantConnect')\n",
        "print(my_tuple[1:])"
      ],
      "execution_count": null,
      "outputs": [
        {
          "output_type": "stream",
          "name": "stdout",
          "text": [
            "('to', 'QuantConnect')\n"
          ]
        }
      ]
    },
    {
      "cell_type": "markdown",
      "metadata": {
        "id": "1mKz7sB63Zxn"
      },
      "source": [
        "#Ejemplo"
      ]
    },
    {
      "cell_type": "code",
      "metadata": {
        "colab": {
          "base_uri": "https://localhost:8080/"
        },
        "id": "XVXf9FDl3qZp",
        "outputId": "e5c4943c-ced3-46a2-bbb8-91ca06d6391a"
      },
      "source": [
        "my_tuple1 = ('Carro','Color','Rojo')\n",
        "print(my_tuple1[1:])"
      ],
      "execution_count": null,
      "outputs": [
        {
          "output_type": "stream",
          "name": "stdout",
          "text": [
            "('Color', 'Rojo')\n"
          ]
        }
      ]
    },
    {
      "cell_type": "markdown",
      "metadata": {
        "id": "l2JqbusAV1Y2"
      },
      "source": [
        "## Set\n",
        "A set is an **unordered**  collection with **no duplicate** elements. The built-in function **set()** can be used to create sets."
      ]
    },
    {
      "cell_type": "code",
      "metadata": {
        "colab": {
          "base_uri": "https://localhost:8080/"
        },
        "id": "Plau8r-UOqij",
        "outputId": "38956220-c75c-4046-ebfa-810880ea19f4"
      },
      "source": [
        "stock_list = ['AAPL','GOOG','IBM','AAPL','IBM','FB','F','GOOG']\n",
        "stock_set = set(stock_list)\n",
        "print(stock_set)"
      ],
      "execution_count": null,
      "outputs": [
        {
          "output_type": "stream",
          "name": "stdout",
          "text": [
            "{'FB', 'IBM', 'AAPL', 'GOOG', 'F'}\n"
          ]
        }
      ]
    },
    {
      "cell_type": "markdown",
      "metadata": {
        "id": "tx9AvC7U36dA"
      },
      "source": [
        "#Ejemplo"
      ]
    },
    {
      "cell_type": "code",
      "metadata": {
        "colab": {
          "base_uri": "https://localhost:8080/"
        },
        "id": "_wabvvTL38t6",
        "outputId": "67180acf-bd29-4fbc-9f10-2f9e1b06d92c"
      },
      "source": [
        "stock_list1 = ['FCEL','AAPL','AMC','M','GOOG','FB','BAC','GOOG']\n",
        "stock_set1 = set(stock_list1)\n",
        "print(stock_set1)"
      ],
      "execution_count": null,
      "outputs": [
        {
          "output_type": "stream",
          "name": "stdout",
          "text": [
            "{'M', 'FCEL', 'BAC', 'AMC', 'GOOG', 'FB', 'AAPL'}\n"
          ]
        }
      ]
    },
    {
      "cell_type": "markdown",
      "metadata": {
        "id": "Jyb4GGIoWIHk"
      },
      "source": [
        "Set is an easy way to remove duplicate elements from a list.\n",
        "\n",
        "##Dictionary\n",
        "A dictionary is one of the most important data structures in Python. Unlike sequences which are indexed by integers, dictionaries are indexed by keys which can be either strings or floats.\n",
        "\n",
        "A dictionary is an **unordered** collection of key : value pairs, with the requirement that the keys are unique. We create a dictionary by placing a comma-separated list of key : value pairs within the braces."
      ]
    },
    {
      "cell_type": "code",
      "metadata": {
        "collapsed": true,
        "id": "36mTe5BaOqij"
      },
      "source": [
        "my_dic = {'AAPL':'AAPLE', 'FB':'FaceBook', 'GOOG':'Alphabet'}"
      ],
      "execution_count": null,
      "outputs": []
    },
    {
      "cell_type": "code",
      "metadata": {
        "id": "x8FHkUTO453n"
      },
      "source": [
        "my_dic1 = {'M':'MACYS Inc.', 'BAC':'Bank of America', 'GOOG':'Alphabet'}"
      ],
      "execution_count": null,
      "outputs": []
    },
    {
      "cell_type": "code",
      "metadata": {
        "colab": {
          "base_uri": "https://localhost:8080/"
        },
        "id": "KUfdVf43Oqij",
        "outputId": "b1400649-866f-41b5-c258-1dfd48f1c26c"
      },
      "source": [
        "print(my_dic['GOOG'])"
      ],
      "execution_count": null,
      "outputs": [
        {
          "output_type": "stream",
          "name": "stdout",
          "text": [
            "Alphabet\n"
          ]
        }
      ]
    },
    {
      "cell_type": "markdown",
      "metadata": {
        "id": "AdIxhryj43y8"
      },
      "source": [
        "#Ejemplo"
      ]
    },
    {
      "cell_type": "code",
      "metadata": {
        "colab": {
          "base_uri": "https://localhost:8080/"
        },
        "id": "RZVMSA-p5aPO",
        "outputId": "2b3288c6-fc87-43b9-d9a2-243906894a92"
      },
      "source": [
        "print(my_dic1['BAC'])"
      ],
      "execution_count": null,
      "outputs": [
        {
          "output_type": "stream",
          "name": "stdout",
          "text": [
            "Bank of America\n"
          ]
        }
      ]
    },
    {
      "cell_type": "markdown",
      "metadata": {
        "id": "gSicoNqDWP4c"
      },
      "source": [
        "After defining a dictionary, we can access any value by indicating its key in brackets."
      ]
    },
    {
      "cell_type": "code",
      "metadata": {
        "colab": {
          "base_uri": "https://localhost:8080/"
        },
        "id": "IrTZdq9FOqij",
        "outputId": "4ef35b57-eeaf-43df-e4ec-d1da8428c748"
      },
      "source": [
        "my_dic['GOOG'] = 'Alphabet Company'\n",
        "print(my_dic['GOOG'])"
      ],
      "execution_count": null,
      "outputs": [
        {
          "output_type": "stream",
          "name": "stdout",
          "text": [
            "Alphabet Company\n"
          ]
        }
      ]
    },
    {
      "cell_type": "markdown",
      "metadata": {
        "id": "VEJvCp2i5h3C"
      },
      "source": [
        "#Ejemplo"
      ]
    },
    {
      "cell_type": "code",
      "metadata": {
        "colab": {
          "base_uri": "https://localhost:8080/"
        },
        "id": "EtoMRJb05jGg",
        "outputId": "50d40b3a-178e-4c31-c91e-7ae224d67d4b"
      },
      "source": [
        "my_dic1['M'] = 'Macys, Company'\n",
        "print(my_dic1['M'])"
      ],
      "execution_count": null,
      "outputs": [
        {
          "output_type": "stream",
          "name": "stdout",
          "text": [
            "Macys, Company\n"
          ]
        }
      ]
    },
    {
      "cell_type": "markdown",
      "metadata": {
        "id": "M9sDsTEMWQvc"
      },
      "source": [
        "We can also change the value associated with a specified key:"
      ]
    },
    {
      "cell_type": "code",
      "metadata": {
        "colab": {
          "base_uri": "https://localhost:8080/"
        },
        "id": "lupRHf1_Oqij",
        "outputId": "315ce30c-459c-4a59-fef1-8844e30253bb"
      },
      "source": [
        "print(my_dic.keys())"
      ],
      "execution_count": null,
      "outputs": [
        {
          "output_type": "stream",
          "name": "stdout",
          "text": [
            "dict_keys(['AAPL', 'FB', 'GOOG'])\n"
          ]
        }
      ]
    },
    {
      "cell_type": "markdown",
      "metadata": {
        "id": "y8LaE_x655Di"
      },
      "source": [
        "#Ejemplo"
      ]
    },
    {
      "cell_type": "code",
      "metadata": {
        "colab": {
          "base_uri": "https://localhost:8080/"
        },
        "id": "uEn-tVEX57mW",
        "outputId": "59af67e2-09cc-4378-e307-04fa50a74ce2"
      },
      "source": [
        "print(my_dic1.keys())"
      ],
      "execution_count": null,
      "outputs": [
        {
          "output_type": "stream",
          "name": "stdout",
          "text": [
            "dict_keys(['M', 'BAC', 'GOOG'])\n"
          ]
        }
      ]
    },
    {
      "cell_type": "markdown",
      "metadata": {
        "id": "VPuDinlwWS9D"
      },
      "source": [
        "The built-in method of the dictionary object dict.keys() returns a list of all the keys used in the dictionary."
      ]
    },
    {
      "cell_type": "markdown",
      "metadata": {
        "id": "kSGzgNb2Womz"
      },
      "source": [
        "# Common String Operations\n",
        "A string is an immutable sequence of characters. It can be sliced by index just like a tuple:"
      ]
    },
    {
      "cell_type": "code",
      "metadata": {
        "colab": {
          "base_uri": "https://localhost:8080/"
        },
        "id": "xPojDnm9Oqik",
        "outputId": "6566c80c-e15d-4a63-e34a-6e3c9393d71e"
      },
      "source": [
        "my_str = 'Welcome to QuantConnect'\n",
        "print(my_str[8:])"
      ],
      "execution_count": null,
      "outputs": [
        {
          "output_type": "stream",
          "name": "stdout",
          "text": [
            "to QuantConnect\n"
          ]
        }
      ]
    },
    {
      "cell_type": "markdown",
      "metadata": {
        "id": "YDmHTI1i5_-5"
      },
      "source": [
        "#Ejemplo"
      ]
    },
    {
      "cell_type": "code",
      "metadata": {
        "colab": {
          "base_uri": "https://localhost:8080/"
        },
        "id": "TEhYJ-YI6CR9",
        "outputId": "ddc096a7-85af-48c1-fbe4-f344035b71a1"
      },
      "source": [
        "my_str = 'Universidad Nacional de Colombia'\n",
        "print(my_str[3:])"
      ],
      "execution_count": null,
      "outputs": [
        {
          "output_type": "stream",
          "name": "stdout",
          "text": [
            "versidad Nacional de Colombia\n"
          ]
        }
      ]
    },
    {
      "cell_type": "markdown",
      "metadata": {
        "id": "wuJYy7tvWtM7"
      },
      "source": [
        "There are many methods associated with strings. We can use string.count() to count the occurrences of a character in a string, use string.find() to return the index of a specific character, and use string.replace() to replace characters"
      ]
    },
    {
      "cell_type": "code",
      "metadata": {
        "colab": {
          "base_uri": "https://localhost:8080/"
        },
        "id": "u9deZq1SOqik",
        "outputId": "76dd7ace-0e6c-4768-f67d-4eaeac8d5bd8"
      },
      "source": [
        "print('Counting the number of e appears in this sentence'.count('e'))\n",
        "print('The first time e appears in this sentence'.find('e'))\n",
        "print('all the a in this sentence now becomes e'.replace('a','e'))"
      ],
      "execution_count": null,
      "outputs": [
        {
          "output_type": "stream",
          "name": "stdout",
          "text": [
            "7\n",
            "2\n",
            "ell the e in this sentence now becomes e\n"
          ]
        }
      ]
    },
    {
      "cell_type": "markdown",
      "metadata": {
        "id": "E8k70S8z6QlT"
      },
      "source": [
        "#Ejemplo"
      ]
    },
    {
      "cell_type": "code",
      "metadata": {
        "colab": {
          "base_uri": "https://localhost:8080/"
        },
        "id": "OwKEX3ff6SgC",
        "outputId": "6c0041d8-40e2-43dc-ef9b-ed1519dbe691"
      },
      "source": [
        "print('es la rama de la matemática que estudia la combinación de elementos de estructuras abstractas acorde a ciertas reglas.'.count('e'))\n",
        "print('Originalmente esos elementos podían ser interpretados como números o cantidades'.find('e'))\n",
        "print('El álgebra elemental difiere de la aritmética en el uso de abstracciones'.replace('a','e'))"
      ],
      "execution_count": null,
      "outputs": [
        {
          "output_type": "stream",
          "name": "stdout",
          "text": [
            "14\n",
            "9\n",
            "El álgebre elementel difiere de le eritmétice en el uso de ebstrecciones\n"
          ]
        }
      ]
    },
    {
      "cell_type": "markdown",
      "metadata": {
        "id": "sJPn3rkvWwHN"
      },
      "source": [
        "The most commonly used method for strings is string.split(). This method will split the string by the indicated character and return a list:"
      ]
    },
    {
      "cell_type": "code",
      "metadata": {
        "colab": {
          "base_uri": "https://localhost:8080/"
        },
        "id": "hbIaFLFHOqik",
        "outputId": "3f9acbf7-45ad-4cb6-906e-9dfffd83b076"
      },
      "source": [
        "Time = '2016-04-01 09:43:00'\n",
        "splited_list = Time.split(' ')\n",
        "date = splited_list[0]\n",
        "time = splited_list[1]\n",
        "print(date, time)\n",
        "hour = time.split(':')[0]\n",
        "print(hour)"
      ],
      "execution_count": null,
      "outputs": [
        {
          "output_type": "stream",
          "name": "stdout",
          "text": [
            "2016-04-01 09:43:00\n",
            "09\n"
          ]
        }
      ]
    },
    {
      "cell_type": "markdown",
      "metadata": {
        "id": "qW1RKLnd7yM2"
      },
      "source": [
        "#Ejemplo"
      ]
    },
    {
      "cell_type": "code",
      "metadata": {
        "colab": {
          "base_uri": "https://localhost:8080/"
        },
        "id": "O-JPtSa87y8Z",
        "outputId": "1ebdd7f8-cd9a-4b2b-9f0d-944f90c0942f"
      },
      "source": [
        "Time = '2021-10-18 10:43:00'\n",
        "splited_list = Time.split(' ')\n",
        "date = splited_list[0]\n",
        "time = splited_list[1]\n",
        "print(date, time)\n",
        "hour = time.split(':')[0]\n",
        "print(hour)"
      ],
      "execution_count": null,
      "outputs": [
        {
          "output_type": "stream",
          "name": "stdout",
          "text": [
            "2021-10-18 10:43:00\n",
            "10\n"
          ]
        }
      ]
    },
    {
      "cell_type": "markdown",
      "metadata": {
        "id": "9cJQGk96WyVc"
      },
      "source": [
        "We can replace parts of a string by our variable. This is called string formatting."
      ]
    },
    {
      "cell_type": "code",
      "metadata": {
        "colab": {
          "base_uri": "https://localhost:8080/"
        },
        "id": "-E_rIvv6Oqik",
        "outputId": "bec9b731-c4d5-4905-9154-ef979efd6dd0"
      },
      "source": [
        "my_time = 'Hour: {}, Minute:{}'.format('09','43')\n",
        "print(my_time)"
      ],
      "execution_count": null,
      "outputs": [
        {
          "output_type": "stream",
          "name": "stdout",
          "text": [
            "Hour: 09, Minute:43\n"
          ]
        }
      ]
    },
    {
      "cell_type": "markdown",
      "metadata": {
        "id": "gn6-E9I08Get"
      },
      "source": [
        "#Ejemplo"
      ]
    },
    {
      "cell_type": "code",
      "metadata": {
        "colab": {
          "base_uri": "https://localhost:8080/"
        },
        "id": "WUCDIce28Jtm",
        "outputId": "e15a42d3-8190-4e8f-f5f5-1a65f67ee55a"
      },
      "source": [
        "my_time1 = 'Hour: {}, Minute:{}'.format('11','30')\n",
        "print(my_time1)"
      ],
      "execution_count": null,
      "outputs": [
        {
          "output_type": "stream",
          "name": "stdout",
          "text": [
            "Hour: 11, Minute:30\n"
          ]
        }
      ]
    },
    {
      "cell_type": "markdown",
      "metadata": {
        "id": "1_NbVldpWzAs"
      },
      "source": [
        "Another way to format a string is to use the % symbol."
      ]
    },
    {
      "cell_type": "code",
      "metadata": {
        "colab": {
          "base_uri": "https://localhost:8080/"
        },
        "id": "4rZ4rkD2Oqik",
        "outputId": "cd5d93b8-56d7-4406-9c43-d84144bded85"
      },
      "source": [
        "print('the pi number is %f'%3.14)\n",
        "print('%s to %s'%('Welcome','Quantconnect'))"
      ],
      "execution_count": null,
      "outputs": [
        {
          "output_type": "stream",
          "name": "stdout",
          "text": [
            "the pi number is 3.140000\n",
            "Welcome to Quantconnect\n"
          ]
        }
      ]
    },
    {
      "cell_type": "markdown",
      "metadata": {
        "id": "bwWgMFdz8RHa"
      },
      "source": [
        "#Ejemplo"
      ]
    },
    {
      "cell_type": "code",
      "metadata": {
        "colab": {
          "base_uri": "https://localhost:8080/"
        },
        "id": "BAKKcZh28UdL",
        "outputId": "a86ada6d-db5e-4ca8-edd5-b1cad3bf6041"
      },
      "source": [
        "print('el año tiene %f'%12,'meses')\n",
        "print('%s a %s'%('Carro','Moto'))"
      ],
      "execution_count": null,
      "outputs": [
        {
          "output_type": "stream",
          "name": "stdout",
          "text": [
            "el año tiene 12.000000 meses\n",
            "Carro a Moto\n"
          ]
        }
      ]
    },
    {
      "cell_type": "markdown",
      "metadata": {
        "id": "v_5cocrDW3MN"
      },
      "source": [
        "# Summary\n",
        "\n",
        "Weave seen the basic data types and data structures in Python. It's important to keep practicing to become familiar with these data structures. In the next tutorial, we will cover for and while loops and logical operations in Python."
      ]
    },
    {
      "cell_type": "markdown",
      "metadata": {
        "id": "QL6dNxwCXNEt"
      },
      "source": [
        "<div align=\"center\">\n",
        "<img style=\"display: block; margin: auto;\" alt=\"photo\" src=\"https://cdn.quantconnect.com/web/i/icon.png\">\n",
        "\n",
        "Quantconnect\n",
        "\n",
        "Introduction to Financial Python\n",
        "</div>\n",
        "\n",
        "# 02 Logical Operations and Loops\n",
        "\n",
        "# Introduction\n",
        "We discussed the basic data types and data structures in Python in the last tutorial. This chapter covers logical operations and loops in Python, which are very common in programming.\n",
        "\n",
        "# Logical Operations\n",
        "Like most programming languages, Python has comparison operators:"
      ]
    },
    {
      "cell_type": "code",
      "metadata": {
        "colab": {
          "base_uri": "https://localhost:8080/"
        },
        "id": "70Guys_rOv7a",
        "outputId": "e6da5841-6f15-4c96-9ee0-0d166aa83ac8"
      },
      "source": [
        "print(1 == 0)\n",
        "print(1 == 1)\n",
        "print(1 != 0)\n",
        "print(5 >= 5)\n",
        "print(5 >= 6)"
      ],
      "execution_count": null,
      "outputs": [
        {
          "output_type": "stream",
          "name": "stdout",
          "text": [
            "False\n",
            "True\n",
            "True\n",
            "True\n",
            "False\n"
          ]
        }
      ]
    },
    {
      "cell_type": "markdown",
      "metadata": {
        "id": "JdC50iI28zrq"
      },
      "source": [
        "#Ejemplo"
      ]
    },
    {
      "cell_type": "code",
      "metadata": {
        "colab": {
          "base_uri": "https://localhost:8080/"
        },
        "id": "mdIM_71r81J_",
        "outputId": "c2d1c7fe-0de1-4ee8-a231-0b5cfda720da"
      },
      "source": [
        "print(12 == 3)\n",
        "print(5 == 5)\n",
        "print(7 != 6)\n",
        "print(9 >= 9)\n",
        "print(6 >= 8)"
      ],
      "execution_count": null,
      "outputs": [
        {
          "output_type": "stream",
          "name": "stdout",
          "text": [
            "False\n",
            "True\n",
            "True\n",
            "True\n",
            "False\n"
          ]
        }
      ]
    },
    {
      "cell_type": "markdown",
      "metadata": {
        "id": "8aFHYDj-YTXt"
      },
      "source": [
        "Each statement above has a boolean value, which must be either True or False, but not both.\n",
        "\n",
        "We can combine simple statements P and Q to form complex statements using logical operators:\n",
        "\n",
        "- The statement \"P and Q\" is true if both P and Q are true, otherwise it is false.\n",
        "- The statement \"P or Q\" is false if both P and Q are false, otherwise it is true.\n",
        "- The statement \"not P\" is true if P is false, and vice versa."
      ]
    },
    {
      "cell_type": "code",
      "metadata": {
        "colab": {
          "base_uri": "https://localhost:8080/"
        },
        "id": "O5YEEcUbOv7d",
        "outputId": "b0b66a4b-5e0b-493a-912d-ea3970a5026c"
      },
      "source": [
        "print(2 > 1 and 3 > 2)\n",
        "print(2 > 1 and 3 < 2) \n",
        "print(2 > 1 or 3 < 2)\n",
        "print(2 < 1 and 3 < 2)"
      ],
      "execution_count": null,
      "outputs": [
        {
          "output_type": "stream",
          "name": "stdout",
          "text": [
            "True\n",
            "False\n",
            "True\n",
            "False\n"
          ]
        }
      ]
    },
    {
      "cell_type": "markdown",
      "metadata": {
        "id": "PEcMFT-J9M-5"
      },
      "source": [
        "#Ejemplo"
      ]
    },
    {
      "cell_type": "code",
      "metadata": {
        "colab": {
          "base_uri": "https://localhost:8080/"
        },
        "id": "pKWqi0XC9OSY",
        "outputId": "e7c7b080-cc27-494f-ec4e-cb2574a35213"
      },
      "source": [
        "print(4 > 5 and 56 > 5)\n",
        "print(4 > 2 and 3 < 4) \n",
        "print(4 > 7 or 4 < 28)\n",
        "print(24 < 51 and 4 < 6)"
      ],
      "execution_count": null,
      "outputs": [
        {
          "output_type": "stream",
          "name": "stdout",
          "text": [
            "False\n",
            "True\n",
            "True\n",
            "True\n"
          ]
        }
      ]
    },
    {
      "cell_type": "markdown",
      "metadata": {
        "id": "Dy7yzoSXYXmL"
      },
      "source": [
        "When dealing with a very complex logical statement that involves in several statements, we can use brackets to separate and combine them."
      ]
    },
    {
      "cell_type": "code",
      "metadata": {
        "colab": {
          "base_uri": "https://localhost:8080/"
        },
        "id": "QZ-W2xJZOv7d",
        "outputId": "f2d60f19-7f40-4fb6-e518-8fb6a202eb05"
      },
      "source": [
        "print((3 > 2 or 1 < 3) and (1!=3 and 4>3) and not ( 3 < 2 or 1 < 3 and (1!=3 and 4>3)))\n",
        "print(3 > 2 or 1 < 3 and (1!=3 and 4>3) and not ( 3 < 2 or 1 < 3 and (1!=3 and 4>3)))"
      ],
      "execution_count": null,
      "outputs": [
        {
          "output_type": "stream",
          "name": "stdout",
          "text": [
            "False\n",
            "True\n"
          ]
        }
      ]
    },
    {
      "cell_type": "markdown",
      "metadata": {
        "id": "-RP0earP9dYJ"
      },
      "source": [
        "#Ejemplo"
      ]
    },
    {
      "cell_type": "code",
      "metadata": {
        "colab": {
          "base_uri": "https://localhost:8080/"
        },
        "id": "XtzUbCsj9gf3",
        "outputId": "c00f4c3b-2e4e-4044-d9c4-4868bcd621e4"
      },
      "source": [
        "print((4 > 4 or 4 < 6) and (5!=6 and 5>7) and not ( 5 < 7 or 4 < 1 and (3!=5 and 4>3)))\n",
        "print(9 > 2 or 8 < 9 and (3!=4 and 6>2) and not ( 5 < 4 or 6 < 8 and (2!=7 and 8>2)))"
      ],
      "execution_count": null,
      "outputs": [
        {
          "output_type": "stream",
          "name": "stdout",
          "text": [
            "False\n",
            "True\n"
          ]
        }
      ]
    },
    {
      "cell_type": "markdown",
      "metadata": {
        "id": "s95xoRYMYaPD"
      },
      "source": [
        "Comparing the above two statements, we can see that it's wise to use brackets when we make a complex logical statement.\n",
        "\n",
        "# If Statement\n",
        "An if statement executes a segment of code only if its condition is true. A standard if statement consists of 3 segments: if, elif and else."
      ]
    },
    {
      "cell_type": "markdown",
      "metadata": {
        "id": "aRzMMitAaBOL"
      },
      "source": [
        "```python\n",
        "if statement1:\n",
        "    # if the statement1 is true, execute the code here.\n",
        "    # code.....\n",
        "    # code.....\n",
        "elif statement2:\n",
        "    # if the statement 1 is false, skip the codes above to this part.\n",
        "    # code......\n",
        "    # code......\n",
        "else:\n",
        "    # if none of the above statements is True, skip to this part\n",
        "    # code......\n",
        "```"
      ]
    },
    {
      "cell_type": "markdown",
      "metadata": {
        "id": "l59R2AS8aH2K"
      },
      "source": [
        "An if statement doesn't necessarily has elif and else part. If it's not specified, the indented block of code will be executed when the condition is true, otherwise the whole if statement will be skipped."
      ]
    },
    {
      "cell_type": "code",
      "metadata": {
        "colab": {
          "base_uri": "https://localhost:8080/"
        },
        "id": "FZ5GoTXfOv7e",
        "outputId": "816c3881-e5fe-45c2-f92b-0621b8707e47"
      },
      "source": [
        "i = 0\n",
        "if i == 0:\n",
        "    print('i==0 is True')"
      ],
      "execution_count": null,
      "outputs": [
        {
          "output_type": "stream",
          "name": "stdout",
          "text": [
            "i==0 is True\n"
          ]
        }
      ]
    },
    {
      "cell_type": "markdown",
      "metadata": {
        "id": "7f-BOhu_-E8C"
      },
      "source": [
        "#Ejemplo"
      ]
    },
    {
      "cell_type": "code",
      "metadata": {
        "colab": {
          "base_uri": "https://localhost:8080/"
        },
        "id": "pglkraXn-FdJ",
        "outputId": "773bef33-0999-4e3e-a045-f7afd76fd0a5"
      },
      "source": [
        "i = 3\n",
        "if i == 3:\n",
        "    print('i==3 is True')"
      ],
      "execution_count": null,
      "outputs": [
        {
          "output_type": "stream",
          "name": "stdout",
          "text": [
            "i==3 is True\n"
          ]
        }
      ]
    },
    {
      "cell_type": "markdown",
      "metadata": {
        "id": "nPNW-l5eaJn8"
      },
      "source": [
        "As we mentioned above, we can write some complex statements here:"
      ]
    },
    {
      "cell_type": "code",
      "metadata": {
        "colab": {
          "base_uri": "https://localhost:8080/"
        },
        "id": "gh-U6nMzOv7e",
        "outputId": "278c09cc-10be-4372-f22e-29c1a5ee5f8b"
      },
      "source": [
        "p = 1 > 0\n",
        "q = 2 > 3\n",
        "if p and q:\n",
        "    print('p and q is true')\n",
        "elif p and not q:\n",
        "    print('q is false')\n",
        "elif q and not p:\n",
        "    print('p is false')\n",
        "else:\n",
        "    print('None of p and q is true')"
      ],
      "execution_count": null,
      "outputs": [
        {
          "output_type": "stream",
          "name": "stdout",
          "text": [
            "q is false\n"
          ]
        }
      ]
    },
    {
      "cell_type": "markdown",
      "metadata": {
        "id": "ewWCZ8sT-Ma7"
      },
      "source": [
        "#Ejemplo"
      ]
    },
    {
      "cell_type": "code",
      "metadata": {
        "colab": {
          "base_uri": "https://localhost:8080/"
        },
        "id": "9wJJw99l-NPB",
        "outputId": "0ba08bfd-e8ba-485e-ba37-724e9c3dc196"
      },
      "source": [
        "p = 6 > 5\n",
        "q = 9 > 3\n",
        "if p and q:\n",
        "    print('p and q is true')\n",
        "elif p and not q:\n",
        "    print('q is false')\n",
        "elif q and not p:\n",
        "    print('p is false')\n",
        "else:\n",
        "    print('None of p and q is true')"
      ],
      "execution_count": null,
      "outputs": [
        {
          "output_type": "stream",
          "name": "stdout",
          "text": [
            "p and q is true\n"
          ]
        }
      ]
    },
    {
      "cell_type": "markdown",
      "metadata": {
        "id": "tgRDwiAsaMOL"
      },
      "source": [
        "# Loop Structure\n",
        "Loops are an essential part of programming. The \"for\" and \"while\" loops run a block of code repeatedly.\n",
        "\n",
        "## While Loop\n",
        "A \"while\" loop will run repeatedly until a certain condition has been met."
      ]
    },
    {
      "cell_type": "code",
      "metadata": {
        "colab": {
          "base_uri": "https://localhost:8080/"
        },
        "id": "uQLau8d5Ov7f",
        "outputId": "aa7e27c1-cbf5-4347-89fb-a2b9558c5e78"
      },
      "source": [
        "i = 0\n",
        "while i < 5:\n",
        "    print(i)\n",
        "    i += 1 "
      ],
      "execution_count": null,
      "outputs": [
        {
          "output_type": "stream",
          "name": "stdout",
          "text": [
            "0\n",
            "1\n",
            "2\n",
            "3\n",
            "4\n"
          ]
        }
      ]
    },
    {
      "cell_type": "markdown",
      "metadata": {
        "id": "wLrUN0Rf-fbQ"
      },
      "source": [
        "#Ejemplo"
      ]
    },
    {
      "cell_type": "code",
      "metadata": {
        "colab": {
          "base_uri": "https://localhost:8080/"
        },
        "id": "bzfd7xIx-hsN",
        "outputId": "463bf998-fb5a-496b-d745-b168c1704b5c"
      },
      "source": [
        "i = 0\n",
        "while i < 10:\n",
        "    print(i)\n",
        "    i += 1 "
      ],
      "execution_count": null,
      "outputs": [
        {
          "output_type": "stream",
          "name": "stdout",
          "text": [
            "0\n",
            "1\n",
            "2\n",
            "3\n",
            "4\n",
            "5\n",
            "6\n",
            "7\n",
            "8\n",
            "9\n"
          ]
        }
      ]
    },
    {
      "cell_type": "markdown",
      "metadata": {
        "id": "ydLddFAPaTOE"
      },
      "source": [
        "When making a while loop, we need to ensure that something changes from iteration to iteration so that the while loop will terminate, otherwise, it will run forever. Here we used i += 1 (short for i = i + 1) to make i larger after each iteration. This is the most commonly used method to control a while loop.\n",
        "\n",
        "## For Loop\n",
        "A \"for\" loop will iterate over a sequence of value and terminate when the sequence has ended."
      ]
    },
    {
      "cell_type": "code",
      "metadata": {
        "colab": {
          "base_uri": "https://localhost:8080/"
        },
        "id": "kt8Ie8u1Ov7f",
        "outputId": "3e598608-0d6f-4e1c-b3fc-34d06ff14eb8"
      },
      "source": [
        "for i in [1,2,3,4,5]:\n",
        "    print(i)"
      ],
      "execution_count": null,
      "outputs": [
        {
          "output_type": "stream",
          "name": "stdout",
          "text": [
            "1\n",
            "2\n",
            "3\n",
            "4\n",
            "5\n"
          ]
        }
      ]
    },
    {
      "cell_type": "markdown",
      "metadata": {
        "id": "L4A1gXtg-oNv"
      },
      "source": [
        "#Ejemplo"
      ]
    },
    {
      "cell_type": "code",
      "metadata": {
        "colab": {
          "base_uri": "https://localhost:8080/"
        },
        "id": "l_gXbGv4-pWD",
        "outputId": "2873d58a-3e16-4af5-d729-957bd3b7ebf6"
      },
      "source": [
        "for i in [2,4,6,8,10]:\n",
        "    print(i)"
      ],
      "execution_count": null,
      "outputs": [
        {
          "output_type": "stream",
          "name": "stdout",
          "text": [
            "2\n",
            "4\n",
            "6\n",
            "8\n",
            "10\n"
          ]
        }
      ]
    },
    {
      "cell_type": "markdown",
      "metadata": {
        "id": "yWStqpreaX-T"
      },
      "source": [
        "We can also add if statements in a for loop. Here is a real example from our pairs trading algorithm:"
      ]
    },
    {
      "cell_type": "code",
      "metadata": {
        "colab": {
          "base_uri": "https://localhost:8080/"
        },
        "id": "kElmffvFOv7f",
        "outputId": "00639235-de68-40d0-8687-7dd18099e3a9"
      },
      "source": [
        "stocks = ['AAPL','GOOG','IBM','FB','F','V', 'G', 'GE']\n",
        "selected = ['AAPL','IBM']\n",
        "new_list = []\n",
        "for i in stocks:\n",
        "    if i not in selected:\n",
        "        new_list.append(i)\n",
        "print(stocks)"
      ],
      "execution_count": null,
      "outputs": [
        {
          "output_type": "stream",
          "name": "stdout",
          "text": [
            "['AAPL', 'GOOG', 'IBM', 'FB', 'F', 'V', 'G', 'GE']\n"
          ]
        }
      ]
    },
    {
      "cell_type": "markdown",
      "metadata": {
        "id": "8emXeGej-2t9"
      },
      "source": [
        "#Ejemplo"
      ]
    },
    {
      "cell_type": "code",
      "metadata": {
        "colab": {
          "base_uri": "https://localhost:8080/"
        },
        "id": "qAOqiIxg-3VT",
        "outputId": "af8b5404-f036-4bea-d22b-1eea1688990d"
      },
      "source": [
        "stock_set1 = ['AAPL','GOOG','IBM','FB','F','V', 'G', 'GE']\n",
        "selected1 = ['GOOG','GE']\n",
        "new_list1 = []\n",
        "for i in stocks:\n",
        "    if i not in selected1:\n",
        "        new_list1.append(i)\n",
        "print(stocks)"
      ],
      "execution_count": null,
      "outputs": [
        {
          "output_type": "stream",
          "name": "stdout",
          "text": [
            "['AAPL', 'GOOG', 'IBM', 'FB', 'F', 'V', 'G', 'GE']\n"
          ]
        }
      ]
    },
    {
      "cell_type": "markdown",
      "metadata": {
        "id": "wb2hry9dahE0"
      },
      "source": [
        "Here we iterated all the elements in the list 'stocks'. Later in this chapter, we will introduce a smarter way to do this, which is just a one-line code.\n",
        "\n",
        "## Break and continue\n",
        "These are two commonly used commands in a for loop. If \"break\" is triggered while a loop is executing, the loop will terminate immediately:"
      ]
    },
    {
      "cell_type": "code",
      "metadata": {
        "colab": {
          "base_uri": "https://localhost:8080/"
        },
        "id": "yF5wMVItOv7g",
        "outputId": "1ee854ba-f1bb-40f2-bb66-8159277b89b7"
      },
      "source": [
        "stocks = ['AAPL','GOOG','IBM','FB','F','V', 'G', 'GE']\n",
        "for i in stocks:\n",
        "    print(i)\n",
        "    if i == 'FB':\n",
        "        break"
      ],
      "execution_count": null,
      "outputs": [
        {
          "output_type": "stream",
          "name": "stdout",
          "text": [
            "AAPL\n",
            "GOOG\n",
            "IBM\n",
            "FB\n"
          ]
        }
      ]
    },
    {
      "cell_type": "markdown",
      "metadata": {
        "id": "N6iyRma3_-NR"
      },
      "source": [
        "#Ejemplo"
      ]
    },
    {
      "cell_type": "code",
      "metadata": {
        "colab": {
          "base_uri": "https://localhost:8080/"
        },
        "id": "zlo5h85yAdVE",
        "outputId": "219aff42-11b6-40d7-cf3e-237cdae5e618"
      },
      "source": [
        "stocks = ['AAPL','GOOG','IBM','FB','F','V', 'G', 'GE']\n",
        "for i in stocks:\n",
        "    print(i)\n",
        "    if i == 'F':\n",
        "        break"
      ],
      "execution_count": null,
      "outputs": [
        {
          "output_type": "stream",
          "name": "stdout",
          "text": [
            "AAPL\n",
            "GOOG\n",
            "IBM\n",
            "FB\n",
            "F\n"
          ]
        }
      ]
    },
    {
      "cell_type": "markdown",
      "metadata": {
        "id": "R0toxyp3ao0T"
      },
      "source": [
        "The \"continue\" command tells the loop to end this iteration and skip to the next iteration:"
      ]
    },
    {
      "cell_type": "code",
      "metadata": {
        "colab": {
          "base_uri": "https://localhost:8080/"
        },
        "id": "Stg-CH6IOv7g",
        "outputId": "7bff9c13-2d53-4ccc-e070-f4de7234d8cf"
      },
      "source": [
        "stocks = ['AAPL','GOOG','IBM','FB','F','V', 'G', 'GE']\n",
        "for i in stocks:\n",
        "    if i == 'FB':\n",
        "        continue\n",
        "    print(i)"
      ],
      "execution_count": null,
      "outputs": [
        {
          "output_type": "stream",
          "name": "stdout",
          "text": [
            "AAPL\n",
            "GOOG\n",
            "IBM\n",
            "F\n",
            "V\n",
            "G\n",
            "GE\n"
          ]
        }
      ]
    },
    {
      "cell_type": "markdown",
      "metadata": {
        "id": "Ddv64KDFAmgk"
      },
      "source": [
        "#Ejemplo"
      ]
    },
    {
      "cell_type": "code",
      "metadata": {
        "colab": {
          "base_uri": "https://localhost:8080/"
        },
        "id": "ftyLbWAtAplu",
        "outputId": "af89fc21-5e1b-45f4-8baf-a847bcfd2aef"
      },
      "source": [
        "stocks = ['AAPL','GOOG','IBM','FB','F','V', 'G', 'GE']\n",
        "for i in stocks:\n",
        "    if i == 'IBM':\n",
        "        continue\n",
        "    print(i)"
      ],
      "execution_count": null,
      "outputs": [
        {
          "output_type": "stream",
          "name": "stdout",
          "text": [
            "AAPL\n",
            "GOOG\n",
            "FB\n",
            "F\n",
            "V\n",
            "G\n",
            "GE\n"
          ]
        }
      ]
    },
    {
      "cell_type": "markdown",
      "metadata": {
        "id": "4NusvdhBaxpZ"
      },
      "source": [
        "# List Comprehension\n",
        "List comprehension is a Pythonic way to create lists. Common applications are to make new lists where each element is the result of some operations applied to each member of another sequence. For example, if we want to create a list of squares using for loop:"
      ]
    },
    {
      "cell_type": "code",
      "metadata": {
        "colab": {
          "base_uri": "https://localhost:8080/"
        },
        "id": "bdxxeOABOv7h",
        "outputId": "4c976f98-d139-4d13-afbf-4b2f45a6698e"
      },
      "source": [
        "squares = []\n",
        "for i in [1,2,3,4,5]:\n",
        "    squares.append(i**2)\n",
        "print(squares)"
      ],
      "execution_count": null,
      "outputs": [
        {
          "output_type": "stream",
          "name": "stdout",
          "text": [
            "[1, 4, 9, 16, 25]\n"
          ]
        }
      ]
    },
    {
      "cell_type": "markdown",
      "metadata": {
        "id": "yIHejH5_A1Je"
      },
      "source": [
        "#Ejemplo"
      ]
    },
    {
      "cell_type": "code",
      "metadata": {
        "colab": {
          "base_uri": "https://localhost:8080/"
        },
        "id": "252RtCemA4Ky",
        "outputId": "6a122247-5a78-40d0-9275-0e4c2be5469b"
      },
      "source": [
        "odd = []\n",
        "for i in [2,4,6,8,10]:\n",
        "    odd.append(i+1)\n",
        "print(odd)"
      ],
      "execution_count": null,
      "outputs": [
        {
          "output_type": "stream",
          "name": "stdout",
          "text": [
            "[3, 5, 7, 9, 11]\n"
          ]
        }
      ]
    },
    {
      "cell_type": "markdown",
      "metadata": {
        "id": "--KliJBOa1CC"
      },
      "source": [
        "Using list comprehension:"
      ]
    },
    {
      "cell_type": "code",
      "metadata": {
        "colab": {
          "base_uri": "https://localhost:8080/"
        },
        "id": "440-yjG8Ov7h",
        "outputId": "69947293-8145-425e-da94-197658f07e4b"
      },
      "source": [
        "list = [1,2,3,4,5]\n",
        "squares = [x**2 for x in list]\n",
        "print(squares)"
      ],
      "execution_count": null,
      "outputs": [
        {
          "output_type": "stream",
          "name": "stdout",
          "text": [
            "[1, 4, 9, 16, 25]\n"
          ]
        }
      ]
    },
    {
      "cell_type": "markdown",
      "metadata": {
        "id": "mmJD_wSZBPO_"
      },
      "source": [
        "#Ejemplo"
      ]
    },
    {
      "cell_type": "code",
      "metadata": {
        "colab": {
          "base_uri": "https://localhost:8080/"
        },
        "id": "t1xO-dKfBRxJ",
        "outputId": "b7108580-d75f-4c31-b5bb-85240d62b0f4"
      },
      "source": [
        "list2 = [2,4,6,8,10]\n",
        "odds = [x+1 for x in list2]\n",
        "print(odds)"
      ],
      "execution_count": null,
      "outputs": [
        {
          "output_type": "stream",
          "name": "stdout",
          "text": [
            "[3, 5, 7, 9, 11]\n"
          ]
        }
      ]
    },
    {
      "cell_type": "markdown",
      "metadata": {
        "id": "uMuCfR3ya3zT"
      },
      "source": [
        "Recall the example above where we used a for loop to select stocks. Here we use list comprehension:"
      ]
    },
    {
      "cell_type": "code",
      "metadata": {
        "colab": {
          "base_uri": "https://localhost:8080/"
        },
        "id": "ZGtCtog2Ov7h",
        "outputId": "67052a2f-e85b-4a38-b761-06092d9941a2"
      },
      "source": [
        "stocks = ['AAPL','GOOG','IBM','FB','F','V', 'G', 'GE']\n",
        "selected = ['AAPL','IBM']\n",
        "new_list = [x for x in stocks if x in selected]\n",
        "print(new_list)"
      ],
      "execution_count": null,
      "outputs": [
        {
          "output_type": "stream",
          "name": "stdout",
          "text": [
            "['AAPL', 'IBM']\n"
          ]
        }
      ]
    },
    {
      "cell_type": "markdown",
      "metadata": {
        "id": "O_jUYtsGBkqB"
      },
      "source": [
        "#Ejemplo"
      ]
    },
    {
      "cell_type": "code",
      "metadata": {
        "colab": {
          "base_uri": "https://localhost:8080/"
        },
        "id": "Z3o3wAS7BliM",
        "outputId": "5072ecc1-c3da-4bae-d013-91feba944281"
      },
      "source": [
        "stocks = ['AAPL','GOOG','IBM','FB','F','V', 'G', 'GE']\n",
        "selected = ['GOOG','V']\n",
        "new_list = [x for x in stocks if x in selected]\n",
        "print(new_list)"
      ],
      "execution_count": null,
      "outputs": [
        {
          "output_type": "stream",
          "name": "stdout",
          "text": [
            "['GOOG', 'V']\n"
          ]
        }
      ]
    },
    {
      "cell_type": "markdown",
      "metadata": {
        "id": "EPeUv6Lia5oD"
      },
      "source": [
        "A list comprehension consists of square brackets containing an expression followed by a \"for\" clause, and possibly \"for\" or \"if\" clauses. For example:"
      ]
    },
    {
      "cell_type": "code",
      "metadata": {
        "colab": {
          "base_uri": "https://localhost:8080/"
        },
        "id": "O1AMB5d7Ov7i",
        "outputId": "1bece767-b505-4c79-882a-9a3c39158590"
      },
      "source": [
        "print([(x, y) for x in [1,2,3] for y in [3,1,4] if x != y])\n",
        "print([str(x)+' vs '+str(y) for x in ['AAPL','GOOG','IBM','FB'] for y in ['F','V','G','GE'] if x!=y])"
      ],
      "execution_count": null,
      "outputs": [
        {
          "output_type": "stream",
          "name": "stdout",
          "text": [
            "[(1, 3), (1, 4), (2, 3), (2, 1), (2, 4), (3, 1), (3, 4)]\n",
            "['AAPL vs F', 'AAPL vs V', 'AAPL vs G', 'AAPL vs GE', 'GOOG vs F', 'GOOG vs V', 'GOOG vs G', 'GOOG vs GE', 'IBM vs F', 'IBM vs V', 'IBM vs G', 'IBM vs GE', 'FB vs F', 'FB vs V', 'FB vs G', 'FB vs GE']\n"
          ]
        }
      ]
    },
    {
      "cell_type": "markdown",
      "metadata": {
        "id": "Voyvp73GB9nX"
      },
      "source": [
        "#Ejemplo"
      ]
    },
    {
      "cell_type": "code",
      "metadata": {
        "colab": {
          "base_uri": "https://localhost:8080/"
        },
        "id": "c0ajVBmJB_nz",
        "outputId": "3b978422-452c-405f-868a-e93800672fe1"
      },
      "source": [
        "print([(x, y) for x in [2,4,6,8] for y in [1,3,5,7] if x != y])\n",
        "print([str(x)+' vs '+str(y) for x in ['Colombia','China','Rusia','Usa'] for y in ['España','Ecuador','Holanda','Suiza'] if x!=y])"
      ],
      "execution_count": null,
      "outputs": [
        {
          "output_type": "stream",
          "name": "stdout",
          "text": [
            "[(2, 1), (2, 3), (2, 5), (2, 7), (4, 1), (4, 3), (4, 5), (4, 7), (6, 1), (6, 3), (6, 5), (6, 7), (8, 1), (8, 3), (8, 5), (8, 7)]\n",
            "['Colombia vs España', 'Colombia vs Ecuador', 'Colombia vs Holanda', 'Colombia vs Suiza', 'China vs España', 'China vs Ecuador', 'China vs Holanda', 'China vs Suiza', 'Rusia vs España', 'Rusia vs Ecuador', 'Rusia vs Holanda', 'Rusia vs Suiza', 'Usa vs España', 'Usa vs Ecuador', 'Usa vs Holanda', 'Usa vs Suiza']\n"
          ]
        }
      ]
    },
    {
      "cell_type": "markdown",
      "metadata": {
        "id": "jJpvq-o4a8P7"
      },
      "source": [
        "List comprehension is an elegant way to organize one or more for loops when creating a list.\n",
        "\n",
        "# Summary\n",
        "This chapter has introduced logical operations, loops, and list comprehension. In the next chapter, we will introduce functions and object-oriented programming, which will enable us to make our codes clean and versatile."
      ]
    },
    {
      "cell_type": "markdown",
      "metadata": {
        "id": "Tef_X2wJbdhn"
      },
      "source": [
        "<div align=\"center\">\n",
        "<img style=\"display: block; margin: auto;\" alt=\"photo\" src=\"https://cdn.quantconnect.com/web/i/icon.png\">\n",
        "\n",
        "Quantconnect\n",
        "\n",
        "Introduction to Financial Python\n",
        "</div>\n",
        "\n",
        "# 03 Functions and Objective-Oriented Programming\n",
        "\n",
        "# Introduction\n",
        "\n",
        "In the last tutorial we introduced logical operations, loops and list comprehension. We will introduce functions and object-oriented programming in this chapter, which will enable us to build complex algorithms in more flexible ways.\n",
        "\n",
        "# Functions\n",
        "A function is a reusable block of code. We can use a function to output a value, or do anything else we want. We can easily define our own function by using the keyword \"def\"."
      ]
    },
    {
      "cell_type": "code",
      "metadata": {
        "colab": {
          "base_uri": "https://localhost:8080/"
        },
        "id": "eE_NkTiSO2PO",
        "outputId": "1aa3b83a-f3f3-4572-e6ca-e2aea1161af2"
      },
      "source": [
        "def product(x,y):\n",
        "    return x*y\n",
        "print(product(2,3))\n",
        "print(product(5,10))"
      ],
      "execution_count": null,
      "outputs": [
        {
          "output_type": "stream",
          "name": "stdout",
          "text": [
            "6\n",
            "50\n"
          ]
        }
      ]
    },
    {
      "cell_type": "markdown",
      "metadata": {
        "id": "Gl01n_7cMa-o"
      },
      "source": [
        "#Ejemplo"
      ]
    },
    {
      "cell_type": "code",
      "metadata": {
        "colab": {
          "base_uri": "https://localhost:8080/"
        },
        "id": "PPg94TrELf7t",
        "outputId": "94e0af39-63eb-4bfb-dc85-a9f5144d2b92"
      },
      "source": [
        "def sum(x,y):\n",
        "    return x+y\n",
        "print(sum(3,6))\n",
        "print(sum(34,2))"
      ],
      "execution_count": null,
      "outputs": [
        {
          "output_type": "stream",
          "name": "stdout",
          "text": [
            "9\n",
            "36\n"
          ]
        }
      ]
    },
    {
      "cell_type": "markdown",
      "metadata": {
        "id": "4oRU_dVJbsdD"
      },
      "source": [
        "The keyword \"def\" is followed by the function name and the parenthesized list of formal parameters. The statements that form the body of the function start at the next line, and must be indented. The product() function above has \"x\" and \"y\" as its parameters. A function doesn't necessarily have parameters:"
      ]
    },
    {
      "cell_type": "code",
      "metadata": {
        "colab": {
          "base_uri": "https://localhost:8080/"
        },
        "id": "JhdWVLbUO2PQ",
        "outputId": "9c9e5da8-7d8b-41a7-a414-ab631dbaa0ad"
      },
      "source": [
        "def say_hi():\n",
        "    print('Welcome to QuantConnect')\n",
        "say_hi()"
      ],
      "execution_count": null,
      "outputs": [
        {
          "output_type": "stream",
          "name": "stdout",
          "text": [
            "Welcome to QuantConnect\n"
          ]
        }
      ]
    },
    {
      "cell_type": "markdown",
      "metadata": {
        "id": "vNlWCSzQMk81"
      },
      "source": [
        "#Ejemplo"
      ]
    },
    {
      "cell_type": "code",
      "metadata": {
        "colab": {
          "base_uri": "https://localhost:8080/"
        },
        "id": "6Qh552JYMYoO",
        "outputId": "1f55a993-159e-416c-f3ee-4dc5ab5da073"
      },
      "source": [
        "def hi():\n",
        "    print('Hello mijito')\n",
        "hi()"
      ],
      "execution_count": null,
      "outputs": [
        {
          "output_type": "stream",
          "name": "stdout",
          "text": [
            "Hello mijito\n"
          ]
        }
      ]
    },
    {
      "cell_type": "markdown",
      "metadata": {
        "id": "lHwqVpWVb1Jr"
      },
      "source": [
        "# Built-in Function\n",
        "**range()** is a function that creates a list containing an arithmetic sequence. It's often used in for loops. The arguments must be integers. If the \"step\" argument is omitted, it defaults to 1."
      ]
    },
    {
      "cell_type": "code",
      "metadata": {
        "colab": {
          "base_uri": "https://localhost:8080/"
        },
        "id": "VVOTELcIO2PQ",
        "outputId": "8bb5339a-020e-4c83-9dc1-e3ff75eb5f2f"
      },
      "source": [
        "print(range(10))\n",
        "print(range(1,11))\n",
        "print(range(1,11,2))"
      ],
      "execution_count": null,
      "outputs": [
        {
          "output_type": "stream",
          "name": "stdout",
          "text": [
            "range(0, 10)\n",
            "range(1, 11)\n",
            "range(1, 11, 2)\n"
          ]
        }
      ]
    },
    {
      "cell_type": "markdown",
      "metadata": {
        "id": "Y1Ne21JwMsPS"
      },
      "source": [
        "#Ejemplo"
      ]
    },
    {
      "cell_type": "code",
      "metadata": {
        "colab": {
          "base_uri": "https://localhost:8080/"
        },
        "id": "xEuZes2hPBgP",
        "outputId": "2cbccafa-bc37-423b-d7e3-d1e9da992c6c"
      },
      "source": [
        "print(range(20))\n",
        "print(range(11,22))\n",
        "print(range(3,14,4))"
      ],
      "execution_count": null,
      "outputs": [
        {
          "output_type": "stream",
          "name": "stdout",
          "text": [
            "range(0, 20)\n",
            "range(11, 22)\n",
            "range(3, 14, 4)\n"
          ]
        }
      ]
    },
    {
      "cell_type": "markdown",
      "metadata": {
        "id": "PD0cSgiwcQ4L"
      },
      "source": [
        "**len()** is another function used together with range() to create a for loop. This function returns the length of an object. The argument must be a sequence or a collection."
      ]
    },
    {
      "cell_type": "code",
      "metadata": {
        "colab": {
          "base_uri": "https://localhost:8080/"
        },
        "id": "Hg18c7v-O2PR",
        "outputId": "54fb12c1-c46e-4b2f-c426-a0a5ac15eb1f"
      },
      "source": [
        "tickers = ['AAPL','GOOG','IBM','FB','F','V', 'G', 'GE']\n",
        "print('The length of tickers is {}'.format(len(tickers)))\n",
        "for i in range(len(tickers)):\n",
        "    print(tickers[i])"
      ],
      "execution_count": null,
      "outputs": [
        {
          "output_type": "stream",
          "name": "stdout",
          "text": [
            "The length of tickers is 8\n",
            "AAPL\n",
            "GOOG\n",
            "IBM\n",
            "FB\n",
            "F\n",
            "V\n",
            "G\n",
            "GE\n"
          ]
        }
      ]
    },
    {
      "cell_type": "markdown",
      "metadata": {
        "id": "OIQSuub1cWgi"
      },
      "source": [
        "Note: If you want to print only the tickers without those numbers, then simply write \"for ticker in tickers: print ticker\"\n",
        "\n",
        "**map(**) is a function that applies a specific function to every item of a sequence or collection, and returns a list of the results."
      ]
    },
    {
      "cell_type": "markdown",
      "metadata": {
        "id": "pqPuspeG5HAi"
      },
      "source": [
        "Because list at the moment is [1,2,3,4,5] and overwriting list() from builtins we del list"
      ]
    },
    {
      "cell_type": "code",
      "metadata": {
        "colab": {
          "base_uri": "https://localhost:8080/"
        },
        "id": "lJBs5ECT4mSq",
        "outputId": "b8621fb8-dc10-4f3f-8438-27546106b74d"
      },
      "source": [
        "tickers = ['AAPL','GOOG','IBM','FB','F','V', 'G', 'GE']\n",
        "list(map(len,tickers))"
      ],
      "execution_count": null,
      "outputs": [
        {
          "output_type": "execute_result",
          "data": {
            "text/plain": [
              "[4, 4, 3, 2, 1, 1, 1, 2]"
            ]
          },
          "metadata": {},
          "execution_count": 83
        }
      ]
    },
    {
      "cell_type": "code",
      "metadata": {
        "colab": {
          "base_uri": "https://localhost:8080/"
        },
        "id": "78DyKVOyO2PR",
        "outputId": "2ef00e65-0cea-415e-a5e5-f0fc0f3a53fa"
      },
      "source": [
        "tickers = ['AAPL','GOOG','IBM','FB','F','V', 'G', 'GE']\n",
        "print(list(map(len,tickers)))"
      ],
      "execution_count": null,
      "outputs": [
        {
          "output_type": "stream",
          "name": "stdout",
          "text": [
            "[4, 4, 3, 2, 1, 1, 1, 2]\n"
          ]
        }
      ]
    },
    {
      "cell_type": "markdown",
      "metadata": {
        "id": "mvr06UM7ca7b"
      },
      "source": [
        "The **lambda operator** is a way to create small anonymous functions. These functions are just needed where they have been created. For example:"
      ]
    },
    {
      "cell_type": "code",
      "metadata": {
        "colab": {
          "base_uri": "https://localhost:8080/"
        },
        "id": "pAEHADYXO2PR",
        "outputId": "f466031d-c67d-4f8b-f2ae-f23023008608"
      },
      "source": [
        "list(map(lambda x: x**2, range(10)))"
      ],
      "execution_count": null,
      "outputs": [
        {
          "output_type": "execute_result",
          "data": {
            "text/plain": [
              "[0, 1, 4, 9, 16, 25, 36, 49, 64, 81]"
            ]
          },
          "metadata": {},
          "execution_count": 85
        }
      ]
    },
    {
      "cell_type": "markdown",
      "metadata": {
        "id": "s1HAHXJDM4iU"
      },
      "source": [
        "#Ejemplo"
      ]
    },
    {
      "cell_type": "code",
      "metadata": {
        "colab": {
          "base_uri": "https://localhost:8080/"
        },
        "id": "-poGqQYIQz2W",
        "outputId": "f3a621af-7378-49d6-db39-b33bd01fa7c6"
      },
      "source": [
        "list(map(lambda x: x**5, range(10)))"
      ],
      "execution_count": null,
      "outputs": [
        {
          "output_type": "execute_result",
          "data": {
            "text/plain": [
              "[0, 1, 32, 243, 1024, 3125, 7776, 16807, 32768, 59049]"
            ]
          },
          "metadata": {},
          "execution_count": 87
        }
      ]
    },
    {
      "cell_type": "markdown",
      "metadata": {
        "id": "Mgixpxomcj3T"
      },
      "source": [
        "map() can be applied to more than one list. The lists have to have the same length."
      ]
    },
    {
      "cell_type": "code",
      "metadata": {
        "colab": {
          "base_uri": "https://localhost:8080/"
        },
        "id": "HtckhAaJO2PS",
        "outputId": "695d192c-6d11-4492-ea87-1e60889c42ea"
      },
      "source": [
        "list(map(lambda x, y: x+y, [1,2,3,4,5],[5,4,3,2,1]))"
      ],
      "execution_count": null,
      "outputs": [
        {
          "output_type": "execute_result",
          "data": {
            "text/plain": [
              "[6, 6, 6, 6, 6]"
            ]
          },
          "metadata": {},
          "execution_count": 86
        }
      ]
    },
    {
      "cell_type": "markdown",
      "metadata": {
        "id": "E25Q3zxJM7J2"
      },
      "source": [
        "#Ejemplo"
      ]
    },
    {
      "cell_type": "code",
      "metadata": {
        "colab": {
          "base_uri": "https://localhost:8080/"
        },
        "id": "1P7Y5bhLRBKA",
        "outputId": "dde1e1d4-3dd9-491d-ea7d-14a9bb7c18d8"
      },
      "source": [
        "list(map(lambda x, y: x+y, [2,4,6,8,10],[10,8,6,4,2]))"
      ],
      "execution_count": null,
      "outputs": [
        {
          "output_type": "execute_result",
          "data": {
            "text/plain": [
              "[12, 12, 12, 12, 12]"
            ]
          },
          "metadata": {},
          "execution_count": 88
        }
      ]
    },
    {
      "cell_type": "markdown",
      "metadata": {
        "id": "ZDnMTH-KcklT"
      },
      "source": [
        "**sorted()** takes a list or set and returns a new sorted list"
      ]
    },
    {
      "cell_type": "code",
      "metadata": {
        "colab": {
          "base_uri": "https://localhost:8080/"
        },
        "id": "P0sHUMFWO2PS",
        "outputId": "fd83efcc-d295-4b3c-e2f6-1f8298d13149"
      },
      "source": [
        "sorted([5,2,3,4,1])"
      ],
      "execution_count": null,
      "outputs": [
        {
          "output_type": "execute_result",
          "data": {
            "text/plain": [
              "[1, 2, 3, 4, 5]"
            ]
          },
          "metadata": {},
          "execution_count": 89
        }
      ]
    },
    {
      "cell_type": "markdown",
      "metadata": {
        "id": "OIblujziM9Ko"
      },
      "source": [
        "#Ejemplo"
      ]
    },
    {
      "cell_type": "code",
      "metadata": {
        "colab": {
          "base_uri": "https://localhost:8080/"
        },
        "id": "YsfnVHmQRSaT",
        "outputId": "c15cbe1e-d370-4be3-be10-6b9cd68f9cdd"
      },
      "source": [
        "sorted([10,8,6,4,2])"
      ],
      "execution_count": null,
      "outputs": [
        {
          "output_type": "execute_result",
          "data": {
            "text/plain": [
              "[2, 4, 6, 8, 10]"
            ]
          },
          "metadata": {},
          "execution_count": 90
        }
      ]
    },
    {
      "cell_type": "markdown",
      "metadata": {
        "id": "-N5_EDOFcnsc"
      },
      "source": [
        "We can add a \"key\" parameter to specify a function to be called on each list element prior to making comparisons. For example:"
      ]
    },
    {
      "cell_type": "code",
      "metadata": {
        "colab": {
          "base_uri": "https://localhost:8080/"
        },
        "id": "0i3peZ0bO2PS",
        "outputId": "29d0dee6-8874-41aa-c345-e1d7d95fbb2d"
      },
      "source": [
        "price_list = [('AAPL',144.09),('GOOG',911.71),('MSFT',69),('FB',150),('WMT',75.32)]\n",
        "sorted(price_list, key = lambda x: x[1])"
      ],
      "execution_count": null,
      "outputs": [
        {
          "output_type": "execute_result",
          "data": {
            "text/plain": [
              "[('MSFT', 69), ('WMT', 75.32), ('AAPL', 144.09), ('FB', 150), ('GOOG', 911.71)]"
            ]
          },
          "metadata": {},
          "execution_count": 91
        }
      ]
    },
    {
      "cell_type": "markdown",
      "metadata": {
        "id": "ayy1xubvM-LN"
      },
      "source": [
        "#Ejemplo"
      ]
    },
    {
      "cell_type": "code",
      "metadata": {
        "colab": {
          "base_uri": "https://localhost:8080/"
        },
        "id": "1vdQ1uTVRkqt",
        "outputId": "f836f68f-4458-442a-8750-90e2051d7f57"
      },
      "source": [
        "price_list1 = [('AAPL',342.09),('GOOG',934.71),('MSFT',34),('FB',222),('WMT',60.32)]\n",
        "sorted(price_list1, key = lambda x: x[1])"
      ],
      "execution_count": null,
      "outputs": [
        {
          "output_type": "execute_result",
          "data": {
            "text/plain": [
              "[('MSFT', 34), ('WMT', 60.32), ('FB', 222), ('AAPL', 342.09), ('GOOG', 934.71)]"
            ]
          },
          "metadata": {},
          "execution_count": 94
        }
      ]
    },
    {
      "cell_type": "markdown",
      "metadata": {
        "id": "yun2zptKcxe_"
      },
      "source": [
        "By default the values are sorted by ascending order. We can change it to descending by adding an optional parameter \"reverse'."
      ]
    },
    {
      "cell_type": "code",
      "metadata": {
        "colab": {
          "base_uri": "https://localhost:8080/"
        },
        "id": "dEZqdl94O2PT",
        "outputId": "e3525594-8baa-4929-d081-e7dd582738f4"
      },
      "source": [
        "price_list = [('AAPL',144.09),('GOOG',911.71),('MSFT',69),('FB',150),('WMT',75.32)]\n",
        "sorted(price_list, key = lambda x: x[1],reverse = True)"
      ],
      "execution_count": null,
      "outputs": [
        {
          "output_type": "execute_result",
          "data": {
            "text/plain": [
              "[('GOOG', 911.71), ('FB', 150), ('AAPL', 144.09), ('WMT', 75.32), ('MSFT', 69)]"
            ]
          },
          "metadata": {},
          "execution_count": 95
        }
      ]
    },
    {
      "cell_type": "markdown",
      "metadata": {
        "id": "FcbKsYeCM-5T"
      },
      "source": [
        "#Ejemplo"
      ]
    },
    {
      "cell_type": "code",
      "metadata": {
        "colab": {
          "base_uri": "https://localhost:8080/"
        },
        "id": "sm8OB1JyULTm",
        "outputId": "3dd04ae3-0827-43a3-b635-c908311173f6"
      },
      "source": [
        "price_list1 = [('AAPL',342.09),('GOOG',934.71),('MSFT',34),('FB',222),('WMT',60.32)]\n",
        "sorted(price_list1, key = lambda x: x[1],reverse = True)"
      ],
      "execution_count": null,
      "outputs": [
        {
          "output_type": "execute_result",
          "data": {
            "text/plain": [
              "[('GOOG', 934.71), ('AAPL', 342.09), ('FB', 222), ('WMT', 60.32), ('MSFT', 34)]"
            ]
          },
          "metadata": {},
          "execution_count": 97
        }
      ]
    },
    {
      "cell_type": "markdown",
      "metadata": {
        "id": "OA2wYAa0c6Dn"
      },
      "source": [
        "Lists also have a function list.sort(). This function takes the same \"key\" and \"reverse\" arguments as sorted(), but it doesn't return a new list."
      ]
    },
    {
      "cell_type": "code",
      "metadata": {
        "colab": {
          "base_uri": "https://localhost:8080/"
        },
        "id": "pG9VQCLnO2PT",
        "outputId": "2d61f802-ef23-424d-f22f-4304bcfc022a"
      },
      "source": [
        "price_list = [('AAPL',144.09),('GOOG',911.71),('MSFT',69),('FB',150),('WMT',75.32)]\n",
        "price_list.sort(key = lambda x: x[1])\n",
        "print(price_list)"
      ],
      "execution_count": null,
      "outputs": [
        {
          "output_type": "stream",
          "name": "stdout",
          "text": [
            "[('MSFT', 69), ('WMT', 75.32), ('AAPL', 144.09), ('FB', 150), ('GOOG', 911.71)]\n"
          ]
        }
      ]
    },
    {
      "cell_type": "markdown",
      "metadata": {
        "id": "DXhWs0GqUaZZ"
      },
      "source": [
        "#Ejemplo"
      ]
    },
    {
      "cell_type": "code",
      "metadata": {
        "colab": {
          "base_uri": "https://localhost:8080/"
        },
        "id": "p0glfmOPUew1",
        "outputId": "e46be4c4-c57a-4c1c-b8c4-5d5bf88d639d"
      },
      "source": [
        "price_list = [('AAPL',342.09),('GOOG',934.71),('MSFT',34),('FB',222),('WMT',60.32)]\n",
        "price_list.sort(key = lambda x: x[1])\n",
        "print(price_list)"
      ],
      "execution_count": null,
      "outputs": [
        {
          "output_type": "stream",
          "name": "stdout",
          "text": [
            "[('MSFT', 34), ('WMT', 60.32), ('FB', 222), ('AAPL', 342.09), ('GOOG', 934.71)]\n"
          ]
        }
      ]
    },
    {
      "cell_type": "markdown",
      "metadata": {
        "id": "mxljL1W1c_c5"
      },
      "source": [
        "# Object-Oriented Programming\n",
        "Python is an object-oriented programming language. It's important to understand the concept of \"objects\" because almost every kind of data from QuantConnect API is an object.\n",
        "\n",
        "## Class\n",
        "A class is a type of data, just like a string, float, or list. When we create an object of that data type, we call it an instance of a class.\n",
        "\n",
        "In Python, everything is an object - everything is an instance of some class. The data stored inside an object are called attributes, and the functions which are associated with the object are called methods.\n",
        "\n",
        "For example, as mentioned above, a list is an object of the \"list\" class, and it has a method list.sort().\n",
        "\n",
        "We can create our own objects by defining a class. We would do this when it's helpful to group certain functions together. For example, we define a class named \"Stock\" here:"
      ]
    },
    {
      "cell_type": "code",
      "metadata": {
        "id": "zC4Y4PgDO2PT"
      },
      "source": [
        "class stock:\n",
        "    def __init__(self, ticker, open, close, volume):\n",
        "        self.ticker = ticker\n",
        "        self.open = open\n",
        "        self.close = close\n",
        "        self.volume = volume\n",
        "        self.rate_return = float(close)/open - 1\n",
        " \n",
        "    def update(self, open, close):\n",
        "        self.open = open\n",
        "        self.close = close\n",
        "        self.rate_return = float(self.close)/self.open - 1\n",
        " \n",
        "    def print_return(self):\n",
        "        print(self.rate_return)"
      ],
      "execution_count": null,
      "outputs": []
    },
    {
      "cell_type": "markdown",
      "metadata": {
        "id": "rV06INT5dETi"
      },
      "source": [
        "The \"Stock\" class has attributes \"ticker\", \"open\", \"close\", \"volume\" and \"rate_return\". Inside the class body, the first method is called __init__, which is a special method. When we create a new instance of the class, the __init__ method is immediately executed with all the parameters that we pass to the \"Stock\" object. The purpose of this method is to set up a new \"Stock\" object using data we have provided.\n",
        "\n",
        "Here we create two Stock objects named \"apple\" and \"google\"."
      ]
    },
    {
      "cell_type": "code",
      "metadata": {
        "id": "8tIpNk93O2PU"
      },
      "source": [
        "apple = stock('AAPL', 143.69, 144.09, 20109375)\n",
        "google = stock('GOOG', 898.7, 911.7, 1561616)"
      ],
      "execution_count": null,
      "outputs": []
    },
    {
      "cell_type": "markdown",
      "metadata": {
        "id": "qk8NKHdtNEUR"
      },
      "source": [
        "#Ejemplo"
      ]
    },
    {
      "cell_type": "code",
      "metadata": {
        "id": "paBoGrHzUyhg"
      },
      "source": [
        "tesla = stock('TSLA', 999.69, 165.09, 50109375)\n",
        "facebook = stock('FB', 793.7, 834.7, 3561616)"
      ],
      "execution_count": null,
      "outputs": []
    },
    {
      "cell_type": "markdown",
      "metadata": {
        "id": "VxmELNiHdPKS"
      },
      "source": [
        "Stock objects also have two other methods: update() and print_return(). We can access the attribues of a Stock object and call its methods:"
      ]
    },
    {
      "cell_type": "code",
      "metadata": {
        "colab": {
          "base_uri": "https://localhost:8080/"
        },
        "id": "SsiIkmekO2PU",
        "outputId": "ec454235-bd3e-42aa-9f93-1dd8b120e148"
      },
      "source": [
        "apple.ticker\n",
        "google.print_return()\n",
        "google.update(912.8,913.4)\n",
        "google.print_return()"
      ],
      "execution_count": null,
      "outputs": [
        {
          "output_type": "stream",
          "name": "stdout",
          "text": [
            "0.014465338822744034\n",
            "0.0006573181419806673\n"
          ]
        }
      ]
    },
    {
      "cell_type": "markdown",
      "metadata": {
        "id": "QtcrQOYXNFMr"
      },
      "source": [
        "#Ejemplo"
      ]
    },
    {
      "cell_type": "code",
      "metadata": {
        "colab": {
          "base_uri": "https://localhost:8080/"
        },
        "id": "cEjrFdpMVQu4",
        "outputId": "e1445c58-230f-4848-fb66-15d22b51019b"
      },
      "source": [
        "tesla.ticker\n",
        "facebook.print_return()\n",
        "facebook.update(923.8,924.4)\n",
        "facebook.print_return()"
      ],
      "execution_count": null,
      "outputs": [
        {
          "output_type": "stream",
          "name": "stdout",
          "text": [
            "0.051656797278568645\n",
            "0.0006494912318684154\n"
          ]
        }
      ]
    },
    {
      "cell_type": "markdown",
      "metadata": {
        "id": "Q8fl7keNdVKF"
      },
      "source": [
        "By calling the update() function, we updated the open and close prices of a stock. Please note that when we use the attributes or call the methods **inside a class**, we need to specify them as self.attribute or self.method(), otherwise Python will deem them as global variables and thus raise an error.\n",
        "\n",
        "We can add an attribute to an object anywhere:"
      ]
    },
    {
      "cell_type": "code",
      "metadata": {
        "colab": {
          "base_uri": "https://localhost:8080/",
          "height": 35
        },
        "id": "rO4OLnqOO2PU",
        "outputId": "8a0b42e6-5bec-44a8-a514-610e0c4398ec"
      },
      "source": [
        "apple.ceo = 'Tim Cook'\n",
        "apple.ceo"
      ],
      "execution_count": null,
      "outputs": [
        {
          "output_type": "execute_result",
          "data": {
            "application/vnd.google.colaboratory.intrinsic+json": {
              "type": "string"
            },
            "text/plain": [
              "'Tim Cook'"
            ]
          },
          "metadata": {},
          "execution_count": 106
        }
      ]
    },
    {
      "cell_type": "markdown",
      "metadata": {
        "id": "EICMLhuENGJU"
      },
      "source": [
        "#Ejemplo"
      ]
    },
    {
      "cell_type": "code",
      "metadata": {
        "colab": {
          "base_uri": "https://localhost:8080/",
          "height": 35
        },
        "id": "5ZpfMlW4VeLw",
        "outputId": "ae67daea-ad29-465b-fea5-094fac77ec10"
      },
      "source": [
        "facebook.ceo = 'Mark Z'\n",
        "facebook.ceo"
      ],
      "execution_count": null,
      "outputs": [
        {
          "output_type": "execute_result",
          "data": {
            "application/vnd.google.colaboratory.intrinsic+json": {
              "type": "string"
            },
            "text/plain": [
              "'Mark Z'"
            ]
          },
          "metadata": {},
          "execution_count": 107
        }
      ]
    },
    {
      "cell_type": "markdown",
      "metadata": {
        "id": "WyfnFgVidh4J"
      },
      "source": [
        "We can check what names (i.e. attributes and methods) are defined on an object using the dir() function:"
      ]
    },
    {
      "cell_type": "code",
      "metadata": {
        "colab": {
          "base_uri": "https://localhost:8080/"
        },
        "id": "pPoz0LA8O2PU",
        "outputId": "cd63a247-9a1d-490b-aa1f-4e2fcb2ec466"
      },
      "source": [
        "dir(apple)"
      ],
      "execution_count": null,
      "outputs": [
        {
          "output_type": "execute_result",
          "data": {
            "text/plain": [
              "['__class__',\n",
              " '__delattr__',\n",
              " '__dict__',\n",
              " '__dir__',\n",
              " '__doc__',\n",
              " '__eq__',\n",
              " '__format__',\n",
              " '__ge__',\n",
              " '__getattribute__',\n",
              " '__gt__',\n",
              " '__hash__',\n",
              " '__init__',\n",
              " '__init_subclass__',\n",
              " '__le__',\n",
              " '__lt__',\n",
              " '__module__',\n",
              " '__ne__',\n",
              " '__new__',\n",
              " '__reduce__',\n",
              " '__reduce_ex__',\n",
              " '__repr__',\n",
              " '__setattr__',\n",
              " '__sizeof__',\n",
              " '__str__',\n",
              " '__subclasshook__',\n",
              " '__weakref__',\n",
              " 'ceo',\n",
              " 'close',\n",
              " 'open',\n",
              " 'print_return',\n",
              " 'rate_return',\n",
              " 'ticker',\n",
              " 'update',\n",
              " 'volume']"
            ]
          },
          "metadata": {},
          "execution_count": 108
        }
      ]
    },
    {
      "cell_type": "markdown",
      "metadata": {
        "id": "LdesnagPNGyl"
      },
      "source": [
        "#Ejemplo"
      ]
    },
    {
      "cell_type": "code",
      "metadata": {
        "colab": {
          "base_uri": "https://localhost:8080/"
        },
        "id": "Yq2oDGrgWfoz",
        "outputId": "6b51e0c5-fb28-4bd7-d4f8-0ab6ea4d7a25"
      },
      "source": [
        "dir(facebook)"
      ],
      "execution_count": null,
      "outputs": [
        {
          "output_type": "execute_result",
          "data": {
            "text/plain": [
              "['__class__',\n",
              " '__delattr__',\n",
              " '__dict__',\n",
              " '__dir__',\n",
              " '__doc__',\n",
              " '__eq__',\n",
              " '__format__',\n",
              " '__ge__',\n",
              " '__getattribute__',\n",
              " '__gt__',\n",
              " '__hash__',\n",
              " '__init__',\n",
              " '__init_subclass__',\n",
              " '__le__',\n",
              " '__lt__',\n",
              " '__module__',\n",
              " '__ne__',\n",
              " '__new__',\n",
              " '__reduce__',\n",
              " '__reduce_ex__',\n",
              " '__repr__',\n",
              " '__setattr__',\n",
              " '__sizeof__',\n",
              " '__str__',\n",
              " '__subclasshook__',\n",
              " '__weakref__',\n",
              " 'ceo',\n",
              " 'close',\n",
              " 'open',\n",
              " 'print_return',\n",
              " 'rate_return',\n",
              " 'ticker',\n",
              " 'update',\n",
              " 'volume']"
            ]
          },
          "metadata": {},
          "execution_count": 109
        }
      ]
    },
    {
      "cell_type": "markdown",
      "metadata": {
        "id": "Qpemj1UZd2aa"
      },
      "source": [
        "## Inheritance\n",
        "Inheritance is a way of arranging classes in a hierarchy from the most general to the most specific. A \"child\" class is a more specific type of a \"parent\" class because a child class will inherit all the attribues and methods of its parent. For example, we define a class named \"Child\" which inherits \"Stock\":"
      ]
    },
    {
      "cell_type": "code",
      "metadata": {
        "id": "UELXnxomO2PV"
      },
      "source": [
        "class child(stock):\n",
        "    def __init__(self,name):\n",
        "        self.name = name"
      ],
      "execution_count": null,
      "outputs": []
    },
    {
      "cell_type": "code",
      "metadata": {
        "colab": {
          "base_uri": "https://localhost:8080/"
        },
        "id": "ffS2THZyO2PV",
        "outputId": "cb07e779-63c3-49df-dffb-a342d6a848cb"
      },
      "source": [
        "aa = child('aa')\n",
        "print(aa.name)\n",
        "aa.update(100,102)\n",
        "print(aa.open)\n",
        "print(aa.close)\n",
        "print(aa.print_return())"
      ],
      "execution_count": null,
      "outputs": [
        {
          "output_type": "stream",
          "name": "stdout",
          "text": [
            "aa\n",
            "100\n",
            "102\n",
            "0.020000000000000018\n",
            "None\n"
          ]
        }
      ]
    },
    {
      "cell_type": "markdown",
      "metadata": {
        "id": "KIBQWbfUNJtM"
      },
      "source": [
        "#Ejemplo"
      ]
    },
    {
      "cell_type": "code",
      "metadata": {
        "colab": {
          "base_uri": "https://localhost:8080/"
        },
        "id": "xBte8Ys8Wvmj",
        "outputId": "95ae582e-818c-4e03-be25-74d6e20e8e3e"
      },
      "source": [
        "bb = child('bb')\n",
        "print(bb.name)\n",
        "bb.update(134,156)\n",
        "print(bb.open)\n",
        "print(bb.close)\n",
        "print(bb.print_return())"
      ],
      "execution_count": null,
      "outputs": [
        {
          "output_type": "stream",
          "name": "stdout",
          "text": [
            "bb\n",
            "134\n",
            "156\n",
            "0.16417910447761197\n",
            "None\n"
          ]
        }
      ]
    },
    {
      "cell_type": "markdown",
      "metadata": {
        "id": "pdIEjUv2eJqL"
      },
      "source": [
        "As seen above, the new class Child has inherited the methods from Stock.\n",
        "\n",
        "#Summary\n",
        "\n",
        "In this chapter we have introduced functions and classes. When we write a QuantConnect algorithm, we would define our algorithm as a class (QCAlgorithm). This means our algorithm inherited the QC API methods from QCAlgorithm class.\n",
        "\n",
        "In the next chapter, we will introduce NumPy and Pandas, which enable us to conduct scientific calculations in Python."
      ]
    },
    {
      "cell_type": "markdown",
      "metadata": {
        "id": "dQbENH6mexTd"
      },
      "source": [
        "<div align=\"center\">\n",
        "<img style=\"display: block; margin: auto;\" alt=\"photo\" src=\"https://cdn.quantconnect.com/web/i/icon.png\">\n",
        "\n",
        "Quantconnect\n",
        "\n",
        "Introduction to Financial Python\n",
        "</div>\n",
        "\n",
        "# 04 NumPy and Basic Pandas\n",
        "\n",
        "# Introduction\n",
        "\n",
        "Now that we have introduced the fundamentals of Python, it's time to learn about NumPy and Pandas.\n",
        "\n",
        "# NumPy\n",
        "NumPy is the core library for scientific computing in Python. It provides a high-performance multidimensional array object, and tools for working with these arrays. It also has strong integration with Pandas, which is another powerful tool for manipulating financial data.\n",
        "\n",
        "Python packages like NumPy and Pandas contain classes and methods which we can use by importing the package:"
      ]
    },
    {
      "cell_type": "code",
      "metadata": {
        "id": "aIESp-rdO58h"
      },
      "source": [
        "import numpy as np"
      ],
      "execution_count": null,
      "outputs": []
    },
    {
      "cell_type": "markdown",
      "metadata": {
        "id": "GScHHJ5ke7ea"
      },
      "source": [
        "## Basic NumPy Arrays\n",
        "A NumPy array is a grid of values, all of the same type, and is indexed by a tuple of nonnegative integers. Here we make an array by passing a list of Apple stock prices:"
      ]
    },
    {
      "cell_type": "code",
      "metadata": {
        "colab": {
          "base_uri": "https://localhost:8080/"
        },
        "id": "lZI1wkwDO58i",
        "outputId": "3f63632d-3af3-4d18-e11b-74f18f23d84e"
      },
      "source": [
        "price_list = [143.73, 145.83, 143.68, 144.02, 143.5, 142.62]\n",
        "price_array = np.array(price_list)\n",
        "print(price_array, type(price_array))"
      ],
      "execution_count": null,
      "outputs": [
        {
          "output_type": "stream",
          "name": "stdout",
          "text": [
            "[143.73 145.83 143.68 144.02 143.5  142.62] <class 'numpy.ndarray'>\n"
          ]
        }
      ]
    },
    {
      "cell_type": "markdown",
      "metadata": {
        "id": "tLA4OtS-YHpm"
      },
      "source": [
        "#Ejemplo"
      ]
    },
    {
      "cell_type": "code",
      "metadata": {
        "colab": {
          "base_uri": "https://localhost:8080/"
        },
        "id": "-A2wH1OedFfu",
        "outputId": "ad8f203f-87f0-4ea5-91e7-32d28b9d43c0"
      },
      "source": [
        "price = [156.73, 123.43, 193.65, 150.19, 167.5, 196.78]\n",
        "prices_array = np.array(price)\n",
        "print(prices_array, type(price_array))"
      ],
      "execution_count": null,
      "outputs": [
        {
          "output_type": "stream",
          "name": "stdout",
          "text": [
            "[156.73 123.43 193.65 150.19 167.5  196.78] <class 'numpy.ndarray'>\n"
          ]
        }
      ]
    },
    {
      "cell_type": "markdown",
      "metadata": {
        "id": "-5Yj6u9ifB-t"
      },
      "source": [
        "Notice that the type of array is \"ndarray\" which is a multi-dimensional array. If we pass np.array() a list of lists, it will create a 2-dimensional array."
      ]
    },
    {
      "cell_type": "code",
      "metadata": {
        "colab": {
          "base_uri": "https://localhost:8080/"
        },
        "id": "obvIZrK-O58j",
        "outputId": "33ebdf2f-4e21-475f-a765-93d7aaf4f463"
      },
      "source": [
        "Ar = np.array([[1,3],[2,4]])\n",
        "print(Ar, type(Ar))"
      ],
      "execution_count": null,
      "outputs": [
        {
          "output_type": "stream",
          "name": "stdout",
          "text": [
            "[[1 3]\n",
            " [2 4]] <class 'numpy.ndarray'>\n"
          ]
        }
      ]
    },
    {
      "cell_type": "markdown",
      "metadata": {
        "id": "ZGL_CDS6YOnv"
      },
      "source": [
        "#Ejemplo"
      ]
    },
    {
      "cell_type": "code",
      "metadata": {
        "colab": {
          "base_uri": "https://localhost:8080/"
        },
        "id": "Gg2SKgV1dhZM",
        "outputId": "9ff9baca-24c1-41be-89b7-8e87d3fdc9a1"
      },
      "source": [
        "Arr = np.array([[3,2],[8,6],[5,4]])\n",
        "print(Arr, type(Arr))"
      ],
      "execution_count": null,
      "outputs": [
        {
          "output_type": "stream",
          "name": "stdout",
          "text": [
            "[[3 2]\n",
            " [8 6]\n",
            " [5 4]] <class 'numpy.ndarray'>\n"
          ]
        }
      ]
    },
    {
      "cell_type": "markdown",
      "metadata": {
        "id": "uDdfLD9HfHkl"
      },
      "source": [
        "We get the dimensions of an ndarray using the .shape attribute:"
      ]
    },
    {
      "cell_type": "code",
      "metadata": {
        "colab": {
          "base_uri": "https://localhost:8080/"
        },
        "id": "G2txdn73O58j",
        "outputId": "2336202c-17a9-4bb6-ad88-75472e9ee8c3"
      },
      "source": [
        "print(Ar.shape)"
      ],
      "execution_count": null,
      "outputs": [
        {
          "output_type": "stream",
          "name": "stdout",
          "text": [
            "(2, 2)\n"
          ]
        }
      ]
    },
    {
      "cell_type": "markdown",
      "metadata": {
        "id": "_Ehje2BTYRCl"
      },
      "source": [
        "#Ejemplo"
      ]
    },
    {
      "cell_type": "code",
      "metadata": {
        "colab": {
          "base_uri": "https://localhost:8080/"
        },
        "id": "XFhGlnn_d92O",
        "outputId": "92507618-9bd5-4fa5-d8f6-96dd84fc9fa7"
      },
      "source": [
        "print(Arr.shape)"
      ],
      "execution_count": null,
      "outputs": [
        {
          "output_type": "stream",
          "name": "stdout",
          "text": [
            "(3, 2)\n"
          ]
        }
      ]
    },
    {
      "cell_type": "markdown",
      "metadata": {
        "id": "87W5ueORfPEy"
      },
      "source": [
        "If we create an 2-dimensional array (i.e. matrix), each row can be accessed by index:"
      ]
    },
    {
      "cell_type": "code",
      "metadata": {
        "colab": {
          "base_uri": "https://localhost:8080/"
        },
        "id": "x_QV9aPbO58j",
        "outputId": "c6fd49dd-524a-4823-cae2-5949a26c6b74"
      },
      "source": [
        "print(Ar[0])\n",
        "print(Ar[1])"
      ],
      "execution_count": null,
      "outputs": [
        {
          "output_type": "stream",
          "name": "stdout",
          "text": [
            "[1 3]\n",
            "[2 4]\n"
          ]
        }
      ]
    },
    {
      "cell_type": "markdown",
      "metadata": {
        "id": "a-FGAUXmYSnM"
      },
      "source": [
        "#Ejemplo"
      ]
    },
    {
      "cell_type": "code",
      "metadata": {
        "colab": {
          "base_uri": "https://localhost:8080/"
        },
        "id": "FCHmTP_reIyE",
        "outputId": "ce3e81bd-9a44-48bf-84ed-38d1d0f372d3"
      },
      "source": [
        "print(Arr[1])\n",
        "print(Arr[2])"
      ],
      "execution_count": null,
      "outputs": [
        {
          "output_type": "stream",
          "name": "stdout",
          "text": [
            "[8 6]\n",
            "[5 4]\n"
          ]
        }
      ]
    },
    {
      "cell_type": "markdown",
      "metadata": {
        "id": "5Hke7Vt-fSGB"
      },
      "source": [
        "If we want to access the matrix by column instead:"
      ]
    },
    {
      "cell_type": "code",
      "metadata": {
        "colab": {
          "base_uri": "https://localhost:8080/"
        },
        "id": "gHVwbPfOO58j",
        "outputId": "2a293d8c-3a3e-47a5-ef78-e2917f6f811a"
      },
      "source": [
        "print('the first column: ', Ar[:,0])\n",
        "print('the second column: ', Ar[:,1])"
      ],
      "execution_count": null,
      "outputs": [
        {
          "output_type": "stream",
          "name": "stdout",
          "text": [
            "the first column:  [1 2]\n",
            "the second column:  [3 4]\n"
          ]
        }
      ]
    },
    {
      "cell_type": "markdown",
      "metadata": {
        "id": "JJISaohJYTmy"
      },
      "source": [
        "#Ejemplo"
      ]
    },
    {
      "cell_type": "code",
      "metadata": {
        "colab": {
          "base_uri": "https://localhost:8080/"
        },
        "id": "19p4zO27eoui",
        "outputId": "d707ded7-8adc-45d1-cdc0-33918887695c"
      },
      "source": [
        "print('the first column: ', Arr[:,0])\n",
        "print('the second column: ', Arr[:,1])"
      ],
      "execution_count": null,
      "outputs": [
        {
          "output_type": "stream",
          "name": "stdout",
          "text": [
            "the first column:  [3 8 5]\n",
            "the second column:  [2 6 4]\n"
          ]
        }
      ]
    },
    {
      "cell_type": "markdown",
      "metadata": {
        "id": "T61cD0HMfStB"
      },
      "source": [
        "## Array Functions\n",
        "Some functions built in NumPy that allow us to perform calculations on arrays. For example, we can apply the natural logarithm to each element of an array:"
      ]
    },
    {
      "cell_type": "code",
      "metadata": {
        "colab": {
          "base_uri": "https://localhost:8080/"
        },
        "id": "PKhwtJ7XO58k",
        "outputId": "03fbba03-9d8f-41b4-d369-54d2095964ec"
      },
      "source": [
        "print(np.log(price_array))"
      ],
      "execution_count": null,
      "outputs": [
        {
          "output_type": "stream",
          "name": "stdout",
          "text": [
            "[4.96793654 4.98244156 4.9675886  4.96995218 4.96633504 4.96018375]\n"
          ]
        }
      ]
    },
    {
      "cell_type": "markdown",
      "metadata": {
        "id": "_l4DjUqKYUkM"
      },
      "source": [
        "#Ejemplo"
      ]
    },
    {
      "cell_type": "code",
      "metadata": {
        "colab": {
          "base_uri": "https://localhost:8080/"
        },
        "id": "XOzM63qKe6nA",
        "outputId": "2947842b-60a4-48d4-dae7-a454f6b7618a"
      },
      "source": [
        "print(np.log(prices_array))"
      ],
      "execution_count": null,
      "outputs": [
        {
          "output_type": "stream",
          "name": "stdout",
          "text": [
            "[5.05452458 4.81567419 5.26605241 5.01190116 5.12098335 5.28208635]\n"
          ]
        }
      ]
    },
    {
      "cell_type": "markdown",
      "metadata": {
        "id": "uzjBRFBLfZ-D"
      },
      "source": [
        "Other functions return a single value:"
      ]
    },
    {
      "cell_type": "code",
      "metadata": {
        "colab": {
          "base_uri": "https://localhost:8080/"
        },
        "id": "nQuABZqUO58k",
        "outputId": "826ff3fb-c84a-40ff-b765-af3286ed55a2"
      },
      "source": [
        "print(np.mean(price_array))\n",
        "print(np.std(price_array))\n",
        "print(np.sum(price_array))\n",
        "print(np.max(price_array))"
      ],
      "execution_count": null,
      "outputs": [
        {
          "output_type": "stream",
          "name": "stdout",
          "text": [
            "143.89666666666668\n",
            "0.9673790478515796\n",
            "863.38\n",
            "145.83\n"
          ]
        }
      ]
    },
    {
      "cell_type": "markdown",
      "metadata": {
        "id": "czNQB-nNYVp9"
      },
      "source": [
        "#Ejemplo"
      ]
    },
    {
      "cell_type": "code",
      "metadata": {
        "colab": {
          "base_uri": "https://localhost:8080/"
        },
        "id": "J3e0pQw3e-qK",
        "outputId": "90e06f68-353a-4aaa-a25e-f071dcb7165d"
      },
      "source": [
        "print(np.mean(prices_array))\n",
        "print(np.std(prices_array))\n",
        "print(np.sum(prices_array))\n",
        "print(np.max(prices_array))"
      ],
      "execution_count": null,
      "outputs": [
        {
          "output_type": "stream",
          "name": "stdout",
          "text": [
            "164.71333333333334\n",
            "25.338842821951353\n",
            "988.28\n",
            "196.78\n"
          ]
        }
      ]
    },
    {
      "cell_type": "markdown",
      "metadata": {
        "id": "IRW95BsifgDB"
      },
      "source": [
        "The functions above return the mean, standard deviation, total and maximum value of an array.\n",
        "\n",
        "# Pandas\n",
        "Pandas is one of the most powerful tools for dealing with financial data. \n",
        "\n",
        "First we need to import Pandas:"
      ]
    },
    {
      "cell_type": "code",
      "metadata": {
        "id": "xIYH4oUfO58k"
      },
      "source": [
        "import pandas as pd"
      ],
      "execution_count": null,
      "outputs": []
    },
    {
      "cell_type": "markdown",
      "metadata": {
        "id": "zOig5gORfnJU"
      },
      "source": [
        "## Series\n",
        "Series is a one-dimensional labeled array capable of holding any data type (integers, strings, float, Python object, etc.)\n",
        "\n",
        "We create a Series by calling pd.Series(data), where data can be a dictionary, an array or just a scalar value."
      ]
    },
    {
      "cell_type": "code",
      "metadata": {
        "colab": {
          "base_uri": "https://localhost:8080/"
        },
        "id": "JmzoNzrPO58k",
        "outputId": "707ce8bc-e3a9-42ce-fe55-b39709bef40a"
      },
      "source": [
        "price = [143.73, 145.83, 143.68, 144.02, 143.5, 142.62]\n",
        "s = pd.Series(price)\n",
        "s"
      ],
      "execution_count": null,
      "outputs": [
        {
          "output_type": "execute_result",
          "data": {
            "text/plain": [
              "0    143.73\n",
              "1    145.83\n",
              "2    143.68\n",
              "3    144.02\n",
              "4    143.50\n",
              "5    142.62\n",
              "dtype: float64"
            ]
          },
          "metadata": {},
          "execution_count": 130
        }
      ]
    },
    {
      "cell_type": "markdown",
      "metadata": {
        "id": "sYgBHRMMYYPu"
      },
      "source": [
        "#Ejemplo"
      ]
    },
    {
      "cell_type": "code",
      "metadata": {
        "colab": {
          "base_uri": "https://localhost:8080/"
        },
        "id": "gRvo6-xofIHK",
        "outputId": "02682e87-dca9-43cf-d617-b4fdddd4e52b"
      },
      "source": [
        "prices = [156.73, 123.43, 193.65, 150.19, 167.5, 196.78]\n",
        "z = pd.Series(prices)\n",
        "z"
      ],
      "execution_count": null,
      "outputs": [
        {
          "output_type": "execute_result",
          "data": {
            "text/plain": [
              "0    156.73\n",
              "1    123.43\n",
              "2    193.65\n",
              "3    150.19\n",
              "4    167.50\n",
              "5    196.78\n",
              "dtype: float64"
            ]
          },
          "metadata": {},
          "execution_count": 131
        }
      ]
    },
    {
      "cell_type": "markdown",
      "metadata": {
        "id": "tP5iDnunfq46"
      },
      "source": [
        "We can customize the indices of a new Series:"
      ]
    },
    {
      "cell_type": "code",
      "metadata": {
        "colab": {
          "base_uri": "https://localhost:8080/"
        },
        "id": "eswQC3ZPO58l",
        "outputId": "f790acc7-820e-4e39-cd9c-da6160ec84b9"
      },
      "source": [
        "s = pd.Series(price,index = ['a','b','c','d','e','f'])\n",
        "s"
      ],
      "execution_count": null,
      "outputs": [
        {
          "output_type": "execute_result",
          "data": {
            "text/plain": [
              "a    143.73\n",
              "b    145.83\n",
              "c    143.68\n",
              "d    144.02\n",
              "e    143.50\n",
              "f    142.62\n",
              "dtype: float64"
            ]
          },
          "metadata": {},
          "execution_count": 132
        }
      ]
    },
    {
      "cell_type": "markdown",
      "metadata": {
        "id": "iIO9FBgaYZNR"
      },
      "source": [
        "#Ejemplo"
      ]
    },
    {
      "cell_type": "code",
      "metadata": {
        "colab": {
          "base_uri": "https://localhost:8080/"
        },
        "id": "BEkFEiRifa3L",
        "outputId": "74cc2ad2-550f-4797-b78c-8f7a7755f621"
      },
      "source": [
        "z = pd.Series(prices,index = ['i','ii','iii','iv','v','vi'])\n",
        "z"
      ],
      "execution_count": null,
      "outputs": [
        {
          "output_type": "execute_result",
          "data": {
            "text/plain": [
              "i      156.73\n",
              "ii     123.43\n",
              "iii    193.65\n",
              "iv     150.19\n",
              "v      167.50\n",
              "vi     196.78\n",
              "dtype: float64"
            ]
          },
          "metadata": {},
          "execution_count": 133
        }
      ]
    },
    {
      "cell_type": "markdown",
      "metadata": {
        "id": "wdZrb8pEfuua"
      },
      "source": [
        "Or we can change the indices of an existing Series:"
      ]
    },
    {
      "cell_type": "code",
      "metadata": {
        "colab": {
          "base_uri": "https://localhost:8080/"
        },
        "id": "MwlRnPF6O58l",
        "outputId": "cb22d2bc-5b6e-4c97-908f-a1021f1739f9"
      },
      "source": [
        "s.index = [6,5,4,3,2,1]\n",
        "s"
      ],
      "execution_count": null,
      "outputs": [
        {
          "output_type": "execute_result",
          "data": {
            "text/plain": [
              "6    143.73\n",
              "5    145.83\n",
              "4    143.68\n",
              "3    144.02\n",
              "2    143.50\n",
              "1    142.62\n",
              "dtype: float64"
            ]
          },
          "metadata": {},
          "execution_count": 134
        }
      ]
    },
    {
      "cell_type": "markdown",
      "metadata": {
        "id": "zVNVTzWgYaG8"
      },
      "source": [
        "#Ejemplo"
      ]
    },
    {
      "cell_type": "code",
      "metadata": {
        "colab": {
          "base_uri": "https://localhost:8080/"
        },
        "id": "Boj-p2B2fvPR",
        "outputId": "88e870db-f16c-442b-c0ee-1bd25ffa0e25"
      },
      "source": [
        "z.index = [1,2,3,4,5,6]\n",
        "z"
      ],
      "execution_count": null,
      "outputs": [
        {
          "output_type": "execute_result",
          "data": {
            "text/plain": [
              "1    156.73\n",
              "2    123.43\n",
              "3    193.65\n",
              "4    150.19\n",
              "5    167.50\n",
              "6    196.78\n",
              "dtype: float64"
            ]
          },
          "metadata": {},
          "execution_count": 135
        }
      ]
    },
    {
      "cell_type": "markdown",
      "metadata": {
        "id": "6cGNQZwLfxIz"
      },
      "source": [
        "Series is like a list since it can be sliced by index:"
      ]
    },
    {
      "cell_type": "code",
      "metadata": {
        "colab": {
          "base_uri": "https://localhost:8080/"
        },
        "id": "N9bBSg6cO58l",
        "outputId": "21747c19-e187-47e8-96a5-a41359fdbe60"
      },
      "source": [
        "print(s[1:])\n",
        "print(s[:-2])"
      ],
      "execution_count": null,
      "outputs": [
        {
          "output_type": "stream",
          "name": "stdout",
          "text": [
            "5    145.83\n",
            "4    143.68\n",
            "3    144.02\n",
            "2    143.50\n",
            "1    142.62\n",
            "dtype: float64\n",
            "6    143.73\n",
            "5    145.83\n",
            "4    143.68\n",
            "3    144.02\n",
            "dtype: float64\n"
          ]
        }
      ]
    },
    {
      "cell_type": "markdown",
      "metadata": {
        "id": "ug-wZWJPYa6y"
      },
      "source": [
        "#Ejemplo"
      ]
    },
    {
      "cell_type": "code",
      "metadata": {
        "colab": {
          "base_uri": "https://localhost:8080/"
        },
        "id": "AZ4mP0MXggtm",
        "outputId": "dc11eba9-51ce-433f-8079-bc9d5797a718"
      },
      "source": [
        "print(z[1:])\n",
        "print(z[:-3])"
      ],
      "execution_count": null,
      "outputs": [
        {
          "output_type": "stream",
          "name": "stdout",
          "text": [
            "2    123.43\n",
            "3    193.65\n",
            "4    150.19\n",
            "5    167.50\n",
            "6    196.78\n",
            "dtype: float64\n",
            "1    156.73\n",
            "2    123.43\n",
            "3    193.65\n",
            "dtype: float64\n"
          ]
        }
      ]
    },
    {
      "cell_type": "markdown",
      "metadata": {
        "id": "5V25nViZfz3Z"
      },
      "source": [
        "Series is also like a dictionary whose values can be set or fetched by index label:"
      ]
    },
    {
      "cell_type": "code",
      "metadata": {
        "colab": {
          "base_uri": "https://localhost:8080/"
        },
        "id": "b3Y0kKGYO58l",
        "outputId": "5fa64166-2535-43e6-f5fe-11dc8790da70"
      },
      "source": [
        "print(s[4])\n",
        "s[4] = 0\n",
        "print(s)"
      ],
      "execution_count": null,
      "outputs": [
        {
          "output_type": "stream",
          "name": "stdout",
          "text": [
            "143.68\n",
            "6    143.73\n",
            "5    145.83\n",
            "4      0.00\n",
            "3    144.02\n",
            "2    143.50\n",
            "1    142.62\n",
            "dtype: float64\n"
          ]
        }
      ]
    },
    {
      "cell_type": "markdown",
      "metadata": {
        "id": "H3Ie0O97Ybuw"
      },
      "source": [
        "#Ejemplo"
      ]
    },
    {
      "cell_type": "code",
      "metadata": {
        "colab": {
          "base_uri": "https://localhost:8080/"
        },
        "id": "cQ-CEG31iIoU",
        "outputId": "c9f67c3c-6f3e-4d8b-e191-5ecf91e1fbcd"
      },
      "source": [
        "print(z[3])\n",
        "z[3] = 0\n",
        "print(z)"
      ],
      "execution_count": null,
      "outputs": [
        {
          "output_type": "stream",
          "name": "stdout",
          "text": [
            "193.65\n",
            "1    156.73\n",
            "2    123.43\n",
            "3      0.00\n",
            "4    150.19\n",
            "5    167.50\n",
            "6    196.78\n",
            "dtype: float64\n"
          ]
        }
      ]
    },
    {
      "cell_type": "markdown",
      "metadata": {
        "id": "RQ1P7Gkyf060"
      },
      "source": [
        "Series can also have a name attribute, which will be used when we make up a Pandas DataFrame using several series."
      ]
    },
    {
      "cell_type": "code",
      "metadata": {
        "colab": {
          "base_uri": "https://localhost:8080/"
        },
        "id": "ZeD4-p7KO58m",
        "outputId": "55c25f71-9937-47c6-a10a-9bc15ca82e7e"
      },
      "source": [
        "s = pd.Series(price, name = 'Apple Price List')\n",
        "print(s)\n",
        "print(s.name)"
      ],
      "execution_count": null,
      "outputs": [
        {
          "output_type": "stream",
          "name": "stdout",
          "text": [
            "0    143.73\n",
            "1    145.83\n",
            "2    143.68\n",
            "3    144.02\n",
            "4    143.50\n",
            "5    142.62\n",
            "Name: Apple Price List, dtype: float64\n",
            "Apple Price List\n"
          ]
        }
      ]
    },
    {
      "cell_type": "markdown",
      "metadata": {
        "id": "Uh_HbTKEYcko"
      },
      "source": [
        "#Ejemplo"
      ]
    },
    {
      "cell_type": "code",
      "metadata": {
        "colab": {
          "base_uri": "https://localhost:8080/"
        },
        "id": "Tl3VK1wDiWvr",
        "outputId": "f81ccec8-6581-4839-cba6-f77acb71492a"
      },
      "source": [
        "z = pd.Series(prices, name = 'coffe Price List')\n",
        "print(z)\n",
        "print(z.name)"
      ],
      "execution_count": null,
      "outputs": [
        {
          "output_type": "stream",
          "name": "stdout",
          "text": [
            "0    156.73\n",
            "1    123.43\n",
            "2    193.65\n",
            "3    150.19\n",
            "4    167.50\n",
            "5    196.78\n",
            "Name: coffe Price List, dtype: float64\n",
            "coffe Price List\n"
          ]
        }
      ]
    },
    {
      "cell_type": "markdown",
      "metadata": {
        "id": "geJb1pGHf5Et"
      },
      "source": [
        "We can get the statistical summaries of a Series:"
      ]
    },
    {
      "cell_type": "code",
      "metadata": {
        "colab": {
          "base_uri": "https://localhost:8080/"
        },
        "id": "mGPtFcjegm4i",
        "outputId": "a48f125c-f5d2-48fb-edfd-4dc23e2f3427"
      },
      "source": [
        "print(s.describe())"
      ],
      "execution_count": null,
      "outputs": [
        {
          "output_type": "stream",
          "name": "stdout",
          "text": [
            "count      6.000000\n",
            "mean     143.896667\n",
            "std        1.059711\n",
            "min      142.620000\n",
            "25%      143.545000\n",
            "50%      143.705000\n",
            "75%      143.947500\n",
            "max      145.830000\n",
            "Name: Apple Price List, dtype: float64\n"
          ]
        }
      ]
    },
    {
      "cell_type": "markdown",
      "metadata": {
        "id": "yiz5vaw2JeP7"
      },
      "source": [
        "#Ejemplo"
      ]
    },
    {
      "cell_type": "code",
      "metadata": {
        "colab": {
          "base_uri": "https://localhost:8080/"
        },
        "id": "d11dqpRfJh73",
        "outputId": "04b56b0a-88a9-44fb-9135-b65e7b578bb6"
      },
      "source": [
        "print(z.describe())"
      ],
      "execution_count": null,
      "outputs": [
        {
          "output_type": "stream",
          "name": "stdout",
          "text": [
            "count      6.000000\n",
            "mean     164.713333\n",
            "std       27.757312\n",
            "min      123.430000\n",
            "25%      151.825000\n",
            "50%      162.115000\n",
            "75%      187.112500\n",
            "max      196.780000\n",
            "Name: coffe Price List, dtype: float64\n"
          ]
        }
      ]
    },
    {
      "cell_type": "markdown",
      "metadata": {
        "id": "LkdZu-CDgvlR"
      },
      "source": [
        "## Time Index\n",
        "Pandas has a built-in function specifically for creating date indices: pd.date_range(). We use it to create a new index for our Series:"
      ]
    },
    {
      "cell_type": "code",
      "metadata": {
        "colab": {
          "base_uri": "https://localhost:8080/"
        },
        "id": "HJe5hU4zO58m",
        "outputId": "750c61df-dd38-49c9-8b1f-41ed1b4e26a3"
      },
      "source": [
        "time_index = pd.date_range('2017-01-01',periods = len(s),freq = 'D')\n",
        "print(time_index)\n",
        "s.index = time_index\n",
        "print(s)"
      ],
      "execution_count": null,
      "outputs": [
        {
          "output_type": "stream",
          "name": "stdout",
          "text": [
            "DatetimeIndex(['2017-01-01', '2017-01-02', '2017-01-03', '2017-01-04',\n",
            "               '2017-01-05', '2017-01-06'],\n",
            "              dtype='datetime64[ns]', freq='D')\n",
            "2017-01-01    143.73\n",
            "2017-01-02    145.83\n",
            "2017-01-03    143.68\n",
            "2017-01-04    144.02\n",
            "2017-01-05    143.50\n",
            "2017-01-06    142.62\n",
            "Freq: D, Name: Apple Price List, dtype: float64\n"
          ]
        }
      ]
    },
    {
      "cell_type": "markdown",
      "metadata": {
        "id": "zQpem25sYdNQ"
      },
      "source": [
        "#Ejemplo"
      ]
    },
    {
      "cell_type": "code",
      "metadata": {
        "colab": {
          "base_uri": "https://localhost:8080/"
        },
        "id": "kVPpfn9sisRW",
        "outputId": "dad22dc6-4634-46f7-a28e-47141b4bf5e1"
      },
      "source": [
        "time_index1 = pd.date_range('2021-02-01',periods = len(z),freq = 'D')\n",
        "print(time_index1)\n",
        "z.index = time_index1\n",
        "print(z)"
      ],
      "execution_count": null,
      "outputs": [
        {
          "output_type": "stream",
          "name": "stdout",
          "text": [
            "DatetimeIndex(['2021-02-01', '2021-02-02', '2021-02-03', '2021-02-04',\n",
            "               '2021-02-05', '2021-02-06'],\n",
            "              dtype='datetime64[ns]', freq='D')\n",
            "2021-02-01    156.73\n",
            "2021-02-02    123.43\n",
            "2021-02-03    193.65\n",
            "2021-02-04    150.19\n",
            "2021-02-05    167.50\n",
            "2021-02-06    196.78\n",
            "Freq: D, Name: coffe Price List, dtype: float64\n"
          ]
        }
      ]
    },
    {
      "cell_type": "markdown",
      "metadata": {
        "id": "7WedejFZg19J"
      },
      "source": [
        "Series are usually accessed using the iloc[] and loc[] methods. iloc[] is used to access elements by integer index, and loc[] is used to access the index of the series.\n",
        "\n",
        "iloc[] is necessary when the index of a series are integers, take our previous defined series as example:"
      ]
    },
    {
      "cell_type": "code",
      "metadata": {
        "colab": {
          "base_uri": "https://localhost:8080/"
        },
        "id": "KrVSOyMvO58m",
        "outputId": "fa1f0983-e287-458a-c888-74244319dd5b"
      },
      "source": [
        "s.index = [6,5,4,3,2,1]\n",
        "print(s)\n",
        "print(s[1])"
      ],
      "execution_count": null,
      "outputs": [
        {
          "output_type": "stream",
          "name": "stdout",
          "text": [
            "6    143.73\n",
            "5    145.83\n",
            "4    143.68\n",
            "3    144.02\n",
            "2    143.50\n",
            "1    142.62\n",
            "Name: Apple Price List, dtype: float64\n",
            "142.62\n"
          ]
        }
      ]
    },
    {
      "cell_type": "markdown",
      "metadata": {
        "id": "XoJi5lz8YeEW"
      },
      "source": [
        "#Ejemplo"
      ]
    },
    {
      "cell_type": "code",
      "metadata": {
        "colab": {
          "base_uri": "https://localhost:8080/"
        },
        "id": "qy6R48K8jAH9",
        "outputId": "3be1bc1f-5937-4df5-e2d5-042ade7e1a10"
      },
      "source": [
        "z.index = [1,2,3,4,5,6]\n",
        "print(z)\n",
        "print(z[1])"
      ],
      "execution_count": null,
      "outputs": [
        {
          "output_type": "stream",
          "name": "stdout",
          "text": [
            "1    156.73\n",
            "2    123.43\n",
            "3    193.65\n",
            "4    150.19\n",
            "5    167.50\n",
            "6    196.78\n",
            "Name: coffe Price List, dtype: float64\n",
            "156.73\n"
          ]
        }
      ]
    },
    {
      "cell_type": "markdown",
      "metadata": {
        "id": "r30VKPtpg61p"
      },
      "source": [
        "If we intended to take the second element of the series, we would make a mistake here, because the index are integers. In order to access to the element we want, we use iloc[] here:"
      ]
    },
    {
      "cell_type": "code",
      "metadata": {
        "colab": {
          "base_uri": "https://localhost:8080/"
        },
        "id": "bHukfaAmO58m",
        "outputId": "64ba0097-5596-4eca-c5eb-5e3c61917629"
      },
      "source": [
        "print(s.iloc[1])"
      ],
      "execution_count": null,
      "outputs": [
        {
          "output_type": "stream",
          "name": "stdout",
          "text": [
            "145.83\n"
          ]
        }
      ]
    },
    {
      "cell_type": "markdown",
      "metadata": {
        "id": "4cQMuYnFYfPi"
      },
      "source": [
        "#Ejemplo"
      ]
    },
    {
      "cell_type": "code",
      "metadata": {
        "colab": {
          "base_uri": "https://localhost:8080/"
        },
        "id": "2axYHtB6jOIe",
        "outputId": "86dc664a-c473-49c8-fedb-222cf926b597"
      },
      "source": [
        "print(z.iloc[1])"
      ],
      "execution_count": null,
      "outputs": [
        {
          "output_type": "stream",
          "name": "stdout",
          "text": [
            "123.43\n"
          ]
        }
      ]
    },
    {
      "cell_type": "markdown",
      "metadata": {
        "id": "kHVBRL_Rg84j"
      },
      "source": [
        "While working with time series data, we often use time as the index. Pandas provides us with various methods to access the data by time index"
      ]
    },
    {
      "cell_type": "code",
      "metadata": {
        "colab": {
          "base_uri": "https://localhost:8080/"
        },
        "id": "FCf8Hg7jO58n",
        "outputId": "5fbf3915-bf25-4bfd-8832-82d967d74573"
      },
      "source": [
        "s.index = time_index\n",
        "print(s['2017-01-03'])"
      ],
      "execution_count": null,
      "outputs": [
        {
          "output_type": "stream",
          "name": "stdout",
          "text": [
            "143.68\n"
          ]
        }
      ]
    },
    {
      "cell_type": "markdown",
      "metadata": {
        "id": "m6z8zg6tYgCo"
      },
      "source": [
        "#Ejemplo"
      ]
    },
    {
      "cell_type": "code",
      "metadata": {
        "colab": {
          "base_uri": "https://localhost:8080/"
        },
        "id": "uM9qSUMlCcMP",
        "outputId": "7efab1b3-8325-4a91-b965-58c3123b9c2f"
      },
      "source": [
        "s.index = time_index1\n",
        "print(z['2021-02-03'])"
      ],
      "execution_count": null,
      "outputs": [
        {
          "output_type": "stream",
          "name": "stdout",
          "text": [
            "193.65\n"
          ]
        }
      ]
    },
    {
      "cell_type": "markdown",
      "metadata": {
        "id": "XJXcrSFpg-To"
      },
      "source": [
        "We can even access to a range of dates:"
      ]
    },
    {
      "cell_type": "code",
      "metadata": {
        "colab": {
          "base_uri": "https://localhost:8080/"
        },
        "id": "NsE-Lr_9O58n",
        "outputId": "91f5d844-69e6-4826-9113-9efeac48f41e"
      },
      "source": [
        "print(s['2017-01-02':'2017-01-05'])"
      ],
      "execution_count": null,
      "outputs": [
        {
          "output_type": "stream",
          "name": "stdout",
          "text": [
            "2017-01-02    145.83\n",
            "2017-01-03    143.68\n",
            "2017-01-04    144.02\n",
            "2017-01-05    143.50\n",
            "Freq: D, Name: Apple Price List, dtype: float64\n"
          ]
        }
      ]
    },
    {
      "cell_type": "markdown",
      "metadata": {
        "id": "9GKJfIH1Yg2U"
      },
      "source": [
        "#Ejemplo"
      ]
    },
    {
      "cell_type": "code",
      "metadata": {
        "colab": {
          "base_uri": "https://localhost:8080/"
        },
        "id": "XTJ46X0kCo6N",
        "outputId": "2ea6fcd2-e850-4949-9748-7d57a9653b01"
      },
      "source": [
        "print(z['2021-02-02':'2021-02-06'])"
      ],
      "execution_count": null,
      "outputs": [
        {
          "output_type": "stream",
          "name": "stdout",
          "text": [
            "2021-02-02    123.43\n",
            "2021-02-03    193.65\n",
            "2021-02-04    150.19\n",
            "2021-02-05    167.50\n",
            "2021-02-06    196.78\n",
            "Freq: D, Name: coffe Price List, dtype: float64\n"
          ]
        }
      ]
    },
    {
      "cell_type": "markdown",
      "metadata": {
        "id": "cWA3NCXEhCLB"
      },
      "source": [
        "Series[] provides us a very flexible way to index data. We can add any condition in the square brackets:"
      ]
    },
    {
      "cell_type": "code",
      "metadata": {
        "colab": {
          "base_uri": "https://localhost:8080/"
        },
        "id": "aawbrg2EO58n",
        "outputId": "c65ef691-3810-41d2-ed20-7ee46e34c24d"
      },
      "source": [
        "print(s[s < np.mean(s)] )\n",
        "print([(s > np.mean(s)) & (s < np.mean(s) + 1.64*np.std(s))])"
      ],
      "execution_count": null,
      "outputs": [
        {
          "output_type": "stream",
          "name": "stdout",
          "text": [
            "2017-01-01    143.73\n",
            "2017-01-03    143.68\n",
            "2017-01-05    143.50\n",
            "2017-01-06    142.62\n",
            "Name: Apple Price List, dtype: float64\n",
            "[2017-01-01    False\n",
            "2017-01-02    False\n",
            "2017-01-03    False\n",
            "2017-01-04     True\n",
            "2017-01-05    False\n",
            "2017-01-06    False\n",
            "Freq: D, Name: Apple Price List, dtype: bool]\n"
          ]
        }
      ]
    },
    {
      "cell_type": "markdown",
      "metadata": {
        "id": "5wTYaOBzYhtK"
      },
      "source": [
        "#Ejemplo"
      ]
    },
    {
      "cell_type": "code",
      "metadata": {
        "colab": {
          "base_uri": "https://localhost:8080/"
        },
        "id": "ylvci5DUCyeA",
        "outputId": "e8be8315-0a56-42bd-ae5c-cdcf4190a995"
      },
      "source": [
        "print(z[z > np.mean(z)] )\n",
        "print([(z < np.mean(z)) & (s < np.mean(z) + 1.64*np.std(z))])"
      ],
      "execution_count": null,
      "outputs": [
        {
          "output_type": "stream",
          "name": "stdout",
          "text": [
            "2021-02-03    193.65\n",
            "2021-02-05    167.50\n",
            "2021-02-06    196.78\n",
            "Name: coffe Price List, dtype: float64\n",
            "[2017-01-01    False\n",
            "2017-01-02    False\n",
            "2017-01-03    False\n",
            "2017-01-04    False\n",
            "2017-01-05    False\n",
            "2017-01-06    False\n",
            "2021-02-01    False\n",
            "2021-02-02    False\n",
            "2021-02-03    False\n",
            "2021-02-04    False\n",
            "2021-02-05    False\n",
            "2021-02-06    False\n",
            "dtype: bool]\n"
          ]
        }
      ]
    },
    {
      "cell_type": "markdown",
      "metadata": {
        "id": "jAByChIwhEuI"
      },
      "source": [
        "As demonstrated, we can use logical operators like & (and), | (or) and ~ (not) to group multiple conditions.\n",
        "\n",
        "# Summary\n",
        "Here we have introduced NumPy and Pandas for scientific computing in Python. In the next chapter, we will dive into Pandas to learn resampling and manipulating Pandas DataFrame, which are commonly used in financial data analysis."
      ]
    },
    {
      "cell_type": "markdown",
      "metadata": {
        "id": "OtjOpw6oJp6z"
      },
      "source": [
        "<div align=\"center\">\n",
        "<img style=\"display: block; margin: auto;\" alt=\"photo\" src=\"https://cdn.quantconnect.com/web/i/icon.png\"> <img style=\"display: block; margin: auto;\" alt=\"photo\" src=\"https://www.marketing-branding.com/wp-content/uploads/2020/07/google-colaboratory-colab-guia-completa.jpg \" width=\"50\" height=\"50\">\n",
        "<img style=\"display: block; margin: auto;\" alt=\"photo\" src=\"https://upload.wikimedia.org/wikipedia/commons/d/da/Yahoo_Finance_Logo_2019.svg\" width=\"50\" height=\"50\">  \n",
        "\n",
        "Quantconnect -> Google Colab with Yahoo Finance data\n",
        "\n",
        "Introduction to Financial Python\n",
        "</div>\n",
        "\n",
        "# 05 Pandas-Resampling and DataFrame\n",
        "\n",
        "# Introduction\n",
        "In the last chapter we had a glimpse of Pandas. In this chapter we will learn about resampling methods and the DataFrame object, which is a powerful tool for financial data analysis.\n",
        "\n",
        "# Fetching Data\n",
        "Here we use the Yahoo Finance to retrieve data.\n"
      ]
    },
    {
      "cell_type": "code",
      "metadata": {
        "colab": {
          "base_uri": "https://localhost:8080/"
        },
        "id": "luU8mZTsHW9x",
        "outputId": "bca23fc5-a068-4eb4-b2c9-4a98e7d63c76"
      },
      "source": [
        "!pip install yfinance"
      ],
      "execution_count": null,
      "outputs": [
        {
          "output_type": "stream",
          "name": "stdout",
          "text": [
            "Collecting yfinance\n",
            "  Downloading yfinance-0.1.63.tar.gz (26 kB)\n",
            "Requirement already satisfied: pandas>=0.24 in /usr/local/lib/python3.7/dist-packages (from yfinance) (1.1.5)\n",
            "Requirement already satisfied: numpy>=1.15 in /usr/local/lib/python3.7/dist-packages (from yfinance) (1.19.5)\n",
            "Requirement already satisfied: requests>=2.20 in /usr/local/lib/python3.7/dist-packages (from yfinance) (2.23.0)\n",
            "Requirement already satisfied: multitasking>=0.0.7 in /usr/local/lib/python3.7/dist-packages (from yfinance) (0.0.9)\n",
            "Collecting lxml>=4.5.1\n",
            "  Downloading lxml-4.6.3-cp37-cp37m-manylinux2014_x86_64.whl (6.3 MB)\n",
            "\u001b[K     |████████████████████████████████| 6.3 MB 8.1 MB/s \n",
            "\u001b[?25hRequirement already satisfied: python-dateutil>=2.7.3 in /usr/local/lib/python3.7/dist-packages (from pandas>=0.24->yfinance) (2.8.2)\n",
            "Requirement already satisfied: pytz>=2017.2 in /usr/local/lib/python3.7/dist-packages (from pandas>=0.24->yfinance) (2018.9)\n",
            "Requirement already satisfied: six>=1.5 in /usr/local/lib/python3.7/dist-packages (from python-dateutil>=2.7.3->pandas>=0.24->yfinance) (1.15.0)\n",
            "Requirement already satisfied: urllib3!=1.25.0,!=1.25.1,<1.26,>=1.21.1 in /usr/local/lib/python3.7/dist-packages (from requests>=2.20->yfinance) (1.24.3)\n",
            "Requirement already satisfied: chardet<4,>=3.0.2 in /usr/local/lib/python3.7/dist-packages (from requests>=2.20->yfinance) (3.0.4)\n",
            "Requirement already satisfied: certifi>=2017.4.17 in /usr/local/lib/python3.7/dist-packages (from requests>=2.20->yfinance) (2021.5.30)\n",
            "Requirement already satisfied: idna<3,>=2.5 in /usr/local/lib/python3.7/dist-packages (from requests>=2.20->yfinance) (2.10)\n",
            "Building wheels for collected packages: yfinance\n",
            "  Building wheel for yfinance (setup.py) ... \u001b[?25l\u001b[?25hdone\n",
            "  Created wheel for yfinance: filename=yfinance-0.1.63-py2.py3-none-any.whl size=23918 sha256=744fa5f98756af8bc8e8590686a31d06951b98db28c56bfb32424a0ac46b4ada\n",
            "  Stored in directory: /root/.cache/pip/wheels/fe/87/8b/7ec24486e001d3926537f5f7801f57a74d181be25b11157983\n",
            "Successfully built yfinance\n",
            "Installing collected packages: lxml, yfinance\n",
            "  Attempting uninstall: lxml\n",
            "    Found existing installation: lxml 4.2.6\n",
            "    Uninstalling lxml-4.2.6:\n",
            "      Successfully uninstalled lxml-4.2.6\n",
            "Successfully installed lxml-4.6.3 yfinance-0.1.63\n"
          ]
        }
      ]
    },
    {
      "cell_type": "code",
      "metadata": {
        "colab": {
          "base_uri": "https://localhost:8080/",
          "height": 487
        },
        "id": "mWZ-nirTZHrE",
        "outputId": "1f810563-fdfc-41b1-adc4-5fb0d025a152"
      },
      "source": [
        "import yfinance as yf\n",
        "\n",
        "aapl = yf.Ticker(\"AAPL\")\n",
        "\n",
        "# get stock info\n",
        "print(aapl.info)\n",
        "\n",
        "# get historical market data\n",
        "aapl_table = aapl.history(start=\"2016-01-01\",  end=\"2017-12-31\")\n",
        "aapl_table"
      ],
      "execution_count": null,
      "outputs": [
        {
          "output_type": "stream",
          "name": "stdout",
          "text": [
            "{'zip': '95014', 'sector': 'Technology', 'fullTimeEmployees': 147000, 'longBusinessSummary': 'Apple Inc. designs, manufactures, and markets smartphones, personal computers, tablets, wearables, and accessories worldwide. It also sells various related services. The company offers iPhone, a line of smartphones; Mac, a line of personal computers; iPad, a line of multi-purpose tablets; and wearables, home, and accessories comprising AirPods, Apple TV, Apple Watch, Beats products, HomePod, iPod touch, and other Apple-branded and third-party accessories. It also provides AppleCare support services; cloud services store services; and operates various platforms, including the App Store, that allow customers to discover and download applications and digital content, such as books, music, video, games, and podcasts. In addition, the company offers various services, such as Apple Arcade, a game subscription service; Apple Music, which offers users a curated listening experience with on-demand radio stations; Apple News+, a subscription news and magazine service; Apple TV+, which offers exclusive original content; Apple Card, a co-branded credit card; and Apple Pay, a cashless payment service, as well as licenses its intellectual property. The company serves consumers, and small and mid-sized businesses; and the education, enterprise, and government markets. It sells and delivers third-party applications for its products through the App Store. The company also sells its products through its retail and online stores, and direct sales force; and third-party cellular network carriers, wholesalers, retailers, and resellers. Apple Inc. was founded in 1977 and is headquartered in Cupertino, California.', 'city': 'Cupertino', 'phone': '408-996-1010', 'state': 'CA', 'country': 'United States', 'companyOfficers': [], 'website': 'http://www.apple.com', 'maxAge': 1, 'address1': 'One Apple Park Way', 'industry': 'Consumer Electronics', 'ebitdaMargins': 0.31955, 'profitMargins': 0.25004, 'grossMargins': 0.41005, 'operatingCashflow': 104414003200, 'revenueGrowth': 0.364, 'operatingMargins': 0.28788, 'ebitda': 110934999040, 'targetLowPrice': 132, 'recommendationKey': 'buy', 'grossProfits': 104956000000, 'freeCashflow': 80625876992, 'targetMedianPrice': 169.64, 'currentPrice': 146.55, 'earningsGrowth': 1, 'currentRatio': 1.062, 'returnOnAssets': 0.19302, 'numberOfAnalystOpinions': 42, 'targetMeanPrice': 167.92, 'debtToEquity': 210.782, 'returnOnEquity': 1.27125, 'targetHighPrice': 190, 'totalCash': 61696000000, 'totalDebt': 135491002368, 'totalRevenue': 347155005440, 'totalCashPerShare': 3.732, 'financialCurrency': 'USD', 'revenuePerShare': 20.61, 'quickRatio': 0.887, 'recommendationMean': 1.9, 'exchange': 'NMS', 'shortName': 'Apple Inc.', 'longName': 'Apple Inc.', 'exchangeTimezoneName': 'America/New_York', 'exchangeTimezoneShortName': 'EDT', 'isEsgPopulated': False, 'gmtOffSetMilliseconds': '-14400000', 'quoteType': 'EQUITY', 'symbol': 'AAPL', 'messageBoardId': 'finmb_24937', 'market': 'us_market', 'annualHoldingsTurnover': None, 'enterpriseToRevenue': 7.109, 'beta3Year': None, 'enterpriseToEbitda': 22.247, '52WeekChange': 0.2325759, 'morningStarRiskRating': None, 'forwardEps': 5.68, 'revenueQuarterlyGrowth': None, 'sharesOutstanding': 16530199552, 'fundInceptionDate': None, 'annualReportExpenseRatio': None, 'totalAssets': None, 'bookValue': 3.882, 'sharesShort': 101107412, 'sharesPercentSharesOut': 0.0061000003, 'fundFamily': None, 'lastFiscalYearEnd': 1601078400, 'heldPercentInstitutions': 0.58701, 'netIncomeToCommon': 86801997824, 'trailingEps': 5.108, 'lastDividendValue': 0.22, 'SandP52WeekChange': 0.29863906, 'priceToBook': 37.75116, 'heldPercentInsiders': 0.00072999997, 'nextFiscalYearEnd': 1664150400, 'yield': None, 'mostRecentQuarter': 1624665600, 'shortRatio': 1.18, 'sharesShortPreviousMonthDate': 1630368000, 'floatShares': 16512974627, 'beta': 1.222222, 'enterpriseValue': 2468024156160, 'priceHint': 2, 'threeYearAverageReturn': None, 'lastSplitDate': 1598832000, 'lastSplitFactor': '4:1', 'legalType': None, 'lastDividendDate': 1628208000, 'morningStarOverallRating': None, 'earningsQuarterlyGrowth': 0.932, 'priceToSalesTrailing12Months': 6.978153, 'dateShortInterest': 1632960000, 'pegRatio': 1.38, 'ytdReturn': None, 'forwardPE': 25.801058, 'lastCapGain': None, 'shortPercentOfFloat': 0.0061000003, 'sharesShortPriorMonth': 96838699, 'impliedSharesOutstanding': None, 'category': None, 'fiveYearAverageReturn': None, 'previousClose': 144.84, 'regularMarketOpen': 143.445, 'twoHundredDayAverage': 138.88344, 'trailingAnnualDividendYield': 0.005764982, 'payoutRatio': 0.16309999, 'volume24Hr': None, 'regularMarketDayHigh': 146.84, 'navPrice': None, 'averageDailyVolume10Day': 70808620, 'regularMarketPreviousClose': 144.84, 'fiftyDayAverage': 146.59706, 'trailingAnnualDividendRate': 0.835, 'open': 143.445, 'toCurrency': None, 'averageVolume10days': 70808620, 'expireDate': None, 'algorithm': None, 'dividendRate': 0.88, 'exDividendDate': 1628208000, 'circulatingSupply': None, 'startDate': None, 'regularMarketDayLow': 143.16, 'currency': 'USD', 'trailingPE': 28.690292, 'regularMarketVolume': 79797028, 'lastMarket': None, 'maxSupply': None, 'openInterest': None, 'marketCap': 2422500753408, 'volumeAllCurrencies': None, 'strikePrice': None, 'averageVolume': 77415270, 'dayLow': 143.16, 'ask': 146.79, 'askSize': 1400, 'volume': 79797028, 'fiftyTwoWeekHigh': 157.26, 'fromCurrency': None, 'fiveYearAvgDividendYield': 1.24, 'fiftyTwoWeekLow': 107.32, 'bid': 146.71, 'tradeable': False, 'dividendYield': 0.0061000003, 'bidSize': 900, 'dayHigh': 146.84, 'regularMarketPrice': 146.55, 'logo_url': 'https://logo.clearbit.com/apple.com'}\n"
          ]
        },
        {
          "output_type": "execute_result",
          "data": {
            "text/html": [
              "<div>\n",
              "<style scoped>\n",
              "    .dataframe tbody tr th:only-of-type {\n",
              "        vertical-align: middle;\n",
              "    }\n",
              "\n",
              "    .dataframe tbody tr th {\n",
              "        vertical-align: top;\n",
              "    }\n",
              "\n",
              "    .dataframe thead th {\n",
              "        text-align: right;\n",
              "    }\n",
              "</style>\n",
              "<table border=\"1\" class=\"dataframe\">\n",
              "  <thead>\n",
              "    <tr style=\"text-align: right;\">\n",
              "      <th></th>\n",
              "      <th>Open</th>\n",
              "      <th>High</th>\n",
              "      <th>Low</th>\n",
              "      <th>Close</th>\n",
              "      <th>Volume</th>\n",
              "      <th>Dividends</th>\n",
              "      <th>Stock Splits</th>\n",
              "    </tr>\n",
              "    <tr>\n",
              "      <th>Date</th>\n",
              "      <th></th>\n",
              "      <th></th>\n",
              "      <th></th>\n",
              "      <th></th>\n",
              "      <th></th>\n",
              "      <th></th>\n",
              "      <th></th>\n",
              "    </tr>\n",
              "  </thead>\n",
              "  <tbody>\n",
              "    <tr>\n",
              "      <th>2016-01-04</th>\n",
              "      <td>23.655161</td>\n",
              "      <td>24.291437</td>\n",
              "      <td>23.514534</td>\n",
              "      <td>24.286825</td>\n",
              "      <td>270597600</td>\n",
              "      <td>0.0</td>\n",
              "      <td>0</td>\n",
              "    </tr>\n",
              "    <tr>\n",
              "      <th>2016-01-05</th>\n",
              "      <td>24.379047</td>\n",
              "      <td>24.402100</td>\n",
              "      <td>23.609061</td>\n",
              "      <td>23.678221</td>\n",
              "      <td>223164000</td>\n",
              "      <td>0.0</td>\n",
              "      <td>0</td>\n",
              "    </tr>\n",
              "    <tr>\n",
              "      <th>2016-01-06</th>\n",
              "      <td>23.182571</td>\n",
              "      <td>23.599840</td>\n",
              "      <td>23.023503</td>\n",
              "      <td>23.214846</td>\n",
              "      <td>273829600</td>\n",
              "      <td>0.0</td>\n",
              "      <td>0</td>\n",
              "    </tr>\n",
              "    <tr>\n",
              "      <th>2016-01-07</th>\n",
              "      <td>22.749162</td>\n",
              "      <td>23.083437</td>\n",
              "      <td>22.230459</td>\n",
              "      <td>22.235069</td>\n",
              "      <td>324377600</td>\n",
              "      <td>0.0</td>\n",
              "      <td>0</td>\n",
              "    </tr>\n",
              "    <tr>\n",
              "      <th>2016-01-08</th>\n",
              "      <td>22.719199</td>\n",
              "      <td>22.848298</td>\n",
              "      <td>22.306542</td>\n",
              "      <td>22.352648</td>\n",
              "      <td>283192000</td>\n",
              "      <td>0.0</td>\n",
              "      <td>0</td>\n",
              "    </tr>\n",
              "    <tr>\n",
              "      <th>...</th>\n",
              "      <td>...</td>\n",
              "      <td>...</td>\n",
              "      <td>...</td>\n",
              "      <td>...</td>\n",
              "      <td>...</td>\n",
              "      <td>...</td>\n",
              "      <td>...</td>\n",
              "    </tr>\n",
              "    <tr>\n",
              "      <th>2017-12-22</th>\n",
              "      <td>41.827745</td>\n",
              "      <td>42.004942</td>\n",
              "      <td>41.784645</td>\n",
              "      <td>41.906765</td>\n",
              "      <td>65397600</td>\n",
              "      <td>0.0</td>\n",
              "      <td>0</td>\n",
              "    </tr>\n",
              "    <tr>\n",
              "      <th>2017-12-26</th>\n",
              "      <td>40.898675</td>\n",
              "      <td>41.059108</td>\n",
              "      <td>40.630484</td>\n",
              "      <td>40.843601</td>\n",
              "      <td>132742000</td>\n",
              "      <td>0.0</td>\n",
              "      <td>0</td>\n",
              "    </tr>\n",
              "    <tr>\n",
              "      <th>2017-12-27</th>\n",
              "      <td>40.731058</td>\n",
              "      <td>40.893884</td>\n",
              "      <td>40.637671</td>\n",
              "      <td>40.850784</td>\n",
              "      <td>85992800</td>\n",
              "      <td>0.0</td>\n",
              "      <td>0</td>\n",
              "    </tr>\n",
              "    <tr>\n",
              "      <th>2017-12-28</th>\n",
              "      <td>40.946576</td>\n",
              "      <td>41.150113</td>\n",
              "      <td>40.822059</td>\n",
              "      <td>40.965733</td>\n",
              "      <td>65920800</td>\n",
              "      <td>0.0</td>\n",
              "      <td>0</td>\n",
              "    </tr>\n",
              "    <tr>\n",
              "      <th>2017-12-29</th>\n",
              "      <td>40.831629</td>\n",
              "      <td>40.848389</td>\n",
              "      <td>40.520339</td>\n",
              "      <td>40.522732</td>\n",
              "      <td>103999600</td>\n",
              "      <td>0.0</td>\n",
              "      <td>0</td>\n",
              "    </tr>\n",
              "  </tbody>\n",
              "</table>\n",
              "<p>503 rows × 7 columns</p>\n",
              "</div>"
            ],
            "text/plain": [
              "                 Open       High        Low  ...     Volume  Dividends  Stock Splits\n",
              "Date                                         ...                                    \n",
              "2016-01-04  23.655161  24.291437  23.514534  ...  270597600        0.0             0\n",
              "2016-01-05  24.379047  24.402100  23.609061  ...  223164000        0.0             0\n",
              "2016-01-06  23.182571  23.599840  23.023503  ...  273829600        0.0             0\n",
              "2016-01-07  22.749162  23.083437  22.230459  ...  324377600        0.0             0\n",
              "2016-01-08  22.719199  22.848298  22.306542  ...  283192000        0.0             0\n",
              "...               ...        ...        ...  ...        ...        ...           ...\n",
              "2017-12-22  41.827745  42.004942  41.784645  ...   65397600        0.0             0\n",
              "2017-12-26  40.898675  41.059108  40.630484  ...  132742000        0.0             0\n",
              "2017-12-27  40.731058  40.893884  40.637671  ...   85992800        0.0             0\n",
              "2017-12-28  40.946576  41.150113  40.822059  ...   65920800        0.0             0\n",
              "2017-12-29  40.831629  40.848389  40.520339  ...  103999600        0.0             0\n",
              "\n",
              "[503 rows x 7 columns]"
            ]
          },
          "metadata": {},
          "execution_count": 171
        }
      ]
    },
    {
      "cell_type": "markdown",
      "metadata": {
        "id": "FijOAoX6NCI7"
      },
      "source": [
        "#Ejemplo"
      ]
    },
    {
      "cell_type": "code",
      "metadata": {
        "colab": {
          "base_uri": "https://localhost:8080/",
          "height": 487
        },
        "id": "p83u7RXpNIwP",
        "outputId": "1486d0a3-9e15-4561-efc1-d72333d18c4d"
      },
      "source": [
        "tsla = yf.Ticker(\"TSLA\")\n",
        "\n",
        "# get stock info\n",
        "print(tsla.info)\n",
        "\n",
        "# get historical market data\n",
        "tsla_table = tsla.history(start=\"2019-01-01\",  end=\"2020-12-31\")\n",
        "tsla_table"
      ],
      "execution_count": null,
      "outputs": [
        {
          "output_type": "stream",
          "name": "stdout",
          "text": [
            "{'zip': '94304', 'sector': 'Consumer Cyclical', 'fullTimeEmployees': 70757, 'longBusinessSummary': 'Tesla, Inc. designs, develops, manufactures, leases, and sells electric vehicles, and energy generation and storage systems in the United States, China, and internationally. The company operates in two segments, Automotive, and Energy Generation and Storage. The Automotive segment offers electric vehicles, as well as sells automotive regulatory credits. It provides sedans and sport utility vehicles through direct and used vehicle sales, a network of Tesla Superchargers, and in-app upgrades; and purchase financing and leasing services. This segment is also involved in the provision of non-warranty after-sales vehicle services, sale of used vehicles, retail merchandise, and vehicle insurance, as well as sale of products through its subsidiaries to third party customers; services for electric vehicles through its company-owned service locations, and Tesla mobile service technicians; and vehicle limited warranties and extended service plans. The Energy Generation and Storage segment engages in the design, manufacture, installation, sale, and leasing of solar energy generation and energy storage products, and related services to residential, commercial, and industrial customers and utilities through its website, stores, and galleries, as well as through a network of channel partners. This segment also offers service and repairs to its energy product customers, including under warranty; and various financing options to its solar customers. The company was formerly known as Tesla Motors, Inc. and changed its name to Tesla, Inc. in February 2017. Tesla, Inc. was founded in 2003 and is headquartered in Palo Alto, California.', 'city': 'Palo Alto', 'phone': '650-681-5000', 'state': 'CA', 'country': 'United States', 'companyOfficers': [], 'website': 'http://www.tesla.com', 'maxAge': 1, 'address1': '3500 Deer Creek Road', 'industry': 'Auto Manufacturers', 'ebitdaMargins': 0.13738, 'profitMargins': 0.0521, 'grossMargins': 0.22044, 'operatingCashflow': 9184000000, 'revenueGrowth': 0.981, 'operatingMargins': 0.07756, 'ebitda': 5751000064, 'targetLowPrice': 67, 'recommendationKey': 'hold', 'grossProfits': 6630000000, 'freeCashflow': 4515624960, 'targetMedianPrice': 755, 'currentPrice': 870.11, 'earningsGrowth': 9.2, 'currentRatio': 1.508, 'returnOnAssets': 0.043509997, 'numberOfAnalystOpinions': 37, 'targetMeanPrice': 700.3, 'debtToEquity': 42.552, 'returnOnEquity': 0.12275, 'targetHighPrice': 1591, 'totalCash': 16229000192, 'totalDebt': 11169999872, 'totalRevenue': 41862000640, 'totalCashPerShare': 16.393, 'financialCurrency': 'USD', 'revenuePerShare': 43.812, 'quickRatio': 1.123, 'recommendationMean': 2.6, 'exchange': 'NMS', 'shortName': 'Tesla, Inc.', 'longName': 'Tesla, Inc.', 'exchangeTimezoneName': 'America/New_York', 'exchangeTimezoneShortName': 'EDT', 'isEsgPopulated': False, 'gmtOffSetMilliseconds': '-14400000', 'quoteType': 'EQUITY', 'symbol': 'TSLA', 'messageBoardId': 'finmb_27444752', 'market': 'us_market', 'annualHoldingsTurnover': None, 'enterpriseToRevenue': 19.851, 'beta3Year': None, 'enterpriseToEbitda': 144.497, '52WeekChange': 0.9979855, 'morningStarRiskRating': None, 'forwardEps': 7.26, 'revenueQuarterlyGrowth': None, 'sharesOutstanding': 1001769984, 'fundInceptionDate': None, 'annualReportExpenseRatio': None, 'totalAssets': None, 'bookValue': 25.207, 'sharesShort': 29205723, 'sharesPercentSharesOut': 0.0292, 'fundFamily': None, 'lastFiscalYearEnd': 1609372800, 'heldPercentInstitutions': 0.41431, 'netIncomeToCommon': 2150000128, 'trailingEps': 1.897, 'lastDividendValue': None, 'SandP52WeekChange': 0.29863906, 'priceToBook': 34.518585, 'heldPercentInsiders': 0.18962, 'nextFiscalYearEnd': 1672444800, 'yield': None, 'mostRecentQuarter': 1625011200, 'shortRatio': 1.56, 'sharesShortPreviousMonthDate': 1630368000, 'floatShares': 801734075, 'beta': 1.89365, 'enterpriseValue': 830999494656, 'priceHint': 2, 'threeYearAverageReturn': None, 'lastSplitDate': 1598832000, 'lastSplitFactor': '5:1', 'legalType': None, 'lastDividendDate': None, 'morningStarOverallRating': None, 'earningsQuarterlyGrowth': 9.981, 'priceToSalesTrailing12Months': 20.821987, 'dateShortInterest': 1632960000, 'pegRatio': 2.47, 'ytdReturn': None, 'forwardPE': 119.84985, 'lastCapGain': None, 'shortPercentOfFloat': 0.0359, 'sharesShortPriorMonth': 27432219, 'impliedSharesOutstanding': None, 'category': None, 'fiveYearAverageReturn': None, 'previousClose': 843.03, 'regularMarketOpen': 851.79, 'twoHundredDayAverage': 688.5181, 'trailingAnnualDividendYield': None, 'payoutRatio': 0, 'volume24Hr': None, 'regularMarketDayHigh': 875.21, 'navPrice': None, 'averageDailyVolume10Day': 16281120, 'regularMarketPreviousClose': 843.03, 'fiftyDayAverage': 766.73267, 'trailingAnnualDividendRate': None, 'open': 851.79, 'toCurrency': None, 'averageVolume10days': 16281120, 'expireDate': None, 'algorithm': None, 'dividendRate': None, 'exDividendDate': None, 'circulatingSupply': None, 'startDate': None, 'regularMarketDayLow': 851.47, 'currency': 'USD', 'trailingPE': 458.67685, 'regularMarketVolume': 24207245, 'lastMarket': None, 'maxSupply': None, 'openInterest': None, 'marketCap': 871650033664, 'volumeAllCurrencies': None, 'strikePrice': None, 'averageVolume': 18495428, 'dayLow': 851.47, 'ask': 872.07, 'askSize': 900, 'volume': 24207245, 'fiftyTwoWeekHigh': 900.4, 'fromCurrency': None, 'fiveYearAvgDividendYield': None, 'fiftyTwoWeekLow': 379.11, 'bid': 872, 'tradeable': False, 'dividendYield': None, 'bidSize': 900, 'dayHigh': 875.21, 'regularMarketPrice': 870.11, 'logo_url': 'https://logo.clearbit.com/tesla.com'}\n"
          ]
        },
        {
          "output_type": "execute_result",
          "data": {
            "text/html": [
              "<div>\n",
              "<style scoped>\n",
              "    .dataframe tbody tr th:only-of-type {\n",
              "        vertical-align: middle;\n",
              "    }\n",
              "\n",
              "    .dataframe tbody tr th {\n",
              "        vertical-align: top;\n",
              "    }\n",
              "\n",
              "    .dataframe thead th {\n",
              "        text-align: right;\n",
              "    }\n",
              "</style>\n",
              "<table border=\"1\" class=\"dataframe\">\n",
              "  <thead>\n",
              "    <tr style=\"text-align: right;\">\n",
              "      <th></th>\n",
              "      <th>Open</th>\n",
              "      <th>High</th>\n",
              "      <th>Low</th>\n",
              "      <th>Close</th>\n",
              "      <th>Volume</th>\n",
              "      <th>Dividends</th>\n",
              "      <th>Stock Splits</th>\n",
              "    </tr>\n",
              "    <tr>\n",
              "      <th>Date</th>\n",
              "      <th></th>\n",
              "      <th></th>\n",
              "      <th></th>\n",
              "      <th></th>\n",
              "      <th></th>\n",
              "      <th></th>\n",
              "      <th></th>\n",
              "    </tr>\n",
              "  </thead>\n",
              "  <tbody>\n",
              "    <tr>\n",
              "      <th>2019-01-02</th>\n",
              "      <td>61.220001</td>\n",
              "      <td>63.026001</td>\n",
              "      <td>59.759998</td>\n",
              "      <td>62.023998</td>\n",
              "      <td>58293000</td>\n",
              "      <td>0</td>\n",
              "      <td>0.0</td>\n",
              "    </tr>\n",
              "    <tr>\n",
              "      <th>2019-01-03</th>\n",
              "      <td>61.400002</td>\n",
              "      <td>61.880001</td>\n",
              "      <td>59.476002</td>\n",
              "      <td>60.071999</td>\n",
              "      <td>34826000</td>\n",
              "      <td>0</td>\n",
              "      <td>0.0</td>\n",
              "    </tr>\n",
              "    <tr>\n",
              "      <th>2019-01-04</th>\n",
              "      <td>61.200001</td>\n",
              "      <td>63.599998</td>\n",
              "      <td>60.546001</td>\n",
              "      <td>63.537998</td>\n",
              "      <td>36970500</td>\n",
              "      <td>0</td>\n",
              "      <td>0.0</td>\n",
              "    </tr>\n",
              "    <tr>\n",
              "      <th>2019-01-07</th>\n",
              "      <td>64.344002</td>\n",
              "      <td>67.348000</td>\n",
              "      <td>63.549999</td>\n",
              "      <td>66.991997</td>\n",
              "      <td>37756000</td>\n",
              "      <td>0</td>\n",
              "      <td>0.0</td>\n",
              "    </tr>\n",
              "    <tr>\n",
              "      <th>2019-01-08</th>\n",
              "      <td>68.391998</td>\n",
              "      <td>68.802002</td>\n",
              "      <td>65.403999</td>\n",
              "      <td>67.070000</td>\n",
              "      <td>35042500</td>\n",
              "      <td>0</td>\n",
              "      <td>0.0</td>\n",
              "    </tr>\n",
              "    <tr>\n",
              "      <th>...</th>\n",
              "      <td>...</td>\n",
              "      <td>...</td>\n",
              "      <td>...</td>\n",
              "      <td>...</td>\n",
              "      <td>...</td>\n",
              "      <td>...</td>\n",
              "      <td>...</td>\n",
              "    </tr>\n",
              "    <tr>\n",
              "      <th>2020-12-23</th>\n",
              "      <td>632.200012</td>\n",
              "      <td>651.500000</td>\n",
              "      <td>622.570007</td>\n",
              "      <td>645.979980</td>\n",
              "      <td>33173000</td>\n",
              "      <td>0</td>\n",
              "      <td>0.0</td>\n",
              "    </tr>\n",
              "    <tr>\n",
              "      <th>2020-12-24</th>\n",
              "      <td>642.989990</td>\n",
              "      <td>666.090027</td>\n",
              "      <td>641.000000</td>\n",
              "      <td>661.770020</td>\n",
              "      <td>22865600</td>\n",
              "      <td>0</td>\n",
              "      <td>0.0</td>\n",
              "    </tr>\n",
              "    <tr>\n",
              "      <th>2020-12-28</th>\n",
              "      <td>674.510010</td>\n",
              "      <td>681.400024</td>\n",
              "      <td>660.799988</td>\n",
              "      <td>663.690002</td>\n",
              "      <td>32278600</td>\n",
              "      <td>0</td>\n",
              "      <td>0.0</td>\n",
              "    </tr>\n",
              "    <tr>\n",
              "      <th>2020-12-29</th>\n",
              "      <td>661.000000</td>\n",
              "      <td>669.900024</td>\n",
              "      <td>655.000000</td>\n",
              "      <td>665.989990</td>\n",
              "      <td>22910800</td>\n",
              "      <td>0</td>\n",
              "      <td>0.0</td>\n",
              "    </tr>\n",
              "    <tr>\n",
              "      <th>2020-12-30</th>\n",
              "      <td>672.000000</td>\n",
              "      <td>696.599976</td>\n",
              "      <td>668.359985</td>\n",
              "      <td>694.780029</td>\n",
              "      <td>42846000</td>\n",
              "      <td>0</td>\n",
              "      <td>0.0</td>\n",
              "    </tr>\n",
              "  </tbody>\n",
              "</table>\n",
              "<p>504 rows × 7 columns</p>\n",
              "</div>"
            ],
            "text/plain": [
              "                  Open        High  ...  Dividends  Stock Splits\n",
              "Date                                ...                         \n",
              "2019-01-02   61.220001   63.026001  ...          0           0.0\n",
              "2019-01-03   61.400002   61.880001  ...          0           0.0\n",
              "2019-01-04   61.200001   63.599998  ...          0           0.0\n",
              "2019-01-07   64.344002   67.348000  ...          0           0.0\n",
              "2019-01-08   68.391998   68.802002  ...          0           0.0\n",
              "...                ...         ...  ...        ...           ...\n",
              "2020-12-23  632.200012  651.500000  ...          0           0.0\n",
              "2020-12-24  642.989990  666.090027  ...          0           0.0\n",
              "2020-12-28  674.510010  681.400024  ...          0           0.0\n",
              "2020-12-29  661.000000  669.900024  ...          0           0.0\n",
              "2020-12-30  672.000000  696.599976  ...          0           0.0\n",
              "\n",
              "[504 rows x 7 columns]"
            ]
          },
          "metadata": {},
          "execution_count": 170
        }
      ]
    },
    {
      "cell_type": "markdown",
      "metadata": {
        "id": "NkFztSYhJyVA"
      },
      "source": [
        "We will create a Series named \"aapl\" whose values are Apple's daily closing prices, which are of course indexed by dates:"
      ]
    },
    {
      "cell_type": "code",
      "metadata": {
        "id": "QDJbOpCeHW91"
      },
      "source": [
        "aapl = aapl_table['Close']['2017']"
      ],
      "execution_count": null,
      "outputs": []
    },
    {
      "cell_type": "code",
      "metadata": {
        "colab": {
          "base_uri": "https://localhost:8080/"
        },
        "id": "SXfgCQJOHW91",
        "outputId": "75fb95a9-5b4a-4f9f-a247-4883de153ceb"
      },
      "source": [
        "print(aapl)"
      ],
      "execution_count": null,
      "outputs": [
        {
          "output_type": "stream",
          "name": "stdout",
          "text": [
            "Date\n",
            "2017-01-03    27.372360\n",
            "2017-01-04    27.341722\n",
            "2017-01-05    27.480766\n",
            "2017-01-06    27.787130\n",
            "2017-01-09    28.041649\n",
            "                ...    \n",
            "2017-12-22    41.906765\n",
            "2017-12-26    40.843601\n",
            "2017-12-27    40.850784\n",
            "2017-12-28    40.965733\n",
            "2017-12-29    40.522732\n",
            "Name: Close, Length: 251, dtype: float64\n"
          ]
        }
      ]
    },
    {
      "cell_type": "markdown",
      "metadata": {
        "id": "4tBlYY9wNt1U"
      },
      "source": [
        "#Ejemplo"
      ]
    },
    {
      "cell_type": "code",
      "metadata": {
        "colab": {
          "base_uri": "https://localhost:8080/"
        },
        "id": "x7As6k2MNwKW",
        "outputId": "3b47b060-5260-446a-95dc-62152ed1bc56"
      },
      "source": [
        "tsla = tsla_table['Close']['2019']\n",
        "print(tsla)"
      ],
      "execution_count": null,
      "outputs": [
        {
          "output_type": "stream",
          "name": "stdout",
          "text": [
            "Date\n",
            "2019-01-02    62.023998\n",
            "2019-01-03    60.071999\n",
            "2019-01-04    63.537998\n",
            "2019-01-07    66.991997\n",
            "2019-01-08    67.070000\n",
            "                ...    \n",
            "2019-12-24    85.050003\n",
            "2019-12-26    86.188004\n",
            "2019-12-27    86.075996\n",
            "2019-12-30    82.940002\n",
            "2019-12-31    83.666000\n",
            "Name: Close, Length: 252, dtype: float64\n"
          ]
        }
      ]
    },
    {
      "cell_type": "markdown",
      "metadata": {
        "id": "waUEgBhzKEcA"
      },
      "source": [
        "Recall that we can fetch a specific data point using series['yyyy-mm-dd']. We can also fetch the data in a specific month using series['yyyy-mm']."
      ]
    },
    {
      "cell_type": "code",
      "metadata": {
        "colab": {
          "base_uri": "https://localhost:8080/"
        },
        "id": "2gS50G0zHW92",
        "outputId": "76733def-233c-4934-d03c-663cdca7f046"
      },
      "source": [
        "print(aapl['2017-3'])"
      ],
      "execution_count": null,
      "outputs": [
        {
          "output_type": "stream",
          "name": "stdout",
          "text": [
            "Date\n",
            "2017-03-01    33.086285\n",
            "2017-03-02    32.889839\n",
            "2017-03-03    33.083916\n",
            "2017-03-06    32.979778\n",
            "2017-03-07    33.022385\n",
            "2017-03-08    32.899300\n",
            "2017-03-09    32.823563\n",
            "2017-03-10    32.932434\n",
            "2017-03-13    32.946632\n",
            "2017-03-14    32.896935\n",
            "2017-03-15    33.244873\n",
            "2017-03-16    33.299294\n",
            "2017-03-17    33.133621\n",
            "2017-03-20    33.481552\n",
            "2017-03-21    33.098114\n",
            "2017-03-22    33.472092\n",
            "2017-03-23    33.353741\n",
            "2017-03-24    33.287472\n",
            "2017-03-27    33.344273\n",
            "2017-03-28    34.035389\n",
            "2017-03-29    34.111126\n",
            "2017-03-30    34.066170\n",
            "2017-03-31    34.002258\n",
            "Name: Close, dtype: float64\n"
          ]
        }
      ]
    },
    {
      "cell_type": "markdown",
      "metadata": {
        "id": "rQAWUw0JODEQ"
      },
      "source": [
        "#Ejemplo"
      ]
    },
    {
      "cell_type": "code",
      "metadata": {
        "colab": {
          "base_uri": "https://localhost:8080/"
        },
        "id": "rAh-DLkCOFNv",
        "outputId": "2a05cb2a-dd90-499c-83f9-39a3ea79e8c5"
      },
      "source": [
        "print(tsla['2019-3'])"
      ],
      "execution_count": null,
      "outputs": [
        {
          "output_type": "stream",
          "name": "stdout",
          "text": [
            "Date\n",
            "2019-03-01    58.958000\n",
            "2019-03-04    57.071999\n",
            "2019-03-05    55.307999\n",
            "2019-03-06    55.248001\n",
            "2019-03-07    55.318001\n",
            "2019-03-08    56.827999\n",
            "2019-03-11    58.183998\n",
            "2019-03-12    56.672001\n",
            "2019-03-13    57.792000\n",
            "2019-03-14    57.992001\n",
            "2019-03-15    55.085999\n",
            "2019-03-18    53.897999\n",
            "2019-03-19    53.493999\n",
            "2019-03-20    54.720001\n",
            "2019-03-21    54.804001\n",
            "2019-03-22    52.905998\n",
            "2019-03-25    52.084000\n",
            "2019-03-26    53.554001\n",
            "2019-03-27    54.966000\n",
            "2019-03-28    55.723999\n",
            "2019-03-29    55.972000\n",
            "Name: Close, dtype: float64\n"
          ]
        }
      ]
    },
    {
      "cell_type": "code",
      "metadata": {
        "colab": {
          "base_uri": "https://localhost:8080/"
        },
        "id": "vpvxGwXtHW92",
        "outputId": "88f787f4-862b-4eca-e05e-f4d6dce513d3"
      },
      "source": [
        "aapl['2017-2':'2017-4']"
      ],
      "execution_count": null,
      "outputs": [
        {
          "output_type": "execute_result",
          "data": {
            "text/plain": [
              "Date\n",
              "2017-02-01    30.341726\n",
              "2017-02-02    30.289883\n",
              "2017-02-03    30.419498\n",
              "2017-02-06    30.704643\n",
              "2017-02-07    30.996874\n",
              "                ...    \n",
              "2017-04-24    33.997532\n",
              "2017-04-25    34.208172\n",
              "2017-04-26    34.006992\n",
              "2017-04-27    34.033024\n",
              "2017-04-28    33.999889\n",
              "Name: Close, Length: 61, dtype: float64"
            ]
          },
          "metadata": {},
          "execution_count": 177
        }
      ]
    },
    {
      "cell_type": "markdown",
      "metadata": {
        "id": "VR3GIlfpOQNN"
      },
      "source": [
        "#Ejemplo"
      ]
    },
    {
      "cell_type": "code",
      "metadata": {
        "colab": {
          "base_uri": "https://localhost:8080/"
        },
        "id": "VYndsDCFOST6",
        "outputId": "a643799a-1e0c-4cbc-b8ce-a2a9123a6aaf"
      },
      "source": [
        "tsla['2019-2':'2019-4']"
      ],
      "execution_count": null,
      "outputs": [
        {
          "output_type": "execute_result",
          "data": {
            "text/plain": [
              "Date\n",
              "2019-02-01    62.442001\n",
              "2019-02-04    62.577999\n",
              "2019-02-05    64.269997\n",
              "2019-02-06    63.444000\n",
              "2019-02-07    61.501999\n",
              "                ...    \n",
              "2019-04-24    51.731998\n",
              "2019-04-25    49.526001\n",
              "2019-04-26    47.028000\n",
              "2019-04-29    48.293999\n",
              "2019-04-30    47.737999\n",
              "Name: Close, Length: 61, dtype: float64"
            ]
          },
          "metadata": {},
          "execution_count": 178
        }
      ]
    },
    {
      "cell_type": "markdown",
      "metadata": {
        "id": "lWwoD39pKNKb"
      },
      "source": [
        ".head(N) and .tail(N) are methods for quickly accessing the first or last N elements."
      ]
    },
    {
      "cell_type": "code",
      "metadata": {
        "colab": {
          "base_uri": "https://localhost:8080/"
        },
        "id": "1eU218ALHW93",
        "outputId": "480c4469-d0ec-4e30-ad33-5917002b1f34"
      },
      "source": [
        "print(aapl.head(5))\n",
        "print(aapl.tail(10))"
      ],
      "execution_count": null,
      "outputs": [
        {
          "output_type": "stream",
          "name": "stdout",
          "text": [
            "Date\n",
            "2017-01-03    27.372360\n",
            "2017-01-04    27.341722\n",
            "2017-01-05    27.480766\n",
            "2017-01-06    27.787130\n",
            "2017-01-09    28.041649\n",
            "Name: Close, dtype: float64\n",
            "Date\n",
            "2017-12-15    41.657742\n",
            "2017-12-18    42.244404\n",
            "2017-12-19    41.794231\n",
            "2017-12-20    41.748737\n",
            "2017-12-21    41.906765\n",
            "2017-12-22    41.906765\n",
            "2017-12-26    40.843601\n",
            "2017-12-27    40.850784\n",
            "2017-12-28    40.965733\n",
            "2017-12-29    40.522732\n",
            "Name: Close, dtype: float64\n"
          ]
        }
      ]
    },
    {
      "cell_type": "markdown",
      "metadata": {
        "id": "3gtScICsOhoO"
      },
      "source": [
        "#Ejemplo"
      ]
    },
    {
      "cell_type": "code",
      "metadata": {
        "colab": {
          "base_uri": "https://localhost:8080/"
        },
        "id": "u4SNtDv1OkeD",
        "outputId": "21491432-9a38-4276-bbe7-87adc24506e5"
      },
      "source": [
        "print(tsla.head(5))\n",
        "print(tsla.tail(10))"
      ],
      "execution_count": null,
      "outputs": [
        {
          "output_type": "stream",
          "name": "stdout",
          "text": [
            "Date\n",
            "2019-01-02    62.023998\n",
            "2019-01-03    60.071999\n",
            "2019-01-04    63.537998\n",
            "2019-01-07    66.991997\n",
            "2019-01-08    67.070000\n",
            "Name: Close, dtype: float64\n",
            "Date\n",
            "2019-12-17    75.797997\n",
            "2019-12-18    78.629997\n",
            "2019-12-19    80.807999\n",
            "2019-12-20    81.117996\n",
            "2019-12-23    83.844002\n",
            "2019-12-24    85.050003\n",
            "2019-12-26    86.188004\n",
            "2019-12-27    86.075996\n",
            "2019-12-30    82.940002\n",
            "2019-12-31    83.666000\n",
            "Name: Close, dtype: float64\n"
          ]
        }
      ]
    },
    {
      "cell_type": "markdown",
      "metadata": {
        "id": "IxhKxtj-KQ66"
      },
      "source": [
        "# Resampling\n",
        "**_series.resample(freq)_** is a class called \"DatetimeIndexResampler\" which groups data in a Series object into regular time intervals. The argument \"freq\" determines the length of each interval.\n",
        "\n",
        "**_series.resample.mean()_** is a complete statement that groups data into intervals, and then compute the mean of each interval. For example, if we want to aggregate the daily data into monthly data by mean:"
      ]
    },
    {
      "cell_type": "code",
      "metadata": {
        "colab": {
          "base_uri": "https://localhost:8080/"
        },
        "id": "rAV8NkHkHW93",
        "outputId": "a65e6601-a1d9-4a78-c158-37e8ffd41726"
      },
      "source": [
        "by_month = aapl.resample('M').mean()\n",
        "print(by_month)"
      ],
      "execution_count": null,
      "outputs": [
        {
          "output_type": "stream",
          "name": "stdout",
          "text": [
            "Date\n",
            "2017-01-31    28.178333\n",
            "2017-02-28    31.606276\n",
            "2017-03-31    33.282219\n",
            "2017-04-30    33.819263\n",
            "2017-05-31    36.125682\n",
            "2017-06-30    35.133984\n",
            "2017-07-31    35.245242\n",
            "2017-08-31    37.897229\n",
            "2017-09-30    37.604737\n",
            "2017-10-31    37.654551\n",
            "2017-11-30    41.233916\n",
            "2017-12-31    41.160038\n",
            "Freq: M, Name: Close, dtype: float64\n"
          ]
        }
      ]
    },
    {
      "cell_type": "markdown",
      "metadata": {
        "id": "y1yFlIOkOshF"
      },
      "source": [
        "#Ejemplo"
      ]
    },
    {
      "cell_type": "code",
      "metadata": {
        "colab": {
          "base_uri": "https://localhost:8080/"
        },
        "id": "GlAMX8J6Ox7q",
        "outputId": "d194a7bd-f313-4420-a745-b4dcf250304e"
      },
      "source": [
        "by_month1 = tsla.resample('M').mean()\n",
        "print(by_month1)"
      ],
      "execution_count": null,
      "outputs": [
        {
          "output_type": "stream",
          "name": "stdout",
          "text": [
            "Date\n",
            "2019-01-31    63.698857\n",
            "2019-02-28    61.545684\n",
            "2019-03-31    55.551428\n",
            "2019-04-30    53.331143\n",
            "2019-05-31    43.943091\n",
            "2019-06-30    42.743300\n",
            "2019-07-31    48.476455\n",
            "2019-08-31    45.020545\n",
            "2019-09-30    47.452300\n",
            "2019-10-31    53.270956\n",
            "2019-11-30    67.660000\n",
            "2019-12-31    75.538952\n",
            "Freq: M, Name: Close, dtype: float64\n"
          ]
        }
      ]
    },
    {
      "cell_type": "markdown",
      "metadata": {
        "id": "QDPfVzBEKV6Q"
      },
      "source": [
        "We can also aggregate the data by week:"
      ]
    },
    {
      "cell_type": "code",
      "metadata": {
        "colab": {
          "base_uri": "https://localhost:8080/"
        },
        "id": "aAP3tKkBHW94",
        "outputId": "a993179c-fb38-4a46-83cf-47953d9733fd"
      },
      "source": [
        "by_week = aapl.resample('W').mean()\n",
        "print(by_week.head())"
      ],
      "execution_count": null,
      "outputs": [
        {
          "output_type": "stream",
          "name": "stdout",
          "text": [
            "Date\n",
            "2017-01-08    27.495495\n",
            "2017-01-15    28.097737\n",
            "2017-01-22    28.266119\n",
            "2017-01-29    28.553981\n",
            "2017-02-05    29.662545\n",
            "Freq: W-SUN, Name: Close, dtype: float64\n"
          ]
        }
      ]
    },
    {
      "cell_type": "markdown",
      "metadata": {
        "id": "95BH55RnO8ei"
      },
      "source": [
        "#Ejemplo"
      ]
    },
    {
      "cell_type": "code",
      "metadata": {
        "colab": {
          "base_uri": "https://localhost:8080/"
        },
        "id": "MPDgpHqmO_SB",
        "outputId": "ea1cb98b-0c2a-4829-e306-e3faa3ee5346"
      },
      "source": [
        "by_week1 = tsla.resample('W').mean()\n",
        "print(by_week1.head())"
      ],
      "execution_count": null,
      "outputs": [
        {
          "output_type": "stream",
          "name": "stdout",
          "text": [
            "Date\n",
            "2019-01-06    61.877998\n",
            "2019-01-13    68.042801\n",
            "2019-01-20    66.977999\n",
            "2019-01-27    58.753000\n",
            "2019-02-03    60.873601\n",
            "Freq: W-SUN, Name: Close, dtype: float64\n"
          ]
        }
      ]
    },
    {
      "cell_type": "markdown",
      "metadata": {
        "id": "o_MXSVsILoBS"
      },
      "source": [
        "We can also aggregate the data by month with max:"
      ]
    },
    {
      "cell_type": "code",
      "metadata": {
        "colab": {
          "base_uri": "https://localhost:8080/"
        },
        "id": "gn0wqXBTHW95",
        "outputId": "77fc72f9-95f4-4a98-a069-91dc43064e62"
      },
      "source": [
        "aapl.resample('M').max()"
      ],
      "execution_count": null,
      "outputs": [
        {
          "output_type": "execute_result",
          "data": {
            "text/plain": [
              "Date\n",
              "2017-01-31    28.739214\n",
              "2017-02-28    32.451969\n",
              "2017-03-31    34.111126\n",
              "2017-04-30    34.264980\n",
              "2017-05-31    37.099121\n",
              "2017-06-30    36.944645\n",
              "2017-07-31    36.471703\n",
              "2017-08-31    39.129723\n",
              "2017-09-30    39.141659\n",
              "2017-10-31    40.332241\n",
              "2017-11-30    42.050137\n",
              "2017-12-31    42.244404\n",
              "Freq: M, Name: Close, dtype: float64"
            ]
          },
          "metadata": {},
          "execution_count": 185
        }
      ]
    },
    {
      "cell_type": "markdown",
      "metadata": {
        "id": "yllBWYP7PISc"
      },
      "source": [
        "#Ejemplo"
      ]
    },
    {
      "cell_type": "code",
      "metadata": {
        "colab": {
          "base_uri": "https://localhost:8080/"
        },
        "id": "i31N3EopPLH8",
        "outputId": "10c7ebb9-a10b-447f-c6c8-2247d230e01a"
      },
      "source": [
        "tsla.resample('M').max()"
      ],
      "execution_count": null,
      "outputs": [
        {
          "output_type": "execute_result",
          "data": {
            "text/plain": [
              "Date\n",
              "2019-01-31    69.461998\n",
              "2019-02-28    64.269997\n",
              "2019-03-31    58.958000\n",
              "2019-04-30    58.362000\n",
              "2019-05-31    51.068001\n",
              "2019-06-30    45.285999\n",
              "2019-07-31    52.976002\n",
              "2019-08-31    47.660000\n",
              "2019-09-30    49.419998\n",
              "2019-10-31    65.625999\n",
              "2019-11-30    71.903999\n",
              "2019-12-31    86.188004\n",
              "Freq: M, Name: Close, dtype: float64"
            ]
          },
          "metadata": {},
          "execution_count": 186
        }
      ]
    },
    {
      "cell_type": "markdown",
      "metadata": {
        "id": "Z8r46UFlLdAh"
      },
      "source": [
        "We can choose almost any frequency by using the format 'nf', where 'n' is an integer and 'f' is M for month, W for week and D for day."
      ]
    },
    {
      "cell_type": "code",
      "metadata": {
        "colab": {
          "base_uri": "https://localhost:8080/"
        },
        "id": "kdVB_-JFHW96",
        "outputId": "82e9b5f0-2828-4d5e-cc2a-862921ae0886"
      },
      "source": [
        "three_day = aapl.resample('3D').mean()\n",
        "two_week = aapl.resample('2W').mean()\n",
        "two_month = aapl.resample('2M').mean()\n",
        "\n",
        "\n",
        "print(three_day)\n",
        "print(two_week)\n",
        "print(two_month )"
      ],
      "execution_count": null,
      "outputs": [
        {
          "output_type": "stream",
          "name": "stdout",
          "text": [
            "Date\n",
            "2017-01-03    27.398283\n",
            "2017-01-06    27.787130\n",
            "2017-01-09    28.110776\n",
            "2017-01-12    28.078178\n",
            "2017-01-15    28.279671\n",
            "                ...    \n",
            "2017-12-17    42.019318\n",
            "2017-12-20    41.854089\n",
            "2017-12-23          NaN\n",
            "2017-12-26    40.886706\n",
            "2017-12-29    40.522732\n",
            "Freq: 3D, Name: Close, Length: 121, dtype: float64\n",
            "Date\n",
            "2017-01-08    27.495495\n",
            "2017-01-22    28.172573\n",
            "2017-02-05    29.108263\n",
            "2017-02-19    31.516816\n",
            "2017-03-05    32.595556\n",
            "2017-03-19    33.017881\n",
            "2017-04-02    33.625219\n",
            "2017-04-16    33.849727\n",
            "2017-04-30    33.791845\n",
            "2017-05-14    35.697630\n",
            "2017-05-28    36.496178\n",
            "2017-06-11    36.515006\n",
            "2017-06-25    34.529047\n",
            "2017-07-09    34.265134\n",
            "2017-07-23    35.278873\n",
            "2017-08-06    36.272778\n",
            "2017-08-20    37.904118\n",
            "2017-09-03    38.458794\n",
            "2017-09-17    38.282705\n",
            "2017-10-01    36.840873\n",
            "2017-10-15    37.071597\n",
            "2017-10-29    37.757320\n",
            "2017-11-12    41.032239\n",
            "2017-11-26    41.204377\n",
            "2017-12-10    40.867068\n",
            "2017-12-24    41.620864\n",
            "2018-01-07    40.795712\n",
            "Freq: 2W-SUN, Name: Close, dtype: float64\n",
            "Date\n",
            "2017-01-31    28.178333\n",
            "2017-03-31    32.524054\n",
            "2017-05-31    35.056854\n",
            "2017-07-31    35.186964\n",
            "2017-09-30    37.761186\n",
            "2017-11-30    39.402613\n",
            "2018-01-31    41.160038\n",
            "Freq: 2M, Name: Close, dtype: float64\n"
          ]
        }
      ]
    },
    {
      "cell_type": "markdown",
      "metadata": {
        "id": "ij-1m_a8PRZU"
      },
      "source": [
        "#Ejemplo"
      ]
    },
    {
      "cell_type": "code",
      "metadata": {
        "colab": {
          "base_uri": "https://localhost:8080/"
        },
        "id": "Ii_R7XEmPVGZ",
        "outputId": "bedda5d0-09bf-4cbb-afbc-9eb25f16a518"
      },
      "source": [
        "three_day1 = tsla.resample('3D').mean()\n",
        "two_week1 = tsla.resample('2W').mean()\n",
        "two_month1 = tsla.resample('2M').mean()\n",
        "\n",
        "\n",
        "print(three_day1)\n",
        "print(two_week1)\n",
        "print(two_month1 )"
      ],
      "execution_count": null,
      "outputs": [
        {
          "output_type": "stream",
          "name": "stdout",
          "text": [
            "Date\n",
            "2019-01-02    61.877998\n",
            "2019-01-05    66.991997\n",
            "2019-01-08    67.923335\n",
            "2019-01-11    69.452003\n",
            "2019-01-14    68.325333\n",
            "                ...    \n",
            "2019-12-19    80.962997\n",
            "2019-12-22    84.447002\n",
            "2019-12-25    86.132000\n",
            "2019-12-28    82.940002\n",
            "2019-12-31    83.666000\n",
            "Freq: 3D, Name: Close, Length: 122, dtype: float64\n",
            "Date\n",
            "2019-01-06    61.877998\n",
            "2019-01-20    67.510400\n",
            "2019-02-03    59.931112\n",
            "2019-02-17    62.184800\n",
            "2019-03-03    60.448445\n",
            "2019-03-17    56.550000\n",
            "2019-03-31    54.212200\n",
            "2019-04-14    55.346000\n",
            "2019-04-28    52.273555\n",
            "2019-05-12    48.840799\n",
            "2019-05-26    42.398400\n",
            "2019-06-09    38.478889\n",
            "2019-06-23    43.715001\n",
            "2019-07-07    45.082000\n",
            "2019-07-21    49.109201\n",
            "2019-08-04    48.508400\n",
            "2019-08-18    45.700200\n",
            "2019-09-01    43.981200\n",
            "2019-09-15    46.849334\n",
            "2019-09-29    47.922800\n",
            "2019-10-13    48.161599\n",
            "2019-10-27    53.701800\n",
            "2019-11-10    64.422400\n",
            "2019-11-24    69.845000\n",
            "2019-12-08    66.596666\n",
            "2019-12-22    74.448199\n",
            "2020-01-05    84.627335\n",
            "Freq: 2W-SUN, Name: Close, dtype: float64\n",
            "Date\n",
            "2019-01-31    63.698857\n",
            "2019-03-31    58.398700\n",
            "2019-05-31    48.527953\n",
            "2019-07-31    45.746381\n",
            "2019-09-30    46.178524\n",
            "2019-11-30    59.963535\n",
            "2020-01-31    75.538952\n",
            "Freq: 2M, Name: Close, dtype: float64\n"
          ]
        }
      ]
    },
    {
      "cell_type": "markdown",
      "metadata": {
        "id": "iy4RqsnwL-Bw"
      },
      "source": [
        "Besides the mean() method, other methods can also be used with the resampler:\n",
        "\n"
      ]
    },
    {
      "cell_type": "code",
      "metadata": {
        "colab": {
          "base_uri": "https://localhost:8080/"
        },
        "id": "DNT8Fx9dHW96",
        "outputId": "94e18e38-5485-4a55-d136-d82c8e2f7f45"
      },
      "source": [
        "std = aapl.resample('W').std()\n",
        "max = aapl.resample('W').max()\n",
        "min = aapl.resample('W').min()\n",
        "\n",
        "\n",
        "print(std)\n",
        "print(max)\n",
        "print(min)"
      ],
      "execution_count": null,
      "outputs": [
        {
          "output_type": "stream",
          "name": "stdout",
          "text": [
            "Date\n",
            "2017-01-08    0.203369\n",
            "2017-01-15    0.072529\n",
            "2017-01-22    0.025557\n",
            "2017-01-29    0.245289\n",
            "2017-02-05    0.943260\n",
            "2017-02-12    0.252002\n",
            "2017-02-19    0.231392\n",
            "2017-02-26    0.059345\n",
            "2017-03-05    0.340092\n",
            "2017-03-12    0.076287\n",
            "2017-03-19    0.177836\n",
            "2017-03-26    0.157267\n",
            "2017-04-02    0.319807\n",
            "2017-04-09    0.128690\n",
            "2017-04-16    0.212474\n",
            "2017-04-23    0.174675\n",
            "2017-04-30    0.090023\n",
            "2017-05-07    0.235638\n",
            "2017-05-14    0.352976\n",
            "2017-05-21    0.536093\n",
            "2017-05-28    0.060388\n",
            "2017-06-04    0.281222\n",
            "2017-06-11    0.620035\n",
            "2017-06-18    0.382564\n",
            "2017-06-25    0.128892\n",
            "2017-07-02    0.264109\n",
            "2017-07-09    0.158890\n",
            "2017-07-16    0.404277\n",
            "2017-07-23    0.124989\n",
            "2017-07-30    0.384444\n",
            "2017-08-06    0.924389\n",
            "2017-08-13    0.467469\n",
            "2017-08-20    0.435251\n",
            "2017-08-27    0.275766\n",
            "2017-09-03    0.251728\n",
            "2017-09-10    0.381639\n",
            "2017-09-17    0.294145\n",
            "2017-09-24    0.735194\n",
            "2017-10-01    0.354848\n",
            "2017-10-08    0.204852\n",
            "2017-10-15    0.118731\n",
            "2017-10-22    0.516997\n",
            "2017-10-29    0.680456\n",
            "2017-11-05    0.560686\n",
            "2017-11-12    0.190970\n",
            "2017-11-19    0.436198\n",
            "2017-11-26    0.563049\n",
            "2017-12-03    0.427443\n",
            "2017-12-10    0.073128\n",
            "2017-12-17    0.205266\n",
            "2017-12-24    0.194124\n",
            "2017-12-31    0.190396\n",
            "Freq: W-SUN, Name: Close, dtype: float64\n",
            "Date\n",
            "2017-01-08    27.787130\n",
            "2017-01-15    28.220753\n",
            "2017-01-22    28.279671\n",
            "2017-01-29    28.739214\n",
            "2017-02-05    30.419498\n",
            "2017-02-12    31.341911\n",
            "2017-02-19    32.122971\n",
            "2017-02-26    32.451969\n",
            "2017-03-05    33.086285\n",
            "2017-03-12    33.022385\n",
            "2017-03-19    33.299294\n",
            "2017-03-26    33.481552\n",
            "2017-04-02    34.111126\n",
            "2017-04-09    34.264980\n",
            "2017-04-16    33.886276\n",
            "2017-04-23    33.713505\n",
            "2017-04-30    34.208172\n",
            "2017-05-07    35.256695\n",
            "2017-05-14    37.099121\n",
            "2017-05-21    37.004059\n",
            "2017-05-28    36.597656\n",
            "2017-06-04    36.944645\n",
            "2017-06-11    36.925640\n",
            "2017-06-18    34.838951\n",
            "2017-06-25    34.779545\n",
            "2017-07-02    34.658340\n",
            "2017-07-09    34.266190\n",
            "2017-07-16    35.421223\n",
            "2017-07-23    35.891804\n",
            "2017-07-30    36.471703\n",
            "2017-08-06    37.346291\n",
            "2017-08-13    38.277935\n",
            "2017-08-20    38.557091\n",
            "2017-08-27    38.170570\n",
            "2017-09-03    39.141659\n",
            "2017-09-10    38.671616\n",
            "2017-09-17    38.533241\n",
            "2017-09-24    37.872322\n",
            "2017-10-01    36.798645\n",
            "2017-10-08    37.075413\n",
            "2017-10-15    37.457172\n",
            "2017-10-22    38.287476\n",
            "2017-10-29    38.903061\n",
            "2017-11-05    41.157799\n",
            "2017-11-12    42.050137\n",
            "2017-11-19    41.657742\n",
            "2017-11-26    41.897198\n",
            "2017-12-03    41.686474\n",
            "2017-12-10    40.659225\n",
            "2017-12-17    41.657742\n",
            "2017-12-24    42.244404\n",
            "2017-12-31    40.965733\n",
            "Freq: W-SUN, Name: Close, dtype: float64\n",
            "Date\n",
            "2017-01-08    27.341722\n",
            "2017-01-15    28.041649\n",
            "2017-01-22    28.227819\n",
            "2017-01-29    28.272596\n",
            "2017-02-05    28.597813\n",
            "2017-02-12    30.704643\n",
            "2017-02-19    31.547829\n",
            "2017-02-26    32.314693\n",
            "2017-03-05    32.409359\n",
            "2017-03-12    32.823563\n",
            "2017-03-19    32.896935\n",
            "2017-03-26    33.098114\n",
            "2017-04-02    33.344273\n",
            "2017-04-09    33.926517\n",
            "2017-04-16    33.384506\n",
            "2017-04-23    33.296932\n",
            "2017-04-30    33.997532\n",
            "2017-05-07    34.681549\n",
            "2017-05-14    36.215271\n",
            "2017-05-21    35.708801\n",
            "2017-05-28    36.443188\n",
            "2017-06-04    36.305332\n",
            "2017-06-11    35.406971\n",
            "2017-06-18    33.812256\n",
            "2017-06-25    34.463451\n",
            "2017-07-02    34.147362\n",
            "2017-07-09    33.921577\n",
            "2017-07-16    34.475338\n",
            "2017-07-23    35.544815\n",
            "2017-07-30    35.530556\n",
            "2017-08-06    35.347557\n",
            "2017-08-13    37.058708\n",
            "2017-08-20    37.578846\n",
            "2017-08-27    37.509659\n",
            "2017-09-03    38.526070\n",
            "2017-09-10    37.848461\n",
            "2017-09-17    37.764946\n",
            "2017-09-24    36.240322\n",
            "2017-10-01    35.920605\n",
            "2017-10-08    36.619698\n",
            "2017-10-15    37.182789\n",
            "2017-10-22    37.216183\n",
            "2017-10-29    37.261517\n",
            "2017-11-05    39.778709\n",
            "2017-11-12    41.575336\n",
            "2017-11-19    40.486816\n",
            "2017-11-26    40.702316\n",
            "2017-12-03    40.582596\n",
            "2017-12-10    40.470058\n",
            "2017-12-17    41.114178\n",
            "2017-12-24    41.748737\n",
            "2017-12-31    40.522732\n",
            "Freq: W-SUN, Name: Close, dtype: float64\n"
          ]
        }
      ]
    },
    {
      "cell_type": "markdown",
      "metadata": {
        "id": "8c2I-y0KPiKc"
      },
      "source": [
        "#Ejemplo"
      ]
    },
    {
      "cell_type": "code",
      "metadata": {
        "id": "TC7VQEZ1PkzT"
      },
      "source": [
        ""
      ],
      "execution_count": null,
      "outputs": []
    },
    {
      "cell_type": "code",
      "metadata": {
        "colab": {
          "base_uri": "https://localhost:8080/"
        },
        "id": "KFEvufcuPlds",
        "outputId": "2da3cc1d-34a7-4962-880e-96b1bbd3f0ad"
      },
      "source": [
        "std1 = tsla.resample('W').std()\n",
        "max1 = tsla.resample('W').max()\n",
        "min1 = tsla.resample('W').min()\n",
        "\n",
        "\n",
        "print(std1)\n",
        "print(max1)\n",
        "print(min1)"
      ],
      "execution_count": null,
      "outputs": [
        {
          "output_type": "stream",
          "name": "stdout",
          "text": [
            "Date\n",
            "2019-01-06    1.737606\n",
            "2019-01-13    1.124122\n",
            "2019-01-20    3.787836\n",
            "2019-01-27    1.036116\n",
            "2019-02-03    1.412219\n",
            "2019-02-10    1.301969\n",
            "2019-02-17    0.720289\n",
            "2019-02-24    1.340026\n",
            "2019-03-03    2.258545\n",
            "2019-03-10    0.912968\n",
            "2019-03-17    1.292164\n",
            "2019-03-24    0.809593\n",
            "2019-03-31    1.628349\n",
            "2019-04-07    2.036129\n",
            "2019-04-14    0.694687\n",
            "2019-04-21    0.653822\n",
            "2019-04-28    2.432749\n",
            "2019-05-05    1.571911\n",
            "2019-05-12    1.214653\n",
            "2019-05-19    1.748396\n",
            "2019-05-26    1.387749\n",
            "2019-06-02    0.401043\n",
            "2019-06-09    2.161831\n",
            "2019-06-16    0.578286\n",
            "2019-06-23    0.549554\n",
            "2019-06-30    0.421725\n",
            "2019-07-07    0.975102\n",
            "2019-07-14    1.277700\n",
            "2019-07-21    0.448193\n",
            "2019-07-28    3.545615\n",
            "2019-08-04    0.811350\n",
            "2019-08-11    0.769047\n",
            "2019-08-18    1.585979\n",
            "2019-08-25    1.225819\n",
            "2019-09-01    1.005279\n",
            "2019-09-08    0.764127\n",
            "2019-09-15    1.389792\n",
            "2019-09-22    0.446245\n",
            "2019-09-29    1.799710\n",
            "2019-10-06    1.204953\n",
            "2019-10-13    0.811545\n",
            "2019-10-20    0.430600\n",
            "2019-10-27    6.803877\n",
            "2019-11-03    1.167362\n",
            "2019-11-10    1.903094\n",
            "2019-11-17    0.579414\n",
            "2019-11-24    2.016178\n",
            "2019-12-01    0.658277\n",
            "2019-12-08    0.482296\n",
            "2019-12-15    1.629857\n",
            "2019-12-22    2.466461\n",
            "2019-12-29    1.091285\n",
            "2020-01-05    0.513358\n",
            "Freq: W-SUN, Name: Close, dtype: float64\n",
            "Date\n",
            "2019-01-06    63.537998\n",
            "2019-01-13    69.452003\n",
            "2019-01-20    69.461998\n",
            "2019-01-27    59.784000\n",
            "2019-02-03    62.442001\n",
            "2019-02-10    64.269997\n",
            "2019-02-17    62.568001\n",
            "2019-02-24    61.127998\n",
            "2019-03-03    63.976002\n",
            "2019-03-10    57.071999\n",
            "2019-03-17    58.183998\n",
            "2019-03-24    54.804001\n",
            "2019-03-31    55.972000\n",
            "2019-04-07    58.362000\n",
            "2019-04-14    55.212002\n",
            "2019-04-21    54.672001\n",
            "2019-04-28    52.779999\n",
            "2019-05-05    51.006001\n",
            "2019-05-12    51.068001\n",
            "2019-05-19    46.462002\n",
            "2019-05-26    41.071999\n",
            "2019-06-02    37.972000\n",
            "2019-06-09    41.189999\n",
            "2019-06-16    43.419998\n",
            "2019-06-23    45.285999\n",
            "2019-06-30    44.728001\n",
            "2019-07-07    46.980000\n",
            "2019-07-14    49.015999\n",
            "2019-07-21    51.636002\n",
            "2019-07-28    52.976002\n",
            "2019-08-04    48.452000\n",
            "2019-08-11    47.660000\n",
            "2019-08-18    47.000000\n",
            "2019-08-25    45.366001\n",
            "2019-09-01    45.122002\n",
            "2019-09-08    45.916000\n",
            "2019-09-15    49.419998\n",
            "2019-09-22    49.320000\n",
            "2019-09-29    48.512001\n",
            "2019-10-06    48.938000\n",
            "2019-10-13    49.577999\n",
            "2019-10-20    52.394001\n",
            "2019-10-27    65.625999\n",
            "2019-11-03    65.542000\n",
            "2019-11-10    67.428001\n",
            "2019-11-17    70.433998\n",
            "2019-11-24    71.903999\n",
            "2019-12-01    67.267998\n",
            "2019-12-08    67.239998\n",
            "2019-12-15    71.935997\n",
            "2019-12-22    81.117996\n",
            "2019-12-29    86.188004\n",
            "2020-01-05    83.666000\n",
            "Freq: W-SUN, Name: Close, dtype: float64\n",
            "Date\n",
            "2019-01-06    60.071999\n",
            "2019-01-13    66.991997\n",
            "2019-01-20    60.452000\n",
            "2019-01-27    57.518002\n",
            "2019-02-03    59.276001\n",
            "2019-02-10    61.160000\n",
            "2019-02-17    60.754002\n",
            "2019-02-24    58.245998\n",
            "2019-03-03    58.958000\n",
            "2019-03-10    55.248001\n",
            "2019-03-17    55.085999\n",
            "2019-03-24    52.905998\n",
            "2019-03-31    52.084000\n",
            "2019-04-07    53.556000\n",
            "2019-04-14    53.540001\n",
            "2019-04-21    53.276001\n",
            "2019-04-28    47.028000\n",
            "2019-05-05    46.801998\n",
            "2019-05-12    47.903999\n",
            "2019-05-19    42.206001\n",
            "2019-05-26    38.125999\n",
            "2019-06-02    37.032001\n",
            "2019-06-09    35.793999\n",
            "2019-06-16    41.852001\n",
            "2019-06-23    43.924000\n",
            "2019-06-30    43.854000\n",
            "2019-07-07    44.910000\n",
            "2019-07-14    46.012001\n",
            "2019-07-21    50.476002\n",
            "2019-07-28    45.608002\n",
            "2019-08-04    46.770000\n",
            "2019-08-11    45.664001\n",
            "2019-08-18    43.127998\n",
            "2019-08-25    42.279999\n",
            "2019-09-01    42.816002\n",
            "2019-09-08    44.136002\n",
            "2019-09-15    46.358002\n",
            "2019-09-22    48.124001\n",
            "2019-09-29    44.641998\n",
            "2019-10-06    46.285999\n",
            "2019-10-13    47.543999\n",
            "2019-10-20    51.389999\n",
            "2019-10-27    50.700001\n",
            "2019-11-03    62.661999\n",
            "2019-11-10    63.444000\n",
            "2019-11-17    69.017998\n",
            "2019-11-24    66.608002\n",
            "2019-12-01    65.783997\n",
            "2019-12-08    66.073997\n",
            "2019-12-15    67.905998\n",
            "2019-12-22    75.797997\n",
            "2019-12-29    83.844002\n",
            "2020-01-05    82.940002\n",
            "Freq: W-SUN, Name: Close, dtype: float64\n"
          ]
        }
      ]
    },
    {
      "cell_type": "markdown",
      "metadata": {
        "id": "uqln0s5DMI3I"
      },
      "source": [
        "Often we want to calculate monthly returns of a stock, based on prices on the last day of each month. To fetch those prices, we use the series.resample.agg() method:"
      ]
    },
    {
      "cell_type": "code",
      "metadata": {
        "colab": {
          "base_uri": "https://localhost:8080/"
        },
        "id": "A6FSYvqbHW97",
        "outputId": "6954bffb-f071-499c-c70f-915e09c05744"
      },
      "source": [
        "last_day = aapl.resample('M').agg(lambda x: x[-1])\n",
        "print(last_day)"
      ],
      "execution_count": null,
      "outputs": [
        {
          "output_type": "stream",
          "name": "stdout",
          "text": [
            "Date\n",
            "2017-01-31    28.597813\n",
            "2017-02-28    32.423565\n",
            "2017-03-31    34.002258\n",
            "2017-04-30    33.999889\n",
            "2017-05-31    36.305332\n",
            "2017-06-30    34.228168\n",
            "2017-07-31    35.347557\n",
            "2017-08-31    39.129723\n",
            "2017-09-30    36.772400\n",
            "2017-10-31    40.332241\n",
            "2017-11-30    41.150101\n",
            "2017-12-31    40.522732\n",
            "Freq: M, Name: Close, dtype: float64\n"
          ]
        }
      ]
    },
    {
      "cell_type": "markdown",
      "metadata": {
        "id": "BEeGTKATPyzX"
      },
      "source": [
        "#Ejemplo"
      ]
    },
    {
      "cell_type": "code",
      "metadata": {
        "colab": {
          "base_uri": "https://localhost:8080/"
        },
        "id": "YJXFMNL2P1Uy",
        "outputId": "b4aff878-2c45-4d77-85d9-bf7d8262f816"
      },
      "source": [
        "last_day1 = tsla.resample('M').agg(lambda x: x[-1])\n",
        "print(last_day1)"
      ],
      "execution_count": null,
      "outputs": [
        {
          "output_type": "stream",
          "name": "stdout",
          "text": [
            "Date\n",
            "2019-01-31    61.403999\n",
            "2019-02-28    63.976002\n",
            "2019-03-31    55.972000\n",
            "2019-04-30    47.737999\n",
            "2019-05-31    37.032001\n",
            "2019-06-30    44.692001\n",
            "2019-07-31    48.321999\n",
            "2019-08-31    45.122002\n",
            "2019-09-30    48.174000\n",
            "2019-10-31    62.984001\n",
            "2019-11-30    65.987999\n",
            "2019-12-31    83.666000\n",
            "Freq: M, Name: Close, dtype: float64\n"
          ]
        }
      ]
    },
    {
      "cell_type": "markdown",
      "metadata": {
        "id": "uwomY3aXMR46"
      },
      "source": [
        "Or directly calculate the monthly rates of return using the data for the first day and the last day:"
      ]
    },
    {
      "cell_type": "code",
      "metadata": {
        "colab": {
          "base_uri": "https://localhost:8080/"
        },
        "id": "qK2NMJrNHW96",
        "outputId": "1624dbeb-4234-490f-bf39-711be1eccf20"
      },
      "source": [
        "monthly_return = aapl.resample('M').agg(lambda x: x[-1]/x[0] - 1)\n",
        "print(monthly_return)"
      ],
      "execution_count": null,
      "outputs": [
        {
          "output_type": "stream",
          "name": "stdout",
          "text": [
            "Date\n",
            "2017-01-31    0.044770\n",
            "2017-02-28    0.068613\n",
            "2017-03-31    0.027684\n",
            "2017-04-30   -0.000348\n",
            "2017-05-31    0.046463\n",
            "2017-06-30   -0.059799\n",
            "2017-07-31    0.036446\n",
            "2017-08-31    0.097261\n",
            "2017-09-30   -0.060530\n",
            "2017-10-31    0.099018\n",
            "2017-11-30    0.033422\n",
            "2017-12-31   -0.010640\n",
            "Freq: M, Name: Close, dtype: float64\n"
          ]
        }
      ]
    },
    {
      "cell_type": "markdown",
      "metadata": {
        "id": "jviLi04kP9Ua"
      },
      "source": [
        "#Ejemplo"
      ]
    },
    {
      "cell_type": "code",
      "metadata": {
        "colab": {
          "base_uri": "https://localhost:8080/"
        },
        "id": "RqE2j1k0P_1n",
        "outputId": "85ca912d-02c2-48d6-aebc-bb17c9589b47"
      },
      "source": [
        "monthly_return1 = tsla.resample('M').agg(lambda x: x[-1]/x[0] - 1)\n",
        "print(monthly_return1)"
      ],
      "execution_count": null,
      "outputs": [
        {
          "output_type": "stream",
          "name": "stdout",
          "text": [
            "Date\n",
            "2019-01-31   -0.009996\n",
            "2019-02-28    0.024567\n",
            "2019-03-31   -0.050646\n",
            "2019-04-30   -0.174597\n",
            "2019-05-31   -0.208752\n",
            "2019-06-30    0.248589\n",
            "2019-07-31    0.063565\n",
            "2019-08-31   -0.035236\n",
            "2019-09-30    0.070486\n",
            "2019-10-31    0.287016\n",
            "2019-11-30    0.053078\n",
            "2019-12-31    0.249231\n",
            "Freq: M, Name: Close, dtype: float64\n"
          ]
        }
      ]
    },
    {
      "cell_type": "markdown",
      "metadata": {
        "id": "_DYbMTFWMj8J"
      },
      "source": [
        "Series object also provides us some convenient methods to do some quick calculation."
      ]
    },
    {
      "cell_type": "code",
      "metadata": {
        "colab": {
          "base_uri": "https://localhost:8080/"
        },
        "id": "1Mxc0HwvHW98",
        "outputId": "c53843db-cbaa-46a3-ef33-1ff6305d1bd8"
      },
      "source": [
        "print(monthly_return.mean())\n",
        "print(monthly_return.std())\n",
        "print(monthly_return.max())"
      ],
      "execution_count": null,
      "outputs": [
        {
          "output_type": "stream",
          "name": "stdout",
          "text": [
            "0.026863245076016423\n",
            "0.052258437220697194\n",
            "0.0990179594658156\n"
          ]
        }
      ]
    },
    {
      "cell_type": "markdown",
      "metadata": {
        "id": "LDzv-JoRQIUY"
      },
      "source": [
        "#Ejemplo"
      ]
    },
    {
      "cell_type": "code",
      "metadata": {
        "colab": {
          "base_uri": "https://localhost:8080/"
        },
        "id": "Ru5tO9WVQK6J",
        "outputId": "d7a1eb47-6817-4527-8d11-45269a5f51d5"
      },
      "source": [
        "print(monthly_return1.mean())\n",
        "print(monthly_return1.std())\n",
        "print(monthly_return1.max())"
      ],
      "execution_count": null,
      "outputs": [
        {
          "output_type": "stream",
          "name": "stdout",
          "text": [
            "0.04310874162711617\n",
            "0.1579379203446269\n",
            "0.28701625553062127\n"
          ]
        }
      ]
    },
    {
      "cell_type": "markdown",
      "metadata": {
        "id": "mn59J5dqMpqX"
      },
      "source": [
        "Another two methods frequently used on Series are .diff() and .pct_change(). The former calculates the difference between consecutive elements, and the latter calculates the percentage change."
      ]
    },
    {
      "cell_type": "code",
      "metadata": {
        "colab": {
          "base_uri": "https://localhost:8080/"
        },
        "id": "DupZTSqqHW99",
        "outputId": "152512f7-90cc-44b6-b363-49f4c37f3850"
      },
      "source": [
        "print(last_day.diff())\n",
        "print(last_day.pct_change())"
      ],
      "execution_count": null,
      "outputs": [
        {
          "output_type": "stream",
          "name": "stdout",
          "text": [
            "Date\n",
            "2017-01-31         NaN\n",
            "2017-02-28    3.825752\n",
            "2017-03-31    1.578693\n",
            "2017-04-30   -0.002369\n",
            "2017-05-31    2.305443\n",
            "2017-06-30   -2.077164\n",
            "2017-07-31    1.119389\n",
            "2017-08-31    3.782166\n",
            "2017-09-30   -2.357323\n",
            "2017-10-31    3.559841\n",
            "2017-11-30    0.817860\n",
            "2017-12-31   -0.627369\n",
            "Freq: M, Name: Close, dtype: float64\n",
            "Date\n",
            "2017-01-31         NaN\n",
            "2017-02-28    0.133778\n",
            "2017-03-31    0.048690\n",
            "2017-04-30   -0.000070\n",
            "2017-05-31    0.067807\n",
            "2017-06-30   -0.057214\n",
            "2017-07-31    0.032704\n",
            "2017-08-31    0.106999\n",
            "2017-09-30   -0.060244\n",
            "2017-10-31    0.096807\n",
            "2017-11-30    0.020278\n",
            "2017-12-31   -0.015246\n",
            "Freq: M, Name: Close, dtype: float64\n"
          ]
        }
      ]
    },
    {
      "cell_type": "markdown",
      "metadata": {
        "id": "okZKvbd1QTQb"
      },
      "source": [
        "#Ejemplo"
      ]
    },
    {
      "cell_type": "code",
      "metadata": {
        "colab": {
          "base_uri": "https://localhost:8080/"
        },
        "id": "iPYmf_SeQVHR",
        "outputId": "4e7b07e4-964c-48f7-a5c0-af50c035fd95"
      },
      "source": [
        "print(last_day1.diff())\n",
        "print(last_day1.pct_change())"
      ],
      "execution_count": null,
      "outputs": [
        {
          "output_type": "stream",
          "name": "stdout",
          "text": [
            "Date\n",
            "2019-01-31          NaN\n",
            "2019-02-28     2.572002\n",
            "2019-03-31    -8.004002\n",
            "2019-04-30    -8.234001\n",
            "2019-05-31   -10.705997\n",
            "2019-06-30     7.660000\n",
            "2019-07-31     3.629997\n",
            "2019-08-31    -3.199997\n",
            "2019-09-30     3.051998\n",
            "2019-10-31    14.810001\n",
            "2019-11-30     3.003998\n",
            "2019-12-31    17.678001\n",
            "Freq: M, Name: Close, dtype: float64\n",
            "Date\n",
            "2019-01-31         NaN\n",
            "2019-02-28    0.041887\n",
            "2019-03-31   -0.125109\n",
            "2019-04-30   -0.147109\n",
            "2019-05-31   -0.224266\n",
            "2019-06-30    0.206848\n",
            "2019-07-31    0.081223\n",
            "2019-08-31   -0.066222\n",
            "2019-09-30    0.067639\n",
            "2019-10-31    0.307427\n",
            "2019-11-30    0.047695\n",
            "2019-12-31    0.267897\n",
            "Freq: M, Name: Close, dtype: float64\n"
          ]
        }
      ]
    },
    {
      "cell_type": "markdown",
      "metadata": {
        "id": "RaMAOFepM6Io"
      },
      "source": [
        "Notice that we induced a NaN value while calculating percentage changes i.e. returns.\n",
        "\n",
        "When dealing with NaN values, we usually either removing the data point or fill it with a specific value. Here we fill it with 0:"
      ]
    },
    {
      "cell_type": "code",
      "metadata": {
        "colab": {
          "base_uri": "https://localhost:8080/"
        },
        "id": "-xyLb3A3HW99",
        "outputId": "86e89019-0d61-4707-ffe9-8d32297a89bb"
      },
      "source": [
        "daily_return = last_day.pct_change()\n",
        "print(daily_return.fillna(0))"
      ],
      "execution_count": null,
      "outputs": [
        {
          "output_type": "stream",
          "name": "stdout",
          "text": [
            "Date\n",
            "2017-01-31    0.000000\n",
            "2017-02-28    0.133778\n",
            "2017-03-31    0.048690\n",
            "2017-04-30   -0.000070\n",
            "2017-05-31    0.067807\n",
            "2017-06-30   -0.057214\n",
            "2017-07-31    0.032704\n",
            "2017-08-31    0.106999\n",
            "2017-09-30   -0.060244\n",
            "2017-10-31    0.096807\n",
            "2017-11-30    0.020278\n",
            "2017-12-31   -0.015246\n",
            "Freq: M, Name: Close, dtype: float64\n"
          ]
        }
      ]
    },
    {
      "cell_type": "markdown",
      "metadata": {
        "id": "N1GdgSz7QaZb"
      },
      "source": [
        "#Ejemplo"
      ]
    },
    {
      "cell_type": "code",
      "metadata": {
        "colab": {
          "base_uri": "https://localhost:8080/"
        },
        "id": "u_L4imgAQc0j",
        "outputId": "9a4d350a-4554-4b49-989c-decf04f0c246"
      },
      "source": [
        "daily_return1 = last_day1.pct_change()\n",
        "print(daily_return1.fillna(0))"
      ],
      "execution_count": null,
      "outputs": [
        {
          "output_type": "stream",
          "name": "stdout",
          "text": [
            "Date\n",
            "2019-01-31    0.000000\n",
            "2019-02-28    0.041887\n",
            "2019-03-31   -0.125109\n",
            "2019-04-30   -0.147109\n",
            "2019-05-31   -0.224266\n",
            "2019-06-30    0.206848\n",
            "2019-07-31    0.081223\n",
            "2019-08-31   -0.066222\n",
            "2019-09-30    0.067639\n",
            "2019-10-31    0.307427\n",
            "2019-11-30    0.047695\n",
            "2019-12-31    0.267897\n",
            "Freq: M, Name: Close, dtype: float64\n"
          ]
        }
      ]
    },
    {
      "cell_type": "markdown",
      "metadata": {
        "id": "BYS10Om1NQVC"
      },
      "source": [
        "Alternatively, we can fill a NaN with the next fitted value. This is called 'backward fill', or 'bfill' in short:"
      ]
    },
    {
      "cell_type": "code",
      "metadata": {
        "colab": {
          "base_uri": "https://localhost:8080/"
        },
        "id": "J513kHeKHW9-",
        "outputId": "76ae90b0-4d16-49fd-a219-14a8561ca4db"
      },
      "source": [
        "daily_return = last_day.pct_change()\n",
        "print(daily_return.fillna(method = 'bfill'))"
      ],
      "execution_count": null,
      "outputs": [
        {
          "output_type": "stream",
          "name": "stdout",
          "text": [
            "Date\n",
            "2017-01-31    0.133778\n",
            "2017-02-28    0.133778\n",
            "2017-03-31    0.048690\n",
            "2017-04-30   -0.000070\n",
            "2017-05-31    0.067807\n",
            "2017-06-30   -0.057214\n",
            "2017-07-31    0.032704\n",
            "2017-08-31    0.106999\n",
            "2017-09-30   -0.060244\n",
            "2017-10-31    0.096807\n",
            "2017-11-30    0.020278\n",
            "2017-12-31   -0.015246\n",
            "Freq: M, Name: Close, dtype: float64\n"
          ]
        }
      ]
    },
    {
      "cell_type": "markdown",
      "metadata": {
        "id": "4MZqGVPJQlfj"
      },
      "source": [
        "#Ejemplo"
      ]
    },
    {
      "cell_type": "code",
      "metadata": {
        "colab": {
          "base_uri": "https://localhost:8080/"
        },
        "id": "M0vyTVPlQjOT",
        "outputId": "52944147-5c3a-4e76-f624-6199a1c15f59"
      },
      "source": [
        "daily_return1 = last_day1.pct_change()\n",
        "print(daily_return1.fillna(method = 'bfill'))"
      ],
      "execution_count": null,
      "outputs": [
        {
          "output_type": "stream",
          "name": "stdout",
          "text": [
            "Date\n",
            "2019-01-31    0.041887\n",
            "2019-02-28    0.041887\n",
            "2019-03-31   -0.125109\n",
            "2019-04-30   -0.147109\n",
            "2019-05-31   -0.224266\n",
            "2019-06-30    0.206848\n",
            "2019-07-31    0.081223\n",
            "2019-08-31   -0.066222\n",
            "2019-09-30    0.067639\n",
            "2019-10-31    0.307427\n",
            "2019-11-30    0.047695\n",
            "2019-12-31    0.267897\n",
            "Freq: M, Name: Close, dtype: float64\n"
          ]
        }
      ]
    },
    {
      "cell_type": "markdown",
      "metadata": {
        "id": "bj8QUSgdNepf"
      },
      "source": [
        "As expected, since there is a 'backward fill' method, there must be a 'forward fill' method, or 'ffill' in short. However we can't use it here because the NaN is the first value.\n",
        "\n",
        "We can also simply remove NaN values by **_.dropna()_**"
      ]
    },
    {
      "cell_type": "code",
      "metadata": {
        "colab": {
          "base_uri": "https://localhost:8080/"
        },
        "id": "WG5ux1lqHW9-",
        "outputId": "365beb73-0d5e-4418-c275-2ffa1c64f4cc"
      },
      "source": [
        "daily_return = last_day.pct_change()\n",
        "daily_return.dropna()"
      ],
      "execution_count": null,
      "outputs": [
        {
          "output_type": "execute_result",
          "data": {
            "text/plain": [
              "Date\n",
              "2017-02-28    0.133778\n",
              "2017-03-31    0.048690\n",
              "2017-04-30   -0.000070\n",
              "2017-05-31    0.067807\n",
              "2017-06-30   -0.057214\n",
              "2017-07-31    0.032704\n",
              "2017-08-31    0.106999\n",
              "2017-09-30   -0.060244\n",
              "2017-10-31    0.096807\n",
              "2017-11-30    0.020278\n",
              "2017-12-31   -0.015246\n",
              "Freq: M, Name: Close, dtype: float64"
            ]
          },
          "metadata": {},
          "execution_count": 203
        }
      ]
    },
    {
      "cell_type": "markdown",
      "metadata": {
        "id": "BycML2W9QtlQ"
      },
      "source": [
        "#Ejemplo"
      ]
    },
    {
      "cell_type": "code",
      "metadata": {
        "colab": {
          "base_uri": "https://localhost:8080/"
        },
        "id": "wwpj1Y2bQv-a",
        "outputId": "6184333d-1f46-43cb-b305-031ca5165462"
      },
      "source": [
        "daily_return1 = last_day1.pct_change()\n",
        "daily_return1.dropna()"
      ],
      "execution_count": null,
      "outputs": [
        {
          "output_type": "execute_result",
          "data": {
            "text/plain": [
              "Date\n",
              "2019-02-28    0.041887\n",
              "2019-03-31   -0.125109\n",
              "2019-04-30   -0.147109\n",
              "2019-05-31   -0.224266\n",
              "2019-06-30    0.206848\n",
              "2019-07-31    0.081223\n",
              "2019-08-31   -0.066222\n",
              "2019-09-30    0.067639\n",
              "2019-10-31    0.307427\n",
              "2019-11-30    0.047695\n",
              "2019-12-31    0.267897\n",
              "Freq: M, Name: Close, dtype: float64"
            ]
          },
          "metadata": {},
          "execution_count": 204
        }
      ]
    },
    {
      "cell_type": "markdown",
      "metadata": {
        "id": "nQH2eBWkNjdC"
      },
      "source": [
        "# DataFrame\n",
        "The **DataFrame** is the most commonly used data structure in Pandas. It is essentially a table, just like an Excel spreadsheet.\n",
        "\n",
        "More precisely, a DataFrame is a collection of Series objects, each of which may contain different data types. A DataFrame can be created from various data types: dictionary, 2-D numpy.ndarray, a Series or another DataFrame.\n",
        "\n",
        "## Create DataFrames\n",
        "The most common method of creating a DataFrame is passing a dictionary:"
      ]
    },
    {
      "cell_type": "code",
      "metadata": {
        "colab": {
          "base_uri": "https://localhost:8080/"
        },
        "id": "vd5Wf1ohHW9-",
        "outputId": "9aae099e-efff-4e16-a1b5-aae267bb1590"
      },
      "source": [
        "import pandas as pd\n",
        "\n",
        "dict = {'AAPL': [143.5, 144.09, 142.73, 144.18, 143.77],'GOOG':[898.7, 911.71, 906.69, 918.59, 926.99],\n",
        "        'IBM':[155.58, 153.67, 152.36, 152.94, 153.49]}\n",
        "data_index = pd.date_range('2017-07-03',periods = 5, freq = 'D')\n",
        "df = pd.DataFrame(dict, index = data_index)\n",
        "print(df)"
      ],
      "execution_count": null,
      "outputs": [
        {
          "output_type": "stream",
          "name": "stdout",
          "text": [
            "              AAPL    GOOG     IBM\n",
            "2017-07-03  143.50  898.70  155.58\n",
            "2017-07-04  144.09  911.71  153.67\n",
            "2017-07-05  142.73  906.69  152.36\n",
            "2017-07-06  144.18  918.59  152.94\n",
            "2017-07-07  143.77  926.99  153.49\n"
          ]
        }
      ]
    },
    {
      "cell_type": "markdown",
      "metadata": {
        "id": "wwRROm5gQ5k1"
      },
      "source": [
        "#Ejemplo"
      ]
    },
    {
      "cell_type": "code",
      "metadata": {
        "colab": {
          "base_uri": "https://localhost:8080/"
        },
        "id": "c4Pu2GPdQ7wl",
        "outputId": "238638ed-80e4-47f6-8029-bc6779528dba"
      },
      "source": [
        "dict = {'FB': [143.5, 144.09, 142.73, 144.18, 143.77],'TSLA':[898.7, 911.71, 906.69, 918.59, 926.99],\n",
        "        'BAC':[155.58, 153.67, 152.36, 152.94, 153.49]}\n",
        "data_index = pd.date_range('2020-07-03',periods = 5, freq = 'D')\n",
        "df1 = pd.DataFrame(dict, index = data_index)\n",
        "print(df1)"
      ],
      "execution_count": null,
      "outputs": [
        {
          "output_type": "stream",
          "name": "stdout",
          "text": [
            "                FB    TSLA     BAC\n",
            "2020-07-03  143.50  898.70  155.58\n",
            "2020-07-04  144.09  911.71  153.67\n",
            "2020-07-05  142.73  906.69  152.36\n",
            "2020-07-06  144.18  918.59  152.94\n",
            "2020-07-07  143.77  926.99  153.49\n"
          ]
        }
      ]
    },
    {
      "cell_type": "markdown",
      "metadata": {
        "id": "0uYmLQTgOPnX"
      },
      "source": [
        "## Manipulating DataFrames\n",
        "We can fetch values in a DataFrame by columns and index. Each column in a DataFrame is essentially a Pandas Series. We can fetch a column by square brackets: **df['column_name']**\n",
        "\n",
        "If a column name contains no spaces, then we can also use df.column_name to fetch a column:"
      ]
    },
    {
      "cell_type": "code",
      "metadata": {
        "colab": {
          "base_uri": "https://localhost:8080/"
        },
        "id": "2pB2f7lBHW9_",
        "outputId": "e230c0d5-323c-400b-d848-cdebe12e58cd"
      },
      "source": [
        "df = aapl_table\n",
        "print(df.Close.tail(5))\n",
        "print(df['Volume'].tail(5))"
      ],
      "execution_count": null,
      "outputs": [
        {
          "output_type": "stream",
          "name": "stdout",
          "text": [
            "Date\n",
            "2017-12-22    41.906765\n",
            "2017-12-26    40.843601\n",
            "2017-12-27    40.850784\n",
            "2017-12-28    40.965733\n",
            "2017-12-29    40.522732\n",
            "Name: Close, dtype: float64\n",
            "Date\n",
            "2017-12-22     65397600\n",
            "2017-12-26    132742000\n",
            "2017-12-27     85992800\n",
            "2017-12-28     65920800\n",
            "2017-12-29    103999600\n",
            "Name: Volume, dtype: int64\n"
          ]
        }
      ]
    },
    {
      "cell_type": "markdown",
      "metadata": {
        "id": "6n65N8hPRP4T"
      },
      "source": [
        "#Ejemplo"
      ]
    },
    {
      "cell_type": "code",
      "metadata": {
        "colab": {
          "base_uri": "https://localhost:8080/"
        },
        "id": "28dcom4WRTCC",
        "outputId": "c203c299-9516-4e63-df24-507d756b43e6"
      },
      "source": [
        "df1 = tsla_table\n",
        "print(df1.Close.tail(5))\n",
        "print(df1['Volume'].tail(5))"
      ],
      "execution_count": null,
      "outputs": [
        {
          "output_type": "stream",
          "name": "stdout",
          "text": [
            "Date\n",
            "2020-12-23    645.979980\n",
            "2020-12-24    661.770020\n",
            "2020-12-28    663.690002\n",
            "2020-12-29    665.989990\n",
            "2020-12-30    694.780029\n",
            "Name: Close, dtype: float64\n",
            "Date\n",
            "2020-12-23    33173000\n",
            "2020-12-24    22865600\n",
            "2020-12-28    32278600\n",
            "2020-12-29    22910800\n",
            "2020-12-30    42846000\n",
            "Name: Volume, dtype: int64\n"
          ]
        }
      ]
    },
    {
      "cell_type": "markdown",
      "metadata": {
        "id": "z0ugOel9O4-P"
      },
      "source": [
        "All the methods we applied to a Series index such as iloc[], loc[] and resampling methods, can also be applied to a DataFrame:"
      ]
    },
    {
      "cell_type": "code",
      "metadata": {
        "colab": {
          "base_uri": "https://localhost:8080/"
        },
        "id": "_8dfjkedHW9_",
        "outputId": "130f7bb9-331f-49bc-bc59-21bf5eb1f563"
      },
      "source": [
        "aapl_2016 = df['2016']\n",
        "aapl_month = aapl_2016.resample('M').agg(lambda x: x[-1])\n",
        "print(aapl_month)"
      ],
      "execution_count": null,
      "outputs": [
        {
          "output_type": "stream",
          "name": "stdout",
          "text": [
            "                 Open       High        Low  ...     Volume  Dividends  Stock Splits\n",
            "Date                                         ...                                    \n",
            "2016-01-31  21.852384  22.440247  21.750948  ...  257666000        0.0             0\n",
            "2016-02-29  22.450759  22.768306  22.402084  ...  140865200        0.0             0\n",
            "2016-03-31  25.431518  25.473240  25.236817  ...  103553600        0.0             0\n",
            "2016-04-30  21.785529  21.954734  21.442488  ...  274126000        0.0             0\n",
            "2016-05-31  23.226403  23.412961  23.044510  ...  169228800        0.0             0\n",
            "2016-06-30  22.023108  22.333258  21.990461  ...  143345600        0.0             0\n",
            "2016-07-31  24.296786  24.380737  24.177855  ...  110934800        0.0             0\n",
            "2016-08-31  24.773058  24.986415  24.768367  ...  118649600        0.0             0\n",
            "2016-09-30  26.367384  26.580743  26.212641  ...  145516400        0.0             0\n",
            "2016-10-31  26.646392  26.782380  26.540884  ...  105677600        0.0             0\n",
            "2016-11-30  26.300095  26.441493  25.986662  ...  144649200        0.0             0\n",
            "2016-12-31  27.490191  27.619805  27.202681  ...  122345200        0.0             0\n",
            "\n",
            "[12 rows x 7 columns]\n"
          ]
        }
      ]
    },
    {
      "cell_type": "markdown",
      "metadata": {
        "id": "-3KAVrbFRgXe"
      },
      "source": [
        "#Ejemplo"
      ]
    },
    {
      "cell_type": "code",
      "metadata": {
        "colab": {
          "base_uri": "https://localhost:8080/"
        },
        "id": "eV4n0p22RiZQ",
        "outputId": "0d357509-2d2e-4899-c099-3210147a512d"
      },
      "source": [
        "tsla_2020 = df1['2020']\n",
        "tsla_month = tsla_2020.resample('M').agg(lambda x: x[-1])\n",
        "print(tsla_month)"
      ],
      "execution_count": null,
      "outputs": [
        {
          "output_type": "stream",
          "name": "stdout",
          "text": [
            "                  Open        High  ...  Dividends  Stock Splits\n",
            "Date                                ...                         \n",
            "2020-01-31  128.000000  130.600006  ...          0           0.0\n",
            "2020-02-29  125.940002  138.104004  ...          0           0.0\n",
            "2020-03-31  100.250000  108.592003  ...          0           0.0\n",
            "2020-04-30  171.037994  173.964005  ...          0           0.0\n",
            "2020-05-31  161.750000  167.000000  ...          0           0.0\n",
            "2020-06-30  201.300003  217.537994  ...          0           0.0\n",
            "2020-07-31  303.000000  303.410004  ...          0           0.0\n",
            "2020-08-31  444.609985  500.140015  ...          0           5.0\n",
            "2020-09-30  421.320007  433.929993  ...          0           0.0\n",
            "2020-10-31  406.899994  407.589996  ...          0           0.0\n",
            "2020-11-30  602.210022  607.799988  ...          0           0.0\n",
            "2020-12-31  672.000000  696.599976  ...          0           0.0\n",
            "\n",
            "[12 rows x 7 columns]\n"
          ]
        }
      ]
    },
    {
      "cell_type": "markdown",
      "metadata": {
        "id": "CqrbrbFZPTJe"
      },
      "source": [
        "We may select certain columns of a DataFrame using their names:"
      ]
    },
    {
      "cell_type": "code",
      "metadata": {
        "colab": {
          "base_uri": "https://localhost:8080/"
        },
        "id": "7bQGeyCAHW9_",
        "outputId": "b622f51d-c45a-4f64-edb3-5da1fd171e45"
      },
      "source": [
        "aapl_bar = aapl_month[['Open', 'High', 'Low', 'Close']]\n",
        "print(aapl_bar)"
      ],
      "execution_count": null,
      "outputs": [
        {
          "output_type": "stream",
          "name": "stdout",
          "text": [
            "                 Open       High        Low      Close\n",
            "Date                                                  \n",
            "2016-01-31  21.852384  22.440247  21.750948  22.440247\n",
            "2016-02-29  22.450759  22.768306  22.402084  22.411356\n",
            "2016-03-31  25.431518  25.473240  25.236817  25.262314\n",
            "2016-04-30  21.785529  21.954734  21.442488  21.727583\n",
            "2016-05-31  23.226403  23.412961  23.044510  23.287035\n",
            "2016-06-30  22.023108  22.333258  21.990461  22.293615\n",
            "2016-07-31  24.296786  24.380737  24.177855  24.301449\n",
            "2016-08-31  24.773058  24.986415  24.768367  24.876219\n",
            "2016-09-30  26.367384  26.580743  26.212641  26.505716\n",
            "2016-10-31  26.646392  26.782380  26.540884  26.620602\n",
            "2016-11-30  26.300095  26.441493  25.986662  26.045578\n",
            "2016-12-31  27.490191  27.619805  27.202681  27.294590\n"
          ]
        }
      ]
    },
    {
      "cell_type": "markdown",
      "metadata": {
        "id": "0ulX7bLwR0lR"
      },
      "source": [
        "#Ejemplo"
      ]
    },
    {
      "cell_type": "code",
      "metadata": {
        "colab": {
          "base_uri": "https://localhost:8080/"
        },
        "id": "-hNvZdsBR24e",
        "outputId": "528bcdcf-3f95-4a42-8b69-6ac2dbf185e0"
      },
      "source": [
        "tsla_bar = tsla_month[['Open', 'High', 'Low', 'Close']]\n",
        "print(tsla_bar)"
      ],
      "execution_count": null,
      "outputs": [
        {
          "output_type": "stream",
          "name": "stdout",
          "text": [
            "                  Open        High         Low       Close\n",
            "Date                                                      \n",
            "2020-01-31  128.000000  130.600006  126.503998  130.113998\n",
            "2020-02-29  125.940002  138.104004  122.304001  133.598007\n",
            "2020-03-31  100.250000  108.592003   99.400002  104.800003\n",
            "2020-04-30  171.037994  173.964005  152.699997  156.376007\n",
            "2020-05-31  161.750000  167.000000  160.841995  167.000000\n",
            "2020-06-30  201.300003  217.537994  200.746002  215.962006\n",
            "2020-07-31  303.000000  303.410004  284.196014  286.152008\n",
            "2020-08-31  444.609985  500.140015  440.109985  498.320007\n",
            "2020-09-30  421.320007  433.929993  420.470001  429.010010\n",
            "2020-10-31  406.899994  407.589996  379.109985  388.040009\n",
            "2020-11-30  602.210022  607.799988  554.510010  567.599976\n",
            "2020-12-31  672.000000  696.599976  668.359985  694.780029\n"
          ]
        }
      ]
    },
    {
      "cell_type": "markdown",
      "metadata": {
        "id": "8CQaZCAQP68O"
      },
      "source": [
        "We can even specify both rows and columns using loc[]. The row indices and column names are separated by a comma:"
      ]
    },
    {
      "cell_type": "code",
      "metadata": {
        "colab": {
          "base_uri": "https://localhost:8080/"
        },
        "id": "YjWWiHVpHW-A",
        "outputId": "f774f6f0-3e44-4831-ca1a-84558affcdaf"
      },
      "source": [
        "print(aapl_month.loc['2016-03':'2016-06',['Open', 'High', 'Low', 'Close']])"
      ],
      "execution_count": null,
      "outputs": [
        {
          "output_type": "stream",
          "name": "stdout",
          "text": [
            "                 Open       High        Low      Close\n",
            "Date                                                  \n",
            "2016-03-31  25.431518  25.473240  25.236817  25.262314\n",
            "2016-04-30  21.785529  21.954734  21.442488  21.727583\n",
            "2016-05-31  23.226403  23.412961  23.044510  23.287035\n",
            "2016-06-30  22.023108  22.333258  21.990461  22.293615\n"
          ]
        }
      ]
    },
    {
      "cell_type": "markdown",
      "metadata": {
        "id": "GYyt7CqPR_VN"
      },
      "source": [
        "#Ejemplo"
      ]
    },
    {
      "cell_type": "code",
      "metadata": {
        "colab": {
          "base_uri": "https://localhost:8080/"
        },
        "id": "CWnj0LdISC43",
        "outputId": "ff4bdd34-1d96-42b2-e732-a7c85a3cc000"
      },
      "source": [
        "print(tsla_month.loc['2019-03':'2019-06',['Open', 'High', 'Low', 'Close']])"
      ],
      "execution_count": null,
      "outputs": [
        {
          "output_type": "stream",
          "name": "stdout",
          "text": [
            "Empty DataFrame\n",
            "Columns: [Open, High, Low, Close]\n",
            "Index: []\n"
          ]
        }
      ]
    },
    {
      "cell_type": "markdown",
      "metadata": {
        "id": "Xcn_pHNLQBEH"
      },
      "source": [
        "The subset methods in DataFrame is quite useful. By writing logical statements in square brackets, we can make customized subsets:"
      ]
    },
    {
      "cell_type": "code",
      "metadata": {
        "colab": {
          "base_uri": "https://localhost:8080/"
        },
        "id": "RxKg4dObHW-A",
        "outputId": "433996e1-d604-466c-a997-c4cc36f40707"
      },
      "source": [
        "import numpy as np\n",
        "\n",
        "above = aapl_bar[aapl_bar.Close > np.mean(aapl_bar.Close)]\n",
        "print(above)"
      ],
      "execution_count": null,
      "outputs": [
        {
          "output_type": "stream",
          "name": "stdout",
          "text": [
            "                 Open       High        Low      Close\n",
            "Date                                                  \n",
            "2016-03-31  25.431518  25.473240  25.236817  25.262314\n",
            "2016-08-31  24.773058  24.986415  24.768367  24.876219\n",
            "2016-09-30  26.367384  26.580743  26.212641  26.505716\n",
            "2016-10-31  26.646392  26.782380  26.540884  26.620602\n",
            "2016-11-30  26.300095  26.441493  25.986662  26.045578\n",
            "2016-12-31  27.490191  27.619805  27.202681  27.294590\n"
          ]
        }
      ]
    },
    {
      "cell_type": "markdown",
      "metadata": {
        "id": "t9Z0_1ynSK6i"
      },
      "source": [
        "#Ejemplo"
      ]
    },
    {
      "cell_type": "code",
      "metadata": {
        "colab": {
          "base_uri": "https://localhost:8080/"
        },
        "id": "tQOt9PlSSM-O",
        "outputId": "39221aee-2105-429a-f13a-909e30e0581c"
      },
      "source": [
        "above1 = tsla_bar[tsla_bar.Close > np.mean(tsla_bar.Close)]\n",
        "print(above1)"
      ],
      "execution_count": null,
      "outputs": [
        {
          "output_type": "stream",
          "name": "stdout",
          "text": [
            "                  Open        High         Low       Close\n",
            "Date                                                      \n",
            "2020-08-31  444.609985  500.140015  440.109985  498.320007\n",
            "2020-09-30  421.320007  433.929993  420.470001  429.010010\n",
            "2020-10-31  406.899994  407.589996  379.109985  388.040009\n",
            "2020-11-30  602.210022  607.799988  554.510010  567.599976\n",
            "2020-12-31  672.000000  696.599976  668.359985  694.780029\n"
          ]
        }
      ]
    },
    {
      "cell_type": "markdown",
      "metadata": {
        "id": "wcm_UadkQLL5"
      },
      "source": [
        "## Data Validation\n",
        "As mentioned, all methods that apply to a Series can also be applied to a DataFrame. Here we add a new column to an existing DataFrame:"
      ]
    },
    {
      "cell_type": "code",
      "metadata": {
        "colab": {
          "base_uri": "https://localhost:8080/"
        },
        "id": "jZXFdOVFHW-A",
        "outputId": "4da0f164-f5c7-4596-b29a-0358f496ca19"
      },
      "source": [
        "aapl_bar['rate_return'] = aapl_bar.Close.pct_change()\n",
        "print(aapl_bar)"
      ],
      "execution_count": null,
      "outputs": [
        {
          "output_type": "stream",
          "name": "stdout",
          "text": [
            "                 Open       High        Low      Close  rate_return\n",
            "Date                                                               \n",
            "2016-01-31  21.852384  22.440247  21.750948  22.440247          NaN\n",
            "2016-02-29  22.450759  22.768306  22.402084  22.411356    -0.001287\n",
            "2016-03-31  25.431518  25.473240  25.236817  25.262314     0.127210\n",
            "2016-04-30  21.785529  21.954734  21.442488  21.727583    -0.139921\n",
            "2016-05-31  23.226403  23.412961  23.044510  23.287035     0.071773\n",
            "2016-06-30  22.023108  22.333258  21.990461  22.293615    -0.042660\n",
            "2016-07-31  24.296786  24.380737  24.177855  24.301449     0.090063\n",
            "2016-08-31  24.773058  24.986415  24.768367  24.876219     0.023652\n",
            "2016-09-30  26.367384  26.580743  26.212641  26.505716     0.065504\n",
            "2016-10-31  26.646392  26.782380  26.540884  26.620602     0.004334\n",
            "2016-11-30  26.300095  26.441493  25.986662  26.045578    -0.021601\n",
            "2016-12-31  27.490191  27.619805  27.202681  27.294590     0.047955\n"
          ]
        },
        {
          "output_type": "stream",
          "name": "stderr",
          "text": [
            "/usr/local/lib/python3.7/dist-packages/ipykernel_launcher.py:1: SettingWithCopyWarning: \n",
            "A value is trying to be set on a copy of a slice from a DataFrame.\n",
            "Try using .loc[row_indexer,col_indexer] = value instead\n",
            "\n",
            "See the caveats in the documentation: https://pandas.pydata.org/pandas-docs/stable/user_guide/indexing.html#returning-a-view-versus-a-copy\n",
            "  \"\"\"Entry point for launching an IPython kernel.\n"
          ]
        }
      ]
    },
    {
      "cell_type": "markdown",
      "metadata": {
        "id": "rQ0AoQ2MSXDt"
      },
      "source": [
        "#Ejemplo"
      ]
    },
    {
      "cell_type": "code",
      "metadata": {
        "colab": {
          "base_uri": "https://localhost:8080/"
        },
        "id": "BLkuRfG9SZfe",
        "outputId": "fc00c32d-f4b0-40ea-b999-a6ecfdcaa6a4"
      },
      "source": [
        "tsla_bar['rate_return'] = tsla_bar.Close.pct_change()\n",
        "print(tsla_bar)"
      ],
      "execution_count": null,
      "outputs": [
        {
          "output_type": "stream",
          "name": "stdout",
          "text": [
            "                  Open        High         Low       Close  rate_return\n",
            "Date                                                                   \n",
            "2020-01-31  128.000000  130.600006  126.503998  130.113998          NaN\n",
            "2020-02-29  125.940002  138.104004  122.304001  133.598007     0.026777\n",
            "2020-03-31  100.250000  108.592003   99.400002  104.800003    -0.215557\n",
            "2020-04-30  171.037994  173.964005  152.699997  156.376007     0.492137\n",
            "2020-05-31  161.750000  167.000000  160.841995  167.000000     0.067939\n",
            "2020-06-30  201.300003  217.537994  200.746002  215.962006     0.293186\n",
            "2020-07-31  303.000000  303.410004  284.196014  286.152008     0.325011\n",
            "2020-08-31  444.609985  500.140015  440.109985  498.320007     0.741452\n",
            "2020-09-30  421.320007  433.929993  420.470001  429.010010    -0.139087\n",
            "2020-10-31  406.899994  407.589996  379.109985  388.040009    -0.095499\n",
            "2020-11-30  602.210022  607.799988  554.510010  567.599976     0.462736\n",
            "2020-12-31  672.000000  696.599976  668.359985  694.780029     0.224066\n"
          ]
        },
        {
          "output_type": "stream",
          "name": "stderr",
          "text": [
            "/usr/local/lib/python3.7/dist-packages/ipykernel_launcher.py:1: SettingWithCopyWarning: \n",
            "A value is trying to be set on a copy of a slice from a DataFrame.\n",
            "Try using .loc[row_indexer,col_indexer] = value instead\n",
            "\n",
            "See the caveats in the documentation: https://pandas.pydata.org/pandas-docs/stable/user_guide/indexing.html#returning-a-view-versus-a-copy\n",
            "  \"\"\"Entry point for launching an IPython kernel.\n"
          ]
        }
      ]
    },
    {
      "cell_type": "markdown",
      "metadata": {
        "id": "_or6n5-LQUa-"
      },
      "source": [
        "Here the calculation introduced a NaN value. If the DataFrame is large, we would not be able to observe it. **isnull()** provides a convenient way to check abnormal values."
      ]
    },
    {
      "cell_type": "code",
      "metadata": {
        "colab": {
          "base_uri": "https://localhost:8080/"
        },
        "id": "V5wgmhIPHW-B",
        "outputId": "bf4522c4-6720-42b6-e33d-f2447e011f73"
      },
      "source": [
        "missing = aapl_bar.isnull()\n",
        "print(missing)\n",
        "print('---------------------------------------------')\n",
        "print(missing.describe())"
      ],
      "execution_count": null,
      "outputs": [
        {
          "output_type": "stream",
          "name": "stdout",
          "text": [
            "             Open   High    Low  Close  rate_return\n",
            "Date                                               \n",
            "2016-01-31  False  False  False  False         True\n",
            "2016-02-29  False  False  False  False        False\n",
            "2016-03-31  False  False  False  False        False\n",
            "2016-04-30  False  False  False  False        False\n",
            "2016-05-31  False  False  False  False        False\n",
            "2016-06-30  False  False  False  False        False\n",
            "2016-07-31  False  False  False  False        False\n",
            "2016-08-31  False  False  False  False        False\n",
            "2016-09-30  False  False  False  False        False\n",
            "2016-10-31  False  False  False  False        False\n",
            "2016-11-30  False  False  False  False        False\n",
            "2016-12-31  False  False  False  False        False\n",
            "---------------------------------------------\n",
            "         Open   High    Low  Close rate_return\n",
            "count      12     12     12     12          12\n",
            "unique      1      1      1      1           2\n",
            "top     False  False  False  False       False\n",
            "freq       12     12     12     12          11\n"
          ]
        }
      ]
    },
    {
      "cell_type": "markdown",
      "metadata": {
        "id": "NFewpSLwSjGZ"
      },
      "source": [
        "#Ejemplo"
      ]
    },
    {
      "cell_type": "code",
      "metadata": {
        "colab": {
          "base_uri": "https://localhost:8080/"
        },
        "id": "3hgvF-T6Slm_",
        "outputId": "07d2ff70-38d1-47dc-ed93-7f87ad963869"
      },
      "source": [
        "missing1 = tsla_bar.isnull()\n",
        "print(missing1)\n",
        "print('---------------------------------------------')\n",
        "print(missing1.describe())"
      ],
      "execution_count": null,
      "outputs": [
        {
          "output_type": "stream",
          "name": "stdout",
          "text": [
            "             Open   High    Low  Close  rate_return\n",
            "Date                                               \n",
            "2020-01-31  False  False  False  False         True\n",
            "2020-02-29  False  False  False  False        False\n",
            "2020-03-31  False  False  False  False        False\n",
            "2020-04-30  False  False  False  False        False\n",
            "2020-05-31  False  False  False  False        False\n",
            "2020-06-30  False  False  False  False        False\n",
            "2020-07-31  False  False  False  False        False\n",
            "2020-08-31  False  False  False  False        False\n",
            "2020-09-30  False  False  False  False        False\n",
            "2020-10-31  False  False  False  False        False\n",
            "2020-11-30  False  False  False  False        False\n",
            "2020-12-31  False  False  False  False        False\n",
            "---------------------------------------------\n",
            "         Open   High    Low  Close rate_return\n",
            "count      12     12     12     12          12\n",
            "unique      1      1      1      1           2\n",
            "top     False  False  False  False       False\n",
            "freq       12     12     12     12          11\n"
          ]
        }
      ]
    },
    {
      "cell_type": "markdown",
      "metadata": {
        "id": "d6KFV4i0QfLW"
      },
      "source": [
        "The row labelled \"unique\" indicates the number of unique values in each column. Since the \"rate_return\" column has 2 unique values, it has at least one missing value.\n",
        "\n",
        "We can deduce the number of missing values by comparing \"count\" with \"freq\". There are 12 counts and 11 False values, so there is one True value which corresponds to the missing value.\n",
        "\n",
        "We can also find the rows with missing values easily:"
      ]
    },
    {
      "cell_type": "code",
      "metadata": {
        "colab": {
          "base_uri": "https://localhost:8080/"
        },
        "id": "Eo0ZAhCsHW-B",
        "outputId": "ff00e4c6-7fbb-492d-893b-2223189d6914"
      },
      "source": [
        "print(missing[missing.rate_return == True])"
      ],
      "execution_count": null,
      "outputs": [
        {
          "output_type": "stream",
          "name": "stdout",
          "text": [
            "             Open   High    Low  Close  rate_return\n",
            "Date                                               \n",
            "2016-01-31  False  False  False  False         True\n"
          ]
        }
      ]
    },
    {
      "cell_type": "markdown",
      "metadata": {
        "id": "Y3hDZMcxSvMM"
      },
      "source": [
        "#Ejemplo"
      ]
    },
    {
      "cell_type": "code",
      "metadata": {
        "colab": {
          "base_uri": "https://localhost:8080/"
        },
        "id": "zFCM0IU2SxY5",
        "outputId": "fc4701ea-bc0f-43af-83ba-c9aebb41fa50"
      },
      "source": [
        "print(missing1[missing1.rate_return == True])"
      ],
      "execution_count": null,
      "outputs": [
        {
          "output_type": "stream",
          "name": "stdout",
          "text": [
            "             Open   High    Low  Close  rate_return\n",
            "Date                                               \n",
            "2020-01-31  False  False  False  False         True\n"
          ]
        }
      ]
    },
    {
      "cell_type": "markdown",
      "metadata": {
        "id": "qgggpD8OQkZX"
      },
      "source": [
        "Usually when dealing with missing data, we either delete the whole row or fill it with some value. As we introduced in the Series chapter, the same method **dropna()** and **fillna()** can be applied to a DataFrame."
      ]
    },
    {
      "cell_type": "code",
      "metadata": {
        "colab": {
          "base_uri": "https://localhost:8080/"
        },
        "id": "j8PaIokjHW-B",
        "outputId": "ae4de845-2376-4c80-862b-ddd7e5b230b5"
      },
      "source": [
        "drop = aapl_bar.dropna()\n",
        "print(drop)\n",
        "print('\\n--------------------------------------------------\\n')\n",
        "fill = aapl_bar.fillna(0)\n",
        "print(fill)"
      ],
      "execution_count": null,
      "outputs": [
        {
          "output_type": "stream",
          "name": "stdout",
          "text": [
            "                 Open       High        Low      Close  rate_return\n",
            "Date                                                               \n",
            "2016-02-29  22.450759  22.768306  22.402084  22.411356    -0.001287\n",
            "2016-03-31  25.431518  25.473240  25.236817  25.262314     0.127210\n",
            "2016-04-30  21.785529  21.954734  21.442488  21.727583    -0.139921\n",
            "2016-05-31  23.226403  23.412961  23.044510  23.287035     0.071773\n",
            "2016-06-30  22.023108  22.333258  21.990461  22.293615    -0.042660\n",
            "2016-07-31  24.296786  24.380737  24.177855  24.301449     0.090063\n",
            "2016-08-31  24.773058  24.986415  24.768367  24.876219     0.023652\n",
            "2016-09-30  26.367384  26.580743  26.212641  26.505716     0.065504\n",
            "2016-10-31  26.646392  26.782380  26.540884  26.620602     0.004334\n",
            "2016-11-30  26.300095  26.441493  25.986662  26.045578    -0.021601\n",
            "2016-12-31  27.490191  27.619805  27.202681  27.294590     0.047955\n",
            "\n",
            "--------------------------------------------------\n",
            "\n",
            "                 Open       High        Low      Close  rate_return\n",
            "Date                                                               \n",
            "2016-01-31  21.852384  22.440247  21.750948  22.440247     0.000000\n",
            "2016-02-29  22.450759  22.768306  22.402084  22.411356    -0.001287\n",
            "2016-03-31  25.431518  25.473240  25.236817  25.262314     0.127210\n",
            "2016-04-30  21.785529  21.954734  21.442488  21.727583    -0.139921\n",
            "2016-05-31  23.226403  23.412961  23.044510  23.287035     0.071773\n",
            "2016-06-30  22.023108  22.333258  21.990461  22.293615    -0.042660\n",
            "2016-07-31  24.296786  24.380737  24.177855  24.301449     0.090063\n",
            "2016-08-31  24.773058  24.986415  24.768367  24.876219     0.023652\n",
            "2016-09-30  26.367384  26.580743  26.212641  26.505716     0.065504\n",
            "2016-10-31  26.646392  26.782380  26.540884  26.620602     0.004334\n",
            "2016-11-30  26.300095  26.441493  25.986662  26.045578    -0.021601\n",
            "2016-12-31  27.490191  27.619805  27.202681  27.294590     0.047955\n"
          ]
        }
      ]
    },
    {
      "cell_type": "markdown",
      "metadata": {
        "id": "oDP5cuIKS6ft"
      },
      "source": [
        "#Ejemplo"
      ]
    },
    {
      "cell_type": "code",
      "metadata": {
        "colab": {
          "base_uri": "https://localhost:8080/"
        },
        "id": "c6bf8WIAS9S6",
        "outputId": "959cda36-3f7c-438b-8c17-c18d9fe0d663"
      },
      "source": [
        "drop1 = tsla_bar.dropna()\n",
        "print(drop1)\n",
        "print('\\n--------------------------------------------------\\n')\n",
        "fill1 = tsla_bar.fillna(0)\n",
        "print(fill1)"
      ],
      "execution_count": null,
      "outputs": [
        {
          "output_type": "stream",
          "name": "stdout",
          "text": [
            "                  Open        High         Low       Close  rate_return\n",
            "Date                                                                   \n",
            "2020-02-29  125.940002  138.104004  122.304001  133.598007     0.026777\n",
            "2020-03-31  100.250000  108.592003   99.400002  104.800003    -0.215557\n",
            "2020-04-30  171.037994  173.964005  152.699997  156.376007     0.492137\n",
            "2020-05-31  161.750000  167.000000  160.841995  167.000000     0.067939\n",
            "2020-06-30  201.300003  217.537994  200.746002  215.962006     0.293186\n",
            "2020-07-31  303.000000  303.410004  284.196014  286.152008     0.325011\n",
            "2020-08-31  444.609985  500.140015  440.109985  498.320007     0.741452\n",
            "2020-09-30  421.320007  433.929993  420.470001  429.010010    -0.139087\n",
            "2020-10-31  406.899994  407.589996  379.109985  388.040009    -0.095499\n",
            "2020-11-30  602.210022  607.799988  554.510010  567.599976     0.462736\n",
            "2020-12-31  672.000000  696.599976  668.359985  694.780029     0.224066\n",
            "\n",
            "--------------------------------------------------\n",
            "\n",
            "                  Open        High         Low       Close  rate_return\n",
            "Date                                                                   \n",
            "2020-01-31  128.000000  130.600006  126.503998  130.113998     0.000000\n",
            "2020-02-29  125.940002  138.104004  122.304001  133.598007     0.026777\n",
            "2020-03-31  100.250000  108.592003   99.400002  104.800003    -0.215557\n",
            "2020-04-30  171.037994  173.964005  152.699997  156.376007     0.492137\n",
            "2020-05-31  161.750000  167.000000  160.841995  167.000000     0.067939\n",
            "2020-06-30  201.300003  217.537994  200.746002  215.962006     0.293186\n",
            "2020-07-31  303.000000  303.410004  284.196014  286.152008     0.325011\n",
            "2020-08-31  444.609985  500.140015  440.109985  498.320007     0.741452\n",
            "2020-09-30  421.320007  433.929993  420.470001  429.010010    -0.139087\n",
            "2020-10-31  406.899994  407.589996  379.109985  388.040009    -0.095499\n",
            "2020-11-30  602.210022  607.799988  554.510010  567.599976     0.462736\n",
            "2020-12-31  672.000000  696.599976  668.359985  694.780029     0.224066\n"
          ]
        }
      ]
    },
    {
      "cell_type": "markdown",
      "metadata": {
        "id": "0tvoFlKWQxYG"
      },
      "source": [
        "## DataFrame Concat\n",
        "We have seen how to extract a Series from a dataFrame. Now we need to consider how to merge a Series or a DataFrame into another one.\n",
        "\n",
        "In Pandas, the function **concat()** allows us to merge multiple Series into a DataFrame:"
      ]
    },
    {
      "cell_type": "code",
      "metadata": {
        "colab": {
          "base_uri": "https://localhost:8080/"
        },
        "id": "uQrmLIWKHW-C",
        "outputId": "3eee0d78-6ea0-45d8-f14c-13f697812d9f"
      },
      "source": [
        "s1 = pd.Series([143.5, 144.09, 142.73, 144.18, 143.77], name = 'AAPL')\n",
        "s2 = pd.Series([898.7, 911.71, 906.69, 918.59, 926.99], name = 'GOOG')\n",
        "data_frame = pd.concat([s1,s2], axis = 1)\n",
        "print(data_frame)"
      ],
      "execution_count": null,
      "outputs": [
        {
          "output_type": "stream",
          "name": "stdout",
          "text": [
            "     AAPL    GOOG\n",
            "0  143.50  898.70\n",
            "1  144.09  911.71\n",
            "2  142.73  906.69\n",
            "3  144.18  918.59\n",
            "4  143.77  926.99\n"
          ]
        }
      ]
    },
    {
      "cell_type": "markdown",
      "metadata": {
        "id": "HpnNkaSOTGnS"
      },
      "source": [
        "#Ejemplo"
      ]
    },
    {
      "cell_type": "code",
      "metadata": {
        "colab": {
          "base_uri": "https://localhost:8080/"
        },
        "id": "ldOBH0c6TJq2",
        "outputId": "ed3ea41d-1a6c-4ef6-9d44-790cf0fd33bd"
      },
      "source": [
        "serie1 = pd.Series([143.5, 144.09, 142.73, 144.18, 143.77], name = 'TSLA')\n",
        "serie2 = pd.Series([898.7, 911.71, 906.69, 918.59, 926.99], name = 'FB')\n",
        "data_frame1 = pd.concat([serie1,serie2], axis = 1)\n",
        "print(data_frame1)"
      ],
      "execution_count": null,
      "outputs": [
        {
          "output_type": "stream",
          "name": "stdout",
          "text": [
            "     TSLA      FB\n",
            "0  143.50  898.70\n",
            "1  144.09  911.71\n",
            "2  142.73  906.69\n",
            "3  144.18  918.59\n",
            "4  143.77  926.99\n"
          ]
        }
      ]
    },
    {
      "cell_type": "markdown",
      "metadata": {
        "id": "3ojbNYJLR2vv"
      },
      "source": [
        "The \"axis = 1\" parameter will join two DataFrames by columns:"
      ]
    },
    {
      "cell_type": "code",
      "metadata": {
        "colab": {
          "base_uri": "https://localhost:8080/"
        },
        "id": "DJsaLd-cRoIm",
        "outputId": "7d32b3b5-9d37-414f-ea42-780fd07b24db"
      },
      "source": [
        "log_price = np.log(aapl_bar.Close)\n",
        "log_price.name = 'log_price'\n",
        "print(log_price)\n",
        "print('\\n---------------------- separate line--------------------\\n')\n",
        "concat = pd.concat([aapl_bar, log_price], axis = 1)\n",
        "print(concat)"
      ],
      "execution_count": null,
      "outputs": [
        {
          "output_type": "stream",
          "name": "stdout",
          "text": [
            "Date\n",
            "2016-01-31    3.110856\n",
            "2016-02-29    3.109568\n",
            "2016-03-31    3.229314\n",
            "2016-04-30    3.078583\n",
            "2016-05-31    3.147897\n",
            "2016-06-30    3.104300\n",
            "2016-07-31    3.190536\n",
            "2016-08-31    3.213912\n",
            "2016-09-30    3.277360\n",
            "2016-10-31    3.281685\n",
            "2016-11-30    3.259848\n",
            "2016-12-31    3.306689\n",
            "Freq: M, Name: log_price, dtype: float64\n",
            "\n",
            "---------------------- separate line--------------------\n",
            "\n",
            "                 Open       High        Low      Close  rate_return  log_price\n",
            "Date                                                                          \n",
            "2016-01-31  21.852384  22.440247  21.750948  22.440247          NaN   3.110856\n",
            "2016-02-29  22.450759  22.768306  22.402084  22.411356    -0.001287   3.109568\n",
            "2016-03-31  25.431518  25.473240  25.236817  25.262314     0.127210   3.229314\n",
            "2016-04-30  21.785529  21.954734  21.442488  21.727583    -0.139921   3.078583\n",
            "2016-05-31  23.226403  23.412961  23.044510  23.287035     0.071773   3.147897\n",
            "2016-06-30  22.023108  22.333258  21.990461  22.293615    -0.042660   3.104300\n",
            "2016-07-31  24.296786  24.380737  24.177855  24.301449     0.090063   3.190536\n",
            "2016-08-31  24.773058  24.986415  24.768367  24.876219     0.023652   3.213912\n",
            "2016-09-30  26.367384  26.580743  26.212641  26.505716     0.065504   3.277360\n",
            "2016-10-31  26.646392  26.782380  26.540884  26.620602     0.004334   3.281685\n",
            "2016-11-30  26.300095  26.441493  25.986662  26.045578    -0.021601   3.259848\n",
            "2016-12-31  27.490191  27.619805  27.202681  27.294590     0.047955   3.306689\n"
          ]
        }
      ]
    },
    {
      "cell_type": "markdown",
      "metadata": {
        "id": "Z4_8ZrU5TcmD"
      },
      "source": [
        "#Ejemplo"
      ]
    },
    {
      "cell_type": "code",
      "metadata": {
        "colab": {
          "base_uri": "https://localhost:8080/"
        },
        "id": "dlcUEnxeTgHu",
        "outputId": "688cf950-fb27-4b62-dba3-70ed6eb0bbbb"
      },
      "source": [
        "log_prices = np.log(tsla_bar.Close)\n",
        "log_prices.name = 'log_price'\n",
        "print(log_prices)\n",
        "print('\\n---------------------- separate line--------------------\\n')\n",
        "concat1 = pd.concat([tsla_bar, log_prices], axis = 1)\n",
        "print(concat1)"
      ],
      "execution_count": null,
      "outputs": [
        {
          "output_type": "stream",
          "name": "stdout",
          "text": [
            "Date\n",
            "2020-01-31    4.868411\n",
            "2020-02-29    4.894835\n",
            "2020-03-31    4.652054\n",
            "2020-04-30    5.052263\n",
            "2020-05-31    5.117994\n",
            "2020-06-30    5.375102\n",
            "2020-07-31    5.656523\n",
            "2020-08-31    6.211242\n",
            "2020-09-30    6.061480\n",
            "2020-10-31    5.961108\n",
            "2020-11-30    6.341417\n",
            "2020-12-31    6.543595\n",
            "Freq: M, Name: log_price, dtype: float64\n",
            "\n",
            "---------------------- separate line--------------------\n",
            "\n",
            "                  Open        High  ...  rate_return  log_price\n",
            "Date                                ...                        \n",
            "2020-01-31  128.000000  130.600006  ...          NaN   4.868411\n",
            "2020-02-29  125.940002  138.104004  ...     0.026777   4.894835\n",
            "2020-03-31  100.250000  108.592003  ...    -0.215557   4.652054\n",
            "2020-04-30  171.037994  173.964005  ...     0.492137   5.052263\n",
            "2020-05-31  161.750000  167.000000  ...     0.067939   5.117994\n",
            "2020-06-30  201.300003  217.537994  ...     0.293186   5.375102\n",
            "2020-07-31  303.000000  303.410004  ...     0.325011   5.656523\n",
            "2020-08-31  444.609985  500.140015  ...     0.741452   6.211242\n",
            "2020-09-30  421.320007  433.929993  ...    -0.139087   6.061480\n",
            "2020-10-31  406.899994  407.589996  ...    -0.095499   5.961108\n",
            "2020-11-30  602.210022  607.799988  ...     0.462736   6.341417\n",
            "2020-12-31  672.000000  696.599976  ...     0.224066   6.543595\n",
            "\n",
            "[12 rows x 6 columns]\n"
          ]
        }
      ]
    },
    {
      "cell_type": "markdown",
      "metadata": {
        "id": "mIZz-FUyR_62"
      },
      "source": [
        "We can also join two DataFrames by rows. Consider these two DataFrames:"
      ]
    },
    {
      "cell_type": "code",
      "metadata": {
        "colab": {
          "base_uri": "https://localhost:8080/"
        },
        "id": "W7uXZptLHW-C",
        "outputId": "449c160c-86bc-4b16-bb3f-497d82b374ad"
      },
      "source": [
        "df_volume = aapl_table.loc['2016-10':'2017-04',['Volume', 'Stock Splits']].resample('M').agg(lambda x: x[-1])\n",
        "print(df_volume)\n",
        "print('\\n---------------------- separate line--------------------\\n')\n",
        "df_2017 = aapl_table.loc['2016-10':'2017-04',['Open', 'High', 'Low', 'Close']].resample('M').agg(lambda x: x[-1])\n",
        "print(df_2017)"
      ],
      "execution_count": null,
      "outputs": [
        {
          "output_type": "stream",
          "name": "stdout",
          "text": [
            "               Volume  Stock Splits\n",
            "Date                               \n",
            "2016-10-31  105677600             0\n",
            "2016-11-30  144649200             0\n",
            "2016-12-31  122345200             0\n",
            "2017-01-31  196804000             0\n",
            "2017-02-28   93931600             0\n",
            "2017-03-31   78646800             0\n",
            "2017-04-30   83441600             0\n",
            "\n",
            "---------------------- separate line--------------------\n",
            "\n",
            "                 Open       High        Low      Close\n",
            "Date                                                  \n",
            "2016-10-31  26.646392  26.782380  26.540884  26.620602\n",
            "2016-11-30  26.300095  26.441493  25.986662  26.045578\n",
            "2016-12-31  27.490191  27.619805  27.202681  27.294590\n",
            "2017-01-31  28.550681  28.607239  28.425779  28.597813\n",
            "2017-02-28  32.444866  32.530073  32.354924  32.423565\n",
            "2017-03-31  34.016459  34.146637  33.848410  34.002258\n",
            "2017-04-30  34.104032  34.153737  33.909951  33.999889\n"
          ]
        }
      ]
    },
    {
      "cell_type": "markdown",
      "metadata": {
        "id": "g0p-3TQYTwD-"
      },
      "source": [
        "#Ejemplo"
      ]
    },
    {
      "cell_type": "code",
      "metadata": {
        "colab": {
          "base_uri": "https://localhost:8080/"
        },
        "id": "ONYqSTIeTyXT",
        "outputId": "56940b57-d32d-46b1-d8a5-5b691aa3fe0b"
      },
      "source": [
        "df_volume1 = tsla_table.loc['2019-10':'2020-04',['Volume', 'Stock Splits']].resample('M').agg(lambda x: x[-1])\n",
        "print(df_volume)\n",
        "print('\\n---------------------- separate line--------------------\\n')\n",
        "df_2020 = tsla_table.loc['2019-10':'2020-04',['Open', 'High', 'Low', 'Close']].resample('M').agg(lambda x: x[-1])\n",
        "print(df_2020)"
      ],
      "execution_count": null,
      "outputs": [
        {
          "output_type": "stream",
          "name": "stdout",
          "text": [
            "               Volume  Stock Splits\n",
            "Date                               \n",
            "2016-10-31  105677600             0\n",
            "2016-11-30  144649200             0\n",
            "2016-12-31  122345200             0\n",
            "2017-01-31  196804000             0\n",
            "2017-02-28   93931600             0\n",
            "2017-03-31   78646800             0\n",
            "2017-04-30   83441600             0\n",
            "\n",
            "---------------------- separate line--------------------\n",
            "\n",
            "                  Open        High         Low       Close\n",
            "Date                                                      \n",
            "2019-10-31   62.619999   63.799999   62.599998   62.984001\n",
            "2019-11-30   66.222000   66.251999   65.500000   65.987999\n",
            "2019-12-31   81.000000   84.258003   80.416000   83.666000\n",
            "2020-01-31  128.000000  130.600006  126.503998  130.113998\n",
            "2020-02-29  125.940002  138.104004  122.304001  133.598007\n",
            "2020-03-31  100.250000  108.592003   99.400002  104.800003\n",
            "2020-04-30  171.037994  173.964005  152.699997  156.376007\n"
          ]
        }
      ]
    },
    {
      "cell_type": "markdown",
      "metadata": {
        "id": "iZk_C9aSSLeP"
      },
      "source": [
        "Now we merge the DataFrames with our DataFrame 'aapl_bar'"
      ]
    },
    {
      "cell_type": "code",
      "metadata": {
        "colab": {
          "base_uri": "https://localhost:8080/"
        },
        "id": "aFqmjokOHW-C",
        "outputId": "8bb09c44-5740-46bc-c1e6-84ee9b90acd3"
      },
      "source": [
        "concat = pd.concat([aapl_bar, df_volume], axis = 1)\n",
        "print(concat)"
      ],
      "execution_count": null,
      "outputs": [
        {
          "output_type": "stream",
          "name": "stdout",
          "text": [
            "                 Open       High  ...       Volume  Stock Splits\n",
            "Date                              ...                           \n",
            "2016-01-31  21.852384  22.440247  ...          NaN           NaN\n",
            "2016-02-29  22.450759  22.768306  ...          NaN           NaN\n",
            "2016-03-31  25.431518  25.473240  ...          NaN           NaN\n",
            "2016-04-30  21.785529  21.954734  ...          NaN           NaN\n",
            "2016-05-31  23.226403  23.412961  ...          NaN           NaN\n",
            "2016-06-30  22.023108  22.333258  ...          NaN           NaN\n",
            "2016-07-31  24.296786  24.380737  ...          NaN           NaN\n",
            "2016-08-31  24.773058  24.986415  ...          NaN           NaN\n",
            "2016-09-30  26.367384  26.580743  ...          NaN           NaN\n",
            "2016-10-31  26.646392  26.782380  ...  105677600.0           0.0\n",
            "2016-11-30  26.300095  26.441493  ...  144649200.0           0.0\n",
            "2016-12-31  27.490191  27.619805  ...  122345200.0           0.0\n",
            "2017-01-31        NaN        NaN  ...  196804000.0           0.0\n",
            "2017-02-28        NaN        NaN  ...   93931600.0           0.0\n",
            "2017-03-31        NaN        NaN  ...   78646800.0           0.0\n",
            "2017-04-30        NaN        NaN  ...   83441600.0           0.0\n",
            "\n",
            "[16 rows x 7 columns]\n"
          ]
        }
      ]
    },
    {
      "cell_type": "markdown",
      "metadata": {
        "id": "16kCO9XGUI_k"
      },
      "source": [
        "#Ejemplo"
      ]
    },
    {
      "cell_type": "code",
      "metadata": {
        "colab": {
          "base_uri": "https://localhost:8080/"
        },
        "id": "98HGjGL-UMiX",
        "outputId": "0384119c-0f6a-4974-ee7c-f714325787b8"
      },
      "source": [
        "concat1 = pd.concat([tsla_bar, df_volume], axis = 1)\n",
        "print(concat1)"
      ],
      "execution_count": null,
      "outputs": [
        {
          "output_type": "stream",
          "name": "stdout",
          "text": [
            "                  Open        High  ...       Volume  Stock Splits\n",
            "Date                                ...                           \n",
            "2016-10-31         NaN         NaN  ...  105677600.0           0.0\n",
            "2016-11-30         NaN         NaN  ...  144649200.0           0.0\n",
            "2016-12-31         NaN         NaN  ...  122345200.0           0.0\n",
            "2017-01-31         NaN         NaN  ...  196804000.0           0.0\n",
            "2017-02-28         NaN         NaN  ...   93931600.0           0.0\n",
            "2017-03-31         NaN         NaN  ...   78646800.0           0.0\n",
            "2017-04-30         NaN         NaN  ...   83441600.0           0.0\n",
            "2020-01-31  128.000000  130.600006  ...          NaN           NaN\n",
            "2020-02-29  125.940002  138.104004  ...          NaN           NaN\n",
            "2020-03-31  100.250000  108.592003  ...          NaN           NaN\n",
            "2020-04-30  171.037994  173.964005  ...          NaN           NaN\n",
            "2020-05-31  161.750000  167.000000  ...          NaN           NaN\n",
            "2020-06-30  201.300003  217.537994  ...          NaN           NaN\n",
            "2020-07-31  303.000000  303.410004  ...          NaN           NaN\n",
            "2020-08-31  444.609985  500.140015  ...          NaN           NaN\n",
            "2020-09-30  421.320007  433.929993  ...          NaN           NaN\n",
            "2020-10-31  406.899994  407.589996  ...          NaN           NaN\n",
            "2020-11-30  602.210022  607.799988  ...          NaN           NaN\n",
            "2020-12-31  672.000000  696.599976  ...          NaN           NaN\n",
            "\n",
            "[19 rows x 7 columns]\n"
          ]
        }
      ]
    },
    {
      "cell_type": "markdown",
      "metadata": {
        "id": "7yI3tgB4SR4O"
      },
      "source": [
        "By default the DataFrame are joined with all of the data. This default options results in zero information loss. We can also merge them by intersection, this is called 'inner join"
      ]
    },
    {
      "cell_type": "code",
      "metadata": {
        "colab": {
          "base_uri": "https://localhost:8080/"
        },
        "id": "31QGLyijHW-C",
        "outputId": "068b2110-8df8-4936-bff1-900e50e3a77b"
      },
      "source": [
        "concat = pd.concat([aapl_bar,df_volume],axis = 1, join = 'inner')\n",
        "print(concat)"
      ],
      "execution_count": null,
      "outputs": [
        {
          "output_type": "stream",
          "name": "stdout",
          "text": [
            "                 Open       High  ...     Volume  Stock Splits\n",
            "Date                              ...                         \n",
            "2016-10-31  26.646392  26.782380  ...  105677600             0\n",
            "2016-11-30  26.300095  26.441493  ...  144649200             0\n",
            "2016-12-31  27.490191  27.619805  ...  122345200             0\n",
            "\n",
            "[3 rows x 7 columns]\n"
          ]
        }
      ]
    },
    {
      "cell_type": "markdown",
      "metadata": {
        "id": "mI-Xc6ECUSvy"
      },
      "source": [
        "#Ejemplo"
      ]
    },
    {
      "cell_type": "code",
      "metadata": {
        "colab": {
          "base_uri": "https://localhost:8080/"
        },
        "id": "qco8n_xTUU7A",
        "outputId": "7fb461cc-5750-4f6b-edb5-ddcbd431b3c4"
      },
      "source": [
        "concat1 = pd.concat([tsla_bar,df_volume1],axis = 1, join = 'inner')\n",
        "print(concat1)"
      ],
      "execution_count": null,
      "outputs": [
        {
          "output_type": "stream",
          "name": "stdout",
          "text": [
            "                  Open        High  ...     Volume  Stock Splits\n",
            "Date                                ...                         \n",
            "2020-01-31  128.000000  130.600006  ...   78596500           0.0\n",
            "2020-02-29  125.940002  138.104004  ...  121114500           0.0\n",
            "2020-03-31  100.250000  108.592003  ...   88857500           0.0\n",
            "2020-04-30  171.037994  173.964005  ...  142359500           0.0\n",
            "\n",
            "[4 rows x 7 columns]\n"
          ]
        }
      ]
    },
    {
      "cell_type": "markdown",
      "metadata": {
        "id": "oudcWMm5Sd0u"
      },
      "source": [
        "Only the intersection part was left if use 'inner join' method. Now let's try to append a DataFrame to another one:"
      ]
    },
    {
      "cell_type": "code",
      "metadata": {
        "colab": {
          "base_uri": "https://localhost:8080/"
        },
        "id": "lgw0qaOsHW-D",
        "outputId": "605dec8e-9449-42b6-add5-9d7537b3b9ea"
      },
      "source": [
        "append = aapl_bar.append(df_2017)\n",
        "print(append)"
      ],
      "execution_count": null,
      "outputs": [
        {
          "output_type": "stream",
          "name": "stdout",
          "text": [
            "                 Open       High        Low      Close  rate_return\n",
            "Date                                                               \n",
            "2016-01-31  21.852384  22.440247  21.750948  22.440247          NaN\n",
            "2016-02-29  22.450759  22.768306  22.402084  22.411356    -0.001287\n",
            "2016-03-31  25.431518  25.473240  25.236817  25.262314     0.127210\n",
            "2016-04-30  21.785529  21.954734  21.442488  21.727583    -0.139921\n",
            "2016-05-31  23.226403  23.412961  23.044510  23.287035     0.071773\n",
            "2016-06-30  22.023108  22.333258  21.990461  22.293615    -0.042660\n",
            "2016-07-31  24.296786  24.380737  24.177855  24.301449     0.090063\n",
            "2016-08-31  24.773058  24.986415  24.768367  24.876219     0.023652\n",
            "2016-09-30  26.367384  26.580743  26.212641  26.505716     0.065504\n",
            "2016-10-31  26.646392  26.782380  26.540884  26.620602     0.004334\n",
            "2016-11-30  26.300095  26.441493  25.986662  26.045578    -0.021601\n",
            "2016-12-31  27.490191  27.619805  27.202681  27.294590     0.047955\n",
            "2016-10-31  26.646392  26.782380  26.540884  26.620602          NaN\n",
            "2016-11-30  26.300095  26.441493  25.986662  26.045578          NaN\n",
            "2016-12-31  27.490191  27.619805  27.202681  27.294590          NaN\n",
            "2017-01-31  28.550681  28.607239  28.425779  28.597813          NaN\n",
            "2017-02-28  32.444866  32.530073  32.354924  32.423565          NaN\n",
            "2017-03-31  34.016459  34.146637  33.848410  34.002258          NaN\n",
            "2017-04-30  34.104032  34.153737  33.909951  33.999889          NaN\n"
          ]
        }
      ]
    },
    {
      "cell_type": "markdown",
      "metadata": {
        "id": "E-9QskppUsPA"
      },
      "source": [
        "#Ejemplo"
      ]
    },
    {
      "cell_type": "code",
      "metadata": {
        "colab": {
          "base_uri": "https://localhost:8080/"
        },
        "id": "w6AoEXK-UujC",
        "outputId": "bf6c0286-3eb8-4021-afd4-6918f3960cd9"
      },
      "source": [
        "append1 = tsla_bar.append(df_2020)\n",
        "print(append1)"
      ],
      "execution_count": null,
      "outputs": [
        {
          "output_type": "stream",
          "name": "stdout",
          "text": [
            "                  Open        High         Low       Close  rate_return\n",
            "Date                                                                   \n",
            "2020-01-31  128.000000  130.600006  126.503998  130.113998          NaN\n",
            "2020-02-29  125.940002  138.104004  122.304001  133.598007     0.026777\n",
            "2020-03-31  100.250000  108.592003   99.400002  104.800003    -0.215557\n",
            "2020-04-30  171.037994  173.964005  152.699997  156.376007     0.492137\n",
            "2020-05-31  161.750000  167.000000  160.841995  167.000000     0.067939\n",
            "2020-06-30  201.300003  217.537994  200.746002  215.962006     0.293186\n",
            "2020-07-31  303.000000  303.410004  284.196014  286.152008     0.325011\n",
            "2020-08-31  444.609985  500.140015  440.109985  498.320007     0.741452\n",
            "2020-09-30  421.320007  433.929993  420.470001  429.010010    -0.139087\n",
            "2020-10-31  406.899994  407.589996  379.109985  388.040009    -0.095499\n",
            "2020-11-30  602.210022  607.799988  554.510010  567.599976     0.462736\n",
            "2020-12-31  672.000000  696.599976  668.359985  694.780029     0.224066\n",
            "2019-10-31   62.619999   63.799999   62.599998   62.984001          NaN\n",
            "2019-11-30   66.222000   66.251999   65.500000   65.987999          NaN\n",
            "2019-12-31   81.000000   84.258003   80.416000   83.666000          NaN\n",
            "2020-01-31  128.000000  130.600006  126.503998  130.113998          NaN\n",
            "2020-02-29  125.940002  138.104004  122.304001  133.598007          NaN\n",
            "2020-03-31  100.250000  108.592003   99.400002  104.800003          NaN\n",
            "2020-04-30  171.037994  173.964005  152.699997  156.376007          NaN\n"
          ]
        }
      ]
    },
    {
      "cell_type": "markdown",
      "metadata": {
        "id": "zXT6cMquSq_P"
      },
      "source": [
        "'Append' is essentially to concat two DataFrames by axis = 0, thus here is an alternative way to append:"
      ]
    },
    {
      "cell_type": "code",
      "metadata": {
        "colab": {
          "base_uri": "https://localhost:8080/"
        },
        "id": "2EuSaFO9HW-D",
        "outputId": "b758f92c-4202-4d66-a02d-dfca83436996"
      },
      "source": [
        "concat = pd.concat([aapl_bar, df_2017], axis = 0)\n",
        "print(concat)"
      ],
      "execution_count": null,
      "outputs": [
        {
          "output_type": "stream",
          "name": "stdout",
          "text": [
            "                 Open       High        Low      Close  rate_return\n",
            "Date                                                               \n",
            "2016-01-31  21.852384  22.440247  21.750948  22.440247          NaN\n",
            "2016-02-29  22.450759  22.768306  22.402084  22.411356    -0.001287\n",
            "2016-03-31  25.431518  25.473240  25.236817  25.262314     0.127210\n",
            "2016-04-30  21.785529  21.954734  21.442488  21.727583    -0.139921\n",
            "2016-05-31  23.226403  23.412961  23.044510  23.287035     0.071773\n",
            "2016-06-30  22.023108  22.333258  21.990461  22.293615    -0.042660\n",
            "2016-07-31  24.296786  24.380737  24.177855  24.301449     0.090063\n",
            "2016-08-31  24.773058  24.986415  24.768367  24.876219     0.023652\n",
            "2016-09-30  26.367384  26.580743  26.212641  26.505716     0.065504\n",
            "2016-10-31  26.646392  26.782380  26.540884  26.620602     0.004334\n",
            "2016-11-30  26.300095  26.441493  25.986662  26.045578    -0.021601\n",
            "2016-12-31  27.490191  27.619805  27.202681  27.294590     0.047955\n",
            "2016-10-31  26.646392  26.782380  26.540884  26.620602          NaN\n",
            "2016-11-30  26.300095  26.441493  25.986662  26.045578          NaN\n",
            "2016-12-31  27.490191  27.619805  27.202681  27.294590          NaN\n",
            "2017-01-31  28.550681  28.607239  28.425779  28.597813          NaN\n",
            "2017-02-28  32.444866  32.530073  32.354924  32.423565          NaN\n",
            "2017-03-31  34.016459  34.146637  33.848410  34.002258          NaN\n",
            "2017-04-30  34.104032  34.153737  33.909951  33.999889          NaN\n"
          ]
        }
      ]
    },
    {
      "cell_type": "markdown",
      "metadata": {
        "id": "qMau5iX5U3sJ"
      },
      "source": [
        "#Ejemplo"
      ]
    },
    {
      "cell_type": "code",
      "metadata": {
        "colab": {
          "base_uri": "https://localhost:8080/"
        },
        "id": "70D8FWsMU7OJ",
        "outputId": "ddd4dffc-bd90-4704-cf35-8a53d4d45c7c"
      },
      "source": [
        "concat1 = pd.concat([tsla_bar, df_2020], axis = 0)\n",
        "print(concat1)"
      ],
      "execution_count": null,
      "outputs": [
        {
          "output_type": "stream",
          "name": "stdout",
          "text": [
            "                  Open        High         Low       Close  rate_return\n",
            "Date                                                                   \n",
            "2020-01-31  128.000000  130.600006  126.503998  130.113998          NaN\n",
            "2020-02-29  125.940002  138.104004  122.304001  133.598007     0.026777\n",
            "2020-03-31  100.250000  108.592003   99.400002  104.800003    -0.215557\n",
            "2020-04-30  171.037994  173.964005  152.699997  156.376007     0.492137\n",
            "2020-05-31  161.750000  167.000000  160.841995  167.000000     0.067939\n",
            "2020-06-30  201.300003  217.537994  200.746002  215.962006     0.293186\n",
            "2020-07-31  303.000000  303.410004  284.196014  286.152008     0.325011\n",
            "2020-08-31  444.609985  500.140015  440.109985  498.320007     0.741452\n",
            "2020-09-30  421.320007  433.929993  420.470001  429.010010    -0.139087\n",
            "2020-10-31  406.899994  407.589996  379.109985  388.040009    -0.095499\n",
            "2020-11-30  602.210022  607.799988  554.510010  567.599976     0.462736\n",
            "2020-12-31  672.000000  696.599976  668.359985  694.780029     0.224066\n",
            "2019-10-31   62.619999   63.799999   62.599998   62.984001          NaN\n",
            "2019-11-30   66.222000   66.251999   65.500000   65.987999          NaN\n",
            "2019-12-31   81.000000   84.258003   80.416000   83.666000          NaN\n",
            "2020-01-31  128.000000  130.600006  126.503998  130.113998          NaN\n",
            "2020-02-29  125.940002  138.104004  122.304001  133.598007          NaN\n",
            "2020-03-31  100.250000  108.592003   99.400002  104.800003          NaN\n",
            "2020-04-30  171.037994  173.964005  152.699997  156.376007          NaN\n"
          ]
        }
      ]
    },
    {
      "cell_type": "markdown",
      "metadata": {
        "id": "-YXL7V9ASst9"
      },
      "source": [
        "Please note that if the two DataFrame have some columns with the same column names, these columns are considered to be the same and will be merged. It's very important to have the right column names. If we change a column names here:"
      ]
    },
    {
      "cell_type": "code",
      "metadata": {
        "colab": {
          "base_uri": "https://localhost:8080/"
        },
        "id": "aT1eoa8mHW-D",
        "outputId": "376d2573-4f2d-402d-e1f1-ae9474ea92fe"
      },
      "source": [
        "df_2017.columns = ['Change', 'High','Low','Close']\n",
        "concat = pd.concat([aapl_bar, df_2017], axis = 0)\n",
        "print(concat)"
      ],
      "execution_count": null,
      "outputs": [
        {
          "output_type": "stream",
          "name": "stdout",
          "text": [
            "                 Open       High        Low      Close  rate_return     Change\n",
            "Date                                                                          \n",
            "2016-01-31  21.852384  22.440247  21.750948  22.440247          NaN        NaN\n",
            "2016-02-29  22.450759  22.768306  22.402084  22.411356    -0.001287        NaN\n",
            "2016-03-31  25.431518  25.473240  25.236817  25.262314     0.127210        NaN\n",
            "2016-04-30  21.785529  21.954734  21.442488  21.727583    -0.139921        NaN\n",
            "2016-05-31  23.226403  23.412961  23.044510  23.287035     0.071773        NaN\n",
            "2016-06-30  22.023108  22.333258  21.990461  22.293615    -0.042660        NaN\n",
            "2016-07-31  24.296786  24.380737  24.177855  24.301449     0.090063        NaN\n",
            "2016-08-31  24.773058  24.986415  24.768367  24.876219     0.023652        NaN\n",
            "2016-09-30  26.367384  26.580743  26.212641  26.505716     0.065504        NaN\n",
            "2016-10-31  26.646392  26.782380  26.540884  26.620602     0.004334        NaN\n",
            "2016-11-30  26.300095  26.441493  25.986662  26.045578    -0.021601        NaN\n",
            "2016-12-31  27.490191  27.619805  27.202681  27.294590     0.047955        NaN\n",
            "2016-10-31        NaN  26.782380  26.540884  26.620602          NaN  26.646392\n",
            "2016-11-30        NaN  26.441493  25.986662  26.045578          NaN  26.300095\n",
            "2016-12-31        NaN  27.619805  27.202681  27.294590          NaN  27.490191\n",
            "2017-01-31        NaN  28.607239  28.425779  28.597813          NaN  28.550681\n",
            "2017-02-28        NaN  32.530073  32.354924  32.423565          NaN  32.444866\n",
            "2017-03-31        NaN  34.146637  33.848410  34.002258          NaN  34.016459\n",
            "2017-04-30        NaN  34.153737  33.909951  33.999889          NaN  34.104032\n"
          ]
        }
      ]
    },
    {
      "cell_type": "markdown",
      "metadata": {
        "id": "Z9yelJRZVGP1"
      },
      "source": [
        "#Ejemplo"
      ]
    },
    {
      "cell_type": "code",
      "metadata": {
        "colab": {
          "base_uri": "https://localhost:8080/"
        },
        "id": "jUHgi5TMVIgl",
        "outputId": "f319f07d-2d9f-4b80-a7f2-93c7beaf5ea1"
      },
      "source": [
        "df_2020.columns = ['Change', 'High','Low','Close']\n",
        "concat1 = pd.concat([tsla_bar, df_2020], axis = 0)\n",
        "print(concat1)"
      ],
      "execution_count": null,
      "outputs": [
        {
          "output_type": "stream",
          "name": "stdout",
          "text": [
            "                  Open        High  ...  rate_return      Change\n",
            "Date                                ...                         \n",
            "2020-01-31  128.000000  130.600006  ...          NaN         NaN\n",
            "2020-02-29  125.940002  138.104004  ...     0.026777         NaN\n",
            "2020-03-31  100.250000  108.592003  ...    -0.215557         NaN\n",
            "2020-04-30  171.037994  173.964005  ...     0.492137         NaN\n",
            "2020-05-31  161.750000  167.000000  ...     0.067939         NaN\n",
            "2020-06-30  201.300003  217.537994  ...     0.293186         NaN\n",
            "2020-07-31  303.000000  303.410004  ...     0.325011         NaN\n",
            "2020-08-31  444.609985  500.140015  ...     0.741452         NaN\n",
            "2020-09-30  421.320007  433.929993  ...    -0.139087         NaN\n",
            "2020-10-31  406.899994  407.589996  ...    -0.095499         NaN\n",
            "2020-11-30  602.210022  607.799988  ...     0.462736         NaN\n",
            "2020-12-31  672.000000  696.599976  ...     0.224066         NaN\n",
            "2019-10-31         NaN   63.799999  ...          NaN   62.619999\n",
            "2019-11-30         NaN   66.251999  ...          NaN   66.222000\n",
            "2019-12-31         NaN   84.258003  ...          NaN   81.000000\n",
            "2020-01-31         NaN  130.600006  ...          NaN  128.000000\n",
            "2020-02-29         NaN  138.104004  ...          NaN  125.940002\n",
            "2020-03-31         NaN  108.592003  ...          NaN  100.250000\n",
            "2020-04-30         NaN  173.964005  ...          NaN  171.037994\n",
            "\n",
            "[19 rows x 6 columns]\n"
          ]
        }
      ]
    },
    {
      "cell_type": "markdown",
      "metadata": {
        "id": "shbpOFyyS6uV"
      },
      "source": [
        "Since the column name of 'Open' has been changed, the new DataFrame has an new column named 'Change'.\n",
        "\n",
        "# Summary\n",
        "\n",
        "Hereby we introduced the most import part of python: resampling and DataFrame manipulation. We only introduced the most commonly used method in Financial data analysis. There are also many methods used in data mining, which are also beneficial. You can always check the [Pandas](https://pandas.pydata.org/pandas-docs/stable/index.html) official documentations for help."
      ]
    }
  ]
}